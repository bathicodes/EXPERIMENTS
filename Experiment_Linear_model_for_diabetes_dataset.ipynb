{
  "nbformat": 4,
  "nbformat_minor": 0,
  "metadata": {
    "colab": {
      "name": "Experiment: Linear model for diabetes dataset.ipynb",
      "provenance": [],
      "authorship_tag": "ABX9TyPz3qbMidZSu7RNyNvdT5ZZ",
      "include_colab_link": true
    },
    "kernelspec": {
      "name": "python3",
      "display_name": "Python 3"
    },
    "language_info": {
      "name": "python"
    }
  },
  "cells": [
    {
      "cell_type": "markdown",
      "metadata": {
        "id": "view-in-github",
        "colab_type": "text"
      },
      "source": [
        "<a href=\"https://colab.research.google.com/github/bathicodes/EXPERIMENTS/blob/main/Experiment_Linear_model_for_diabetes_dataset.ipynb\" target=\"_parent\"><img src=\"https://colab.research.google.com/assets/colab-badge.svg\" alt=\"Open In Colab\"/></a>"
      ]
    },
    {
      "cell_type": "markdown",
      "source": [
        "# Import libraries"
      ],
      "metadata": {
        "id": "r-GjUxWz-v3T"
      }
    },
    {
      "cell_type": "code",
      "execution_count": 23,
      "metadata": {
        "id": "KfYJhSco-TsS"
      },
      "outputs": [],
      "source": [
        "import numpy as np\n",
        "import pandas as pd\n",
        "import matplotlib.pyplot as plt"
      ]
    },
    {
      "cell_type": "markdown",
      "source": [
        "# Import dataset"
      ],
      "metadata": {
        "id": "p0x7bW-o_Bu_"
      }
    },
    {
      "cell_type": "code",
      "source": [
        "from sklearn import datasets\n",
        "\n",
        "diabetes = datasets.load_diabetes()\n",
        "print(diabetes.DESCR)"
      ],
      "metadata": {
        "colab": {
          "base_uri": "https://localhost:8080/"
        },
        "id": "7MBLCmcS_A95",
        "outputId": "cfd388a2-989c-4fa0-f293-3814c931e14c"
      },
      "execution_count": 24,
      "outputs": [
        {
          "output_type": "stream",
          "name": "stdout",
          "text": [
            ".. _diabetes_dataset:\n",
            "\n",
            "Diabetes dataset\n",
            "----------------\n",
            "\n",
            "Ten baseline variables, age, sex, body mass index, average blood\n",
            "pressure, and six blood serum measurements were obtained for each of n =\n",
            "442 diabetes patients, as well as the response of interest, a\n",
            "quantitative measure of disease progression one year after baseline.\n",
            "\n",
            "**Data Set Characteristics:**\n",
            "\n",
            "  :Number of Instances: 442\n",
            "\n",
            "  :Number of Attributes: First 10 columns are numeric predictive values\n",
            "\n",
            "  :Target: Column 11 is a quantitative measure of disease progression one year after baseline\n",
            "\n",
            "  :Attribute Information:\n",
            "      - age     age in years\n",
            "      - sex\n",
            "      - bmi     body mass index\n",
            "      - bp      average blood pressure\n",
            "      - s1      tc, total serum cholesterol\n",
            "      - s2      ldl, low-density lipoproteins\n",
            "      - s3      hdl, high-density lipoproteins\n",
            "      - s4      tch, total cholesterol / HDL\n",
            "      - s5      ltg, possibly log of serum triglycerides level\n",
            "      - s6      glu, blood sugar level\n",
            "\n",
            "Note: Each of these 10 feature variables have been mean centered and scaled by the standard deviation times `n_samples` (i.e. the sum of squares of each column totals 1).\n",
            "\n",
            "Source URL:\n",
            "https://www4.stat.ncsu.edu/~boos/var.select/diabetes.html\n",
            "\n",
            "For more information see:\n",
            "Bradley Efron, Trevor Hastie, Iain Johnstone and Robert Tibshirani (2004) \"Least Angle Regression,\" Annals of Statistics (with discussion), 407-499.\n",
            "(https://web.stanford.edu/~hastie/Papers/LARS/LeastAngle_2002.pdf)\n"
          ]
        }
      ]
    },
    {
      "cell_type": "markdown",
      "source": [
        "# Feature names"
      ],
      "metadata": {
        "id": "E6zsv741B11r"
      }
    },
    {
      "cell_type": "code",
      "source": [
        "print(diabetes.feature_names)"
      ],
      "metadata": {
        "colab": {
          "base_uri": "https://localhost:8080/"
        },
        "id": "n66UrCG8BCCX",
        "outputId": "257a9bcd-2677-4d1e-a8a0-ff8efb62bb55"
      },
      "execution_count": 25,
      "outputs": [
        {
          "output_type": "stream",
          "name": "stdout",
          "text": [
            "['age', 'sex', 'bmi', 'bp', 's1', 's2', 's3', 's4', 's5', 's6']\n"
          ]
        }
      ]
    },
    {
      "cell_type": "markdown",
      "source": [
        "# Creating X and y matrices"
      ],
      "metadata": {
        "id": "PJOQM5FfCDJl"
      }
    },
    {
      "cell_type": "code",
      "source": [
        "X = diabetes.data\n",
        "y = diabetes.target\n",
        "X.shape, y.shape"
      ],
      "metadata": {
        "colab": {
          "base_uri": "https://localhost:8080/"
        },
        "id": "TIUTiEESB-NQ",
        "outputId": "8dafbb09-040e-441c-8b75-6678abadebf6"
      },
      "execution_count": 26,
      "outputs": [
        {
          "output_type": "execute_result",
          "data": {
            "text/plain": [
              "((442, 10), (442,))"
            ]
          },
          "metadata": {},
          "execution_count": 26
        }
      ]
    },
    {
      "cell_type": "markdown",
      "source": [
        "# Split dataset into train and test set"
      ],
      "metadata": {
        "id": "0At6NkSbDdsj"
      }
    },
    {
      "cell_type": "code",
      "source": [
        "from sklearn.model_selection import train_test_split\n",
        "\n",
        "X_train, X_test, y_train, y_test = train_test_split(X,y,test_size=0.2,random_state=42)"
      ],
      "metadata": {
        "id": "Jy8Rpq4QDdkl"
      },
      "execution_count": 27,
      "outputs": []
    },
    {
      "cell_type": "markdown",
      "source": [
        "# Check training and test set dimensions"
      ],
      "metadata": {
        "id": "t27fdYTeDv8l"
      }
    },
    {
      "cell_type": "code",
      "source": [
        "X_train.shape, y_train.shape"
      ],
      "metadata": {
        "colab": {
          "base_uri": "https://localhost:8080/"
        },
        "id": "mC3nmFa8C_ml",
        "outputId": "e7c04eb9-3334-459d-9d02-0e0a357fc160"
      },
      "execution_count": 28,
      "outputs": [
        {
          "output_type": "execute_result",
          "data": {
            "text/plain": [
              "((353, 10), (353,))"
            ]
          },
          "metadata": {},
          "execution_count": 28
        }
      ]
    },
    {
      "cell_type": "code",
      "source": [
        "X_test.shape, y_test.shape"
      ],
      "metadata": {
        "colab": {
          "base_uri": "https://localhost:8080/"
        },
        "id": "rXvMcqcXD9SF",
        "outputId": "88699a99-579d-4a5b-e3fb-cdc58d5cfe9a"
      },
      "execution_count": 29,
      "outputs": [
        {
          "output_type": "execute_result",
          "data": {
            "text/plain": [
              "((89, 10), (89,))"
            ]
          },
          "metadata": {},
          "execution_count": 29
        }
      ]
    },
    {
      "cell_type": "markdown",
      "source": [
        "# Building linear regression model"
      ],
      "metadata": {
        "id": "kNZNCmC1EJoc"
      }
    },
    {
      "cell_type": "code",
      "source": [
        "from sklearn.linear_model import LinearRegression\n",
        "\n",
        "regressor = LinearRegression()\n",
        "regressor.fit(X_train, y_train)"
      ],
      "metadata": {
        "colab": {
          "base_uri": "https://localhost:8080/"
        },
        "id": "Tb5dq9tlED4t",
        "outputId": "d6b86d1d-2863-4a7d-bdc0-0e72b157055f"
      },
      "execution_count": 30,
      "outputs": [
        {
          "output_type": "execute_result",
          "data": {
            "text/plain": [
              "LinearRegression()"
            ]
          },
          "metadata": {},
          "execution_count": 30
        }
      ]
    },
    {
      "cell_type": "markdown",
      "source": [
        "## Applying trained model to predict on test set"
      ],
      "metadata": {
        "id": "66E3efjpFQq-"
      }
    },
    {
      "cell_type": "code",
      "source": [
        " y_pred = regressor.predict(X_test)"
      ],
      "metadata": {
        "id": "__tp41wZFIzw"
      },
      "execution_count": 31,
      "outputs": []
    },
    {
      "cell_type": "markdown",
      "source": [
        "# Model performance"
      ],
      "metadata": {
        "id": "aXjZLh2ZGAlB"
      }
    },
    {
      "cell_type": "code",
      "source": [
        "from sklearn.metrics import mean_squared_error, r2_score\n",
        "\n",
        "print(f\"Coefficients: {regressor.coef_}\")\n",
        "print(f\"Intercept: {regressor.intercept_}\")\n",
        "print(f\"Mean Squared Error (MSE): {mean_squared_error(y_test, y_pred)} \")\n",
        "print(f\"Coeffiecent of determination (R²): {r2_score(y_test, y_pred):.2f}\")"
      ],
      "metadata": {
        "colab": {
          "base_uri": "https://localhost:8080/"
        },
        "id": "9l4Ag6fZGFye",
        "outputId": "d8567c7a-7499-424d-f836-3783d25c6a37"
      },
      "execution_count": 32,
      "outputs": [
        {
          "output_type": "stream",
          "name": "stdout",
          "text": [
            "Coefficients: [  37.90031426 -241.96624835  542.42575342  347.70830529 -931.46126093\n",
            "  518.04405547  163.40353476  275.31003837  736.18909839   48.67112488]\n",
            "Intercept: 151.3456553477407\n",
            "Mean Squared Error (MSE): 2900.1732878832318 \n",
            "Coeffiecent of determination (R²): 0.45\n"
          ]
        }
      ]
    },
    {
      "cell_type": "markdown",
      "source": [
        "# Check coefficients along side with the features"
      ],
      "metadata": {
        "id": "swjefvleI4GE"
      }
    },
    {
      "cell_type": "code",
      "source": [
        "print(diabetes.feature_names)"
      ],
      "metadata": {
        "colab": {
          "base_uri": "https://localhost:8080/"
        },
        "id": "I06WF2k7IvA1",
        "outputId": "b4f52f0e-b55b-4798-af6a-29c924ccd6c5"
      },
      "execution_count": 33,
      "outputs": [
        {
          "output_type": "stream",
          "name": "stdout",
          "text": [
            "['age', 'sex', 'bmi', 'bp', 's1', 's2', 's3', 's4', 's5', 's6']\n"
          ]
        }
      ]
    },
    {
      "cell_type": "code",
      "source": [
        "print(regressor.coef_)"
      ],
      "metadata": {
        "colab": {
          "base_uri": "https://localhost:8080/"
        },
        "id": "wh_b3bLuKyyO",
        "outputId": "78bb13d1-b5e7-457d-f9dd-8b8a7ada75ca"
      },
      "execution_count": 34,
      "outputs": [
        {
          "output_type": "stream",
          "name": "stdout",
          "text": [
            "[  37.90031426 -241.96624835  542.42575342  347.70830529 -931.46126093\n",
            "  518.04405547  163.40353476  275.31003837  736.18909839   48.67112488]\n"
          ]
        }
      ]
    },
    {
      "cell_type": "markdown",
      "source": [
        "# Making scatter plot"
      ],
      "metadata": {
        "id": "66LMCDsOMcks"
      }
    },
    {
      "cell_type": "code",
      "source": [
        "X_test"
      ],
      "metadata": {
        "colab": {
          "base_uri": "https://localhost:8080/"
        },
        "id": "T3hQ4UytLNZz",
        "outputId": "2b1849a8-4ad8-434f-cd7e-807f3df0487e"
      },
      "execution_count": 35,
      "outputs": [
        {
          "output_type": "execute_result",
          "data": {
            "text/plain": [
              "array([[ 0.04534098, -0.04464164, -0.00620595, -0.01599922,  0.1250187 ,\n",
              "         0.1251981 ,  0.019187  ,  0.03430886,  0.03243323, -0.0052198 ],\n",
              "       [ 0.09256398, -0.04464164,  0.03690653,  0.02187235, -0.02496016,\n",
              "        -0.01665815,  0.00077881, -0.03949338, -0.02251217, -0.02178823],\n",
              "       [ 0.06350368,  0.05068012, -0.00405033, -0.01255635,  0.10300346,\n",
              "         0.04878988,  0.05600338, -0.00259226,  0.08449528, -0.01764613],\n",
              "       [ 0.09619652, -0.04464164,  0.0519959 ,  0.07925353,  0.05484511,\n",
              "         0.03657709, -0.07653559,  0.14132211,  0.09864637,  0.06105391],\n",
              "       [ 0.01264814,  0.05068012, -0.02021751, -0.00222774,  0.03833367,\n",
              "         0.05317395, -0.00658447,  0.03430886, -0.00514531, -0.00936191],\n",
              "       [ 0.0090156 , -0.04464164, -0.02452876, -0.02632783,  0.0988756 ,\n",
              "         0.0941964 ,  0.07072993, -0.00259226, -0.02139368,  0.00720652],\n",
              "       [-0.00914709,  0.05068012,  0.17055523,  0.01498661,  0.03007796,\n",
              "         0.03375875, -0.02131102,  0.03430886,  0.03365681,  0.03205916],\n",
              "       [-0.02367725,  0.05068012,  0.04552903,  0.02187235,  0.10988322,\n",
              "         0.08887288,  0.00077881,  0.03430886,  0.07419254,  0.06105391],\n",
              "       [-0.09269548,  0.05068012, -0.0902753 , -0.05731367, -0.02496016,\n",
              "        -0.03043668, -0.00658447, -0.00259226,  0.02405258,  0.00306441],\n",
              "       [-0.06000263,  0.05068012,  0.01535029, -0.01944209,  0.03695772,\n",
              "         0.04816358,  0.019187  , -0.00259226, -0.03075121, -0.0010777 ],\n",
              "       [-0.04183994, -0.04464164, -0.03315126, -0.02288496,  0.04658939,\n",
              "         0.04158746,  0.05600338, -0.02473293, -0.02595242, -0.03835666],\n",
              "       [ 0.00538306, -0.04464164, -0.05794093, -0.02288496, -0.0676147 ,\n",
              "        -0.06832765, -0.05444576, -0.00259226,  0.04289569, -0.08391984],\n",
              "       [-0.08906294, -0.04464164, -0.06117437, -0.02632783, -0.05523112,\n",
              "        -0.05454912,  0.04127682, -0.0763945 , -0.09393565, -0.05492509],\n",
              "       [ 0.01991321,  0.05068012,  0.01427248,  0.0631868 ,  0.01494247,\n",
              "         0.02029337, -0.04708248,  0.03430886,  0.04666077,  0.09004865],\n",
              "       [-0.01277963,  0.05068012, -0.05578531, -0.00222774, -0.02771206,\n",
              "        -0.02918409,  0.019187  , -0.03949338, -0.0170521 ,  0.04448548],\n",
              "       [-0.03457486,  0.05068012,  0.00564998, -0.00567061, -0.07311851,\n",
              "        -0.06269098, -0.00658447, -0.03949338, -0.04542096,  0.03205916],\n",
              "       [ 0.04170844,  0.05068012,  0.07139652,  0.00810087,  0.03833367,\n",
              "         0.01590929, -0.01762938,  0.03430886,  0.07341008,  0.08590655],\n",
              "       [ 0.06350368,  0.05068012,  0.08864151,  0.07007254,  0.02044629,\n",
              "         0.03751653, -0.05076412,  0.07120998,  0.02930041,  0.07348023],\n",
              "       [-0.03094232,  0.05068012,  0.02828403,  0.07007254, -0.12678067,\n",
              "        -0.10684491, -0.05444576, -0.04798064, -0.03075121,  0.01549073],\n",
              "       [ 0.04897352,  0.05068012,  0.05846277,  0.07007254,  0.01356652,\n",
              "         0.02060651, -0.02131102,  0.03430886,  0.02200405,  0.02791705],\n",
              "       [-0.07090025, -0.04464164,  0.03906215, -0.03321358, -0.01257658,\n",
              "        -0.03450761, -0.02499266, -0.00259226,  0.06773633, -0.01350402],\n",
              "       [ 0.04897352, -0.04464164, -0.04285156, -0.0538708 ,  0.04521344,\n",
              "         0.05004247,  0.03391355, -0.00259226, -0.02595242, -0.0632093 ],\n",
              "       [-0.04183994, -0.04464164, -0.04931844, -0.03665645, -0.00707277,\n",
              "        -0.02260797,  0.08545648, -0.03949338, -0.06648815,  0.00720652],\n",
              "       [ 0.05987114,  0.05068012,  0.02289497,  0.04941532,  0.01631843,\n",
              "         0.01183836, -0.01394774, -0.00259226,  0.03953988,  0.01963284],\n",
              "       [-0.06000263, -0.04464164,  0.04445121, -0.01944209, -0.00982468,\n",
              "        -0.00757685,  0.02286863, -0.03949338, -0.02712865, -0.00936191],\n",
              "       [ 0.04170844,  0.05068012,  0.01427248,  0.04252958, -0.03046397,\n",
              "        -0.00131388, -0.04340085, -0.00259226, -0.03324879,  0.01549073],\n",
              "       [ 0.03081083,  0.05068012,  0.05954058,  0.05630106, -0.02220825,\n",
              "         0.00119131, -0.03235593, -0.00259226, -0.02479119, -0.01764613],\n",
              "       [ 0.03807591,  0.05068012, -0.01806189,  0.06662967, -0.05110326,\n",
              "        -0.01665815, -0.07653559,  0.03430886, -0.01190068, -0.01350402],\n",
              "       [-0.05637009, -0.04464164, -0.07410811, -0.05042793, -0.02496016,\n",
              "        -0.04703355,  0.09281975, -0.0763945 , -0.0611766 , -0.04664087],\n",
              "       [ 0.01628068,  0.05068012, -0.02129532, -0.00911348,  0.03420581,\n",
              "         0.04785043,  0.00077881, -0.00259226, -0.01290794,  0.02377494],\n",
              "       [ 0.02717829, -0.04464164,  0.09295276, -0.05272318,  0.00806271,\n",
              "         0.03970857, -0.02867429,  0.02102446, -0.04836172,  0.01963284],\n",
              "       [-0.10359309, -0.04464164, -0.0374625 , -0.02632783,  0.0025589 ,\n",
              "         0.01998022,  0.01182372, -0.00259226, -0.06832974, -0.02593034],\n",
              "       [-0.00188202,  0.05068012,  0.01427248, -0.07452802,  0.0025589 ,\n",
              "         0.00620169, -0.01394774, -0.00259226,  0.01919903,  0.00306441],\n",
              "       [ 0.02717829,  0.05068012, -0.00620595,  0.0287581 , -0.01670444,\n",
              "        -0.00162703, -0.0581274 ,  0.03430886,  0.02930041,  0.03205916],\n",
              "       [ 0.09619652, -0.04464164,  0.04013997, -0.05731367,  0.04521344,\n",
              "         0.06068952, -0.02131102,  0.03615391,  0.01255315,  0.02377494],\n",
              "       [-0.07816532,  0.05068012,  0.07786339,  0.05285819,  0.07823631,\n",
              "         0.0644473 ,  0.02655027, -0.00259226,  0.04067226, -0.00936191],\n",
              "       [-0.00914709,  0.05068012, -0.03099563, -0.02632783, -0.01120063,\n",
              "        -0.00100073, -0.02131102, -0.00259226,  0.00620932,  0.02791705],\n",
              "       [-0.00188202,  0.05068012, -0.03315126, -0.01829447,  0.03145391,\n",
              "         0.04284006, -0.01394774,  0.01991742,  0.01022564,  0.02791705],\n",
              "       [ 0.06713621,  0.05068012, -0.03099563,  0.004658  ,  0.02457414,\n",
              "         0.03563764, -0.02867429,  0.03430886,  0.02337484,  0.08176444],\n",
              "       [ 0.01991321, -0.04464164, -0.05794093, -0.05731367, -0.00156896,\n",
              "        -0.01258722,  0.07441156, -0.03949338, -0.0611766 , -0.07563562],\n",
              "       [-0.00188202, -0.04464164, -0.06979687, -0.01255635, -0.00019301,\n",
              "        -0.00914259,  0.07072993, -0.03949338, -0.06291295,  0.04034337],\n",
              "       [ 0.06713621,  0.05068012, -0.02991782,  0.05744869, -0.00019301,\n",
              "        -0.01571871,  0.07441156, -0.05056372, -0.03845911,  0.00720652],\n",
              "       [ 0.04170844,  0.05068012, -0.02237314,  0.0287581 , -0.06623874,\n",
              "        -0.04515466, -0.06180903, -0.00259226,  0.00286377, -0.05492509],\n",
              "       [ 0.11072668,  0.05068012, -0.03315126, -0.02288496, -0.00432087,\n",
              "         0.02029337, -0.06180903,  0.07120998,  0.01556684,  0.04448548],\n",
              "       [ 0.04170844, -0.04464164, -0.04500719,  0.03449621,  0.04383748,\n",
              "        -0.01571871,  0.03759519, -0.01440062,  0.08989869,  0.00720652],\n",
              "       [-0.01641217, -0.04464164, -0.03530688, -0.02632783,  0.03282986,\n",
              "         0.01716188,  0.10018303, -0.03949338, -0.07020931, -0.07977773],\n",
              "       [-0.09632802, -0.04464164, -0.03638469, -0.07452802, -0.03871969,\n",
              "        -0.02761835,  0.01550536, -0.03949338, -0.07408887, -0.0010777 ],\n",
              "       [ 0.03081083, -0.04464164, -0.05039625, -0.00222774, -0.0442235 ,\n",
              "        -0.08993489,  0.11859122, -0.0763945 , -0.01811827,  0.00306441],\n",
              "       [-0.02004471, -0.04464164, -0.08488624, -0.02632783, -0.03596778,\n",
              "        -0.03419447,  0.04127682, -0.05167075, -0.08238148, -0.04664087],\n",
              "       [-0.06000263, -0.04464164,  0.00133873, -0.02977071, -0.00707277,\n",
              "        -0.02166853,  0.01182372, -0.00259226,  0.03181522, -0.05492509],\n",
              "       [ 0.00538306, -0.04464164,  0.05846277, -0.04354219, -0.07311851,\n",
              "        -0.07239858,  0.019187  , -0.0763945 , -0.05140054, -0.02593034],\n",
              "       [-0.09632802, -0.04464164, -0.06979687, -0.06764228, -0.01945635,\n",
              "        -0.01070833,  0.01550536, -0.03949338, -0.04687948, -0.07977773],\n",
              "       [ 0.02717829,  0.05068012,  0.01750591, -0.03321358, -0.00707277,\n",
              "         0.04597154, -0.06549067,  0.07120998, -0.09643322, -0.05906719],\n",
              "       [ 0.01991321, -0.04464164, -0.04069594, -0.01599922, -0.00844872,\n",
              "        -0.0175976 ,  0.05232174, -0.03949338, -0.03075121,  0.00306441],\n",
              "       [-0.05273755,  0.05068012, -0.01806189,  0.08040116,  0.08924393,\n",
              "         0.10766179, -0.03971921,  0.1081111 ,  0.03605579, -0.04249877],\n",
              "       [-0.02730979, -0.04464164,  0.06492964, -0.00222774, -0.02496016,\n",
              "        -0.01728445,  0.02286863, -0.03949338, -0.0611766 , -0.0632093 ],\n",
              "       [-0.02367725, -0.04464164, -0.046085  , -0.03321358,  0.03282986,\n",
              "         0.03626394,  0.03759519, -0.00259226, -0.03324879,  0.01134862],\n",
              "       [ 0.03807591,  0.05068012,  0.06169621,  0.02187235, -0.0442235 ,\n",
              "        -0.03482076, -0.04340085, -0.00259226,  0.01990842, -0.01764613],\n",
              "       [-0.02730979, -0.04464164, -0.01806189, -0.04009932, -0.00294491,\n",
              "        -0.01133463,  0.03759519, -0.03949338, -0.00894402, -0.05492509],\n",
              "       [-0.0382074 , -0.04464164, -0.0547075 , -0.0779709 , -0.03321588,\n",
              "        -0.08649026,  0.14068104, -0.0763945 , -0.01919705, -0.0052198 ],\n",
              "       [-0.02367725, -0.04464164,  0.03043966, -0.00567061,  0.08236416,\n",
              "         0.09200436, -0.01762938,  0.07120998,  0.03304707,  0.00306441],\n",
              "       [-0.04183994, -0.04464164,  0.04121778, -0.02632783, -0.03183992,\n",
              "        -0.03043668, -0.03603757,  0.00294291,  0.03365681, -0.01764613],\n",
              "       [-0.06000263,  0.05068012,  0.05415152, -0.01944209, -0.04972731,\n",
              "        -0.04891244,  0.02286863, -0.03949338, -0.0439854 , -0.0052198 ],\n",
              "       [ 0.01628068,  0.05068012, -0.04500719,  0.0631868 ,  0.01081462,\n",
              "        -0.00037443,  0.06336665, -0.03949338, -0.03075121,  0.03620126],\n",
              "       [-0.04183994, -0.04464164, -0.06548562, -0.04009932, -0.00569682,\n",
              "         0.01434355, -0.04340085,  0.03430886,  0.00702686, -0.01350402],\n",
              "       [ 0.07440129, -0.04464164,  0.01858372,  0.0631868 ,  0.06172487,\n",
              "         0.04284006,  0.00814208, -0.00259226,  0.05803913, -0.05906719],\n",
              "       [-0.05273755,  0.05068012, -0.01159501,  0.05630106,  0.05622106,\n",
              "         0.07290231, -0.03971921,  0.07120998,  0.03056649, -0.0052198 ],\n",
              "       [ 0.05260606,  0.05068012, -0.02452876,  0.05630106, -0.00707277,\n",
              "        -0.00507166, -0.02131102, -0.00259226,  0.02671426, -0.03835666],\n",
              "       [-0.10722563, -0.04464164, -0.03422907, -0.06764228, -0.06348684,\n",
              "        -0.07051969,  0.00814208, -0.03949338, -0.00060925, -0.07977773],\n",
              "       [-0.06726771,  0.05068012, -0.01267283, -0.04009932, -0.01532849,\n",
              "         0.00463594, -0.0581274 ,  0.03430886,  0.01919903, -0.03421455],\n",
              "       [-0.07453279,  0.05068012, -0.01806189,  0.00810087, -0.01945635,\n",
              "        -0.02480001, -0.06549067,  0.03430886,  0.06731722, -0.01764613],\n",
              "       [-0.00188202,  0.05068012,  0.03043966,  0.05285819,  0.03970963,\n",
              "         0.05661859, -0.03971921,  0.07120998,  0.02539313,  0.02791705],\n",
              "       [ 0.05987114, -0.04464164, -0.02129532,  0.0872869 ,  0.04521344,\n",
              "         0.03156671, -0.04708248,  0.07120998,  0.07912108,  0.13561183],\n",
              "       [-0.06000263,  0.05068012, -0.0105172 , -0.0148516 , -0.04972731,\n",
              "        -0.02354742, -0.0581274 ,  0.0158583 , -0.00991896, -0.03421455],\n",
              "       [ 0.06713621, -0.04464164, -0.06117437, -0.04009932, -0.02633611,\n",
              "        -0.02448686,  0.03391355, -0.03949338, -0.05615757, -0.05906719],\n",
              "       [ 0.0090156 ,  0.05068012, -0.03961813,  0.0287581 ,  0.03833367,\n",
              "         0.0735286 , -0.07285395,  0.1081111 ,  0.01556684, -0.04664087],\n",
              "       [-0.02730979,  0.05068012,  0.06061839,  0.04941532,  0.08511607,\n",
              "         0.08636769, -0.00290283,  0.03430886,  0.03781448,  0.04862759],\n",
              "       [-0.04547248, -0.04464164,  0.03906215,  0.00121513,  0.01631843,\n",
              "         0.01528299, -0.02867429,  0.02655962,  0.04452837, -0.02593034],\n",
              "       [ 0.04534098,  0.05068012,  0.01966154,  0.03908671,  0.02044629,\n",
              "         0.02593004,  0.00814208, -0.00259226, -0.00330371,  0.01963284],\n",
              "       [ 0.01264814, -0.04464164, -0.02021751, -0.01599922,  0.01219057,\n",
              "         0.02123281, -0.07653559,  0.1081111 ,  0.05988072, -0.02178823],\n",
              "       [-0.0854304 , -0.04464164, -0.00405033, -0.00911348, -0.00294491,\n",
              "         0.00776743,  0.02286863, -0.03949338, -0.0611766 , -0.01350402],\n",
              "       [-0.05637009, -0.04464164, -0.01159501, -0.03321358, -0.0469754 ,\n",
              "        -0.04765985,  0.00446045, -0.03949338, -0.0079794 , -0.08806194],\n",
              "       [-0.04910502, -0.04464164, -0.06440781, -0.10207099, -0.00294491,\n",
              "        -0.01540556,  0.06336665, -0.04724262, -0.03324879, -0.05492509],\n",
              "       [-0.02730979, -0.04464164, -0.06009656, -0.02977071,  0.04658939,\n",
              "         0.01998022,  0.12227286, -0.03949338, -0.05140054, -0.00936191],\n",
              "       [ 0.00175052, -0.04464164, -0.06548562, -0.00567061, -0.00707277,\n",
              "        -0.01947649,  0.04127682, -0.03949338, -0.00330371,  0.00720652],\n",
              "       [ 0.01264814, -0.04464164, -0.02560657, -0.04009932, -0.03046397,\n",
              "        -0.04515466,  0.0780932 , -0.0763945 , -0.07212845,  0.01134862],\n",
              "       [-0.02730979, -0.04464164, -0.06332999, -0.05042793, -0.08962994,\n",
              "        -0.10433972,  0.05232174, -0.0763945 , -0.05615757, -0.06735141],\n",
              "       [-0.02367725, -0.04464164, -0.06979687, -0.06419941, -0.05935898,\n",
              "        -0.05047819,  0.019187  , -0.03949338, -0.08913686, -0.05078298],\n",
              "       [-0.06363517, -0.04464164,  0.03582872, -0.02288496, -0.03046397,\n",
              "        -0.01885019, -0.00658447, -0.00259226, -0.02595242, -0.05492509]])"
            ]
          },
          "metadata": {},
          "execution_count": 35
        }
      ]
    },
    {
      "cell_type": "code",
      "source": [
        "y_test"
      ],
      "metadata": {
        "colab": {
          "base_uri": "https://localhost:8080/"
        },
        "id": "E8aVt78XMfgS",
        "outputId": "7e7c5913-b605-4991-ee07-f5786e79a1aa"
      },
      "execution_count": 36,
      "outputs": [
        {
          "output_type": "execute_result",
          "data": {
            "text/plain": [
              "array([219.,  70., 202., 230., 111.,  84., 242., 272.,  94.,  96.,  94.,\n",
              "       252.,  99., 297., 135.,  67., 295., 264., 170., 275., 310.,  64.,\n",
              "       128., 232., 129., 118., 263.,  77.,  48., 107., 140., 113.,  90.,\n",
              "       164., 180., 233.,  42.,  84., 172.,  63.,  48., 108., 156., 168.,\n",
              "        90.,  52., 200.,  87.,  90., 258., 136., 158.,  69.,  72., 171.,\n",
              "        95.,  72., 151., 168.,  60., 122.,  52., 187., 102., 214., 248.,\n",
              "       181., 110., 140., 202., 101., 222., 281.,  61.,  89.,  91., 186.,\n",
              "       220., 237., 233.,  68., 190.,  96.,  72., 153.,  98.,  37.,  63.,\n",
              "       184.])"
            ]
          },
          "metadata": {},
          "execution_count": 36
        }
      ]
    },
    {
      "cell_type": "markdown",
      "source": [
        "# Making a scatter plot"
      ],
      "metadata": {
        "id": "rCHh88eEMqE0"
      }
    },
    {
      "cell_type": "code",
      "source": [
        "import seaborn as sns\n",
        "\n",
        "sns.scatterplot(y_test, y_pred, alpha=0.5)"
      ],
      "metadata": {
        "colab": {
          "base_uri": "https://localhost:8080/",
          "height": 337
        },
        "id": "LxZLIZ-zMhkU",
        "outputId": "a4297502-2665-49f2-cdee-4671c5718360"
      },
      "execution_count": 37,
      "outputs": [
        {
          "output_type": "stream",
          "name": "stderr",
          "text": [
            "/usr/local/lib/python3.7/dist-packages/seaborn/_decorators.py:43: FutureWarning: Pass the following variables as keyword args: x, y. From version 0.12, the only valid positional argument will be `data`, and passing other arguments without an explicit keyword will result in an error or misinterpretation.\n",
            "  FutureWarning\n"
          ]
        },
        {
          "output_type": "execute_result",
          "data": {
            "text/plain": [
              "<matplotlib.axes._subplots.AxesSubplot at 0x7fb37db4ec50>"
            ]
          },
          "metadata": {},
          "execution_count": 37
        },
        {
          "output_type": "display_data",
          "data": {
            "text/plain": [
              "<Figure size 432x288 with 1 Axes>"
            ],
            "image/png": "[encoded data removed]"
          },
          "metadata": {
            "needs_background": "light"
          }
        }
      ]
    },
    {
      "cell_type": "markdown",
      "source": [
        "# Conducting K-Fold Cross validation"
      ],
      "metadata": {
        "id": "QPXzWcWQOBay"
      }
    },
    {
      "cell_type": "code",
      "source": [
        "from sklearn.model_selection import cross_val_score \n",
        "\n",
        "scores = cross_val_score(regressor,X,y,cv=10)\n",
        "print(scores.mean()*100)"
      ],
      "metadata": {
        "colab": {
          "base_uri": "https://localhost:8080/"
        },
        "id": "VL9dqTZmM6Ej",
        "outputId": "d7832afc-a0d9-4279-cf62-42903f896af0"
      },
      "execution_count": 41,
      "outputs": [
        {
          "output_type": "stream",
          "name": "stdout",
          "text": [
            "46.1962361958337\n"
          ]
        }
      ]
    }
  ]
}