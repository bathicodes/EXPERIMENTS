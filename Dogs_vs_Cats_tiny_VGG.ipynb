{
  "cells": [
    {
      "cell_type": "markdown",
      "metadata": {
        "id": "view-in-github",
        "colab_type": "text"
      },
      "source": [
        "<a href=\"https://colab.research.google.com/github/bathicodes/EXPERIMENTS/blob/main/Dogs_vs_Cats_tiny_VGG.ipynb\" target=\"_parent\"><img src=\"https://colab.research.google.com/assets/colab-badge.svg\" alt=\"Open In Colab\"/></a>"
      ]
    },
    {
      "cell_type": "markdown",
      "metadata": {
        "id": "5CID795G1E67"
      },
      "source": [
        "# Check GPU Status"
      ]
    },
    {
      "cell_type": "code",
      "execution_count": null,
      "metadata": {
        "id": "TKyqVmWh0sOA"
      },
      "outputs": [],
      "source": [
        "!nvidia-smi"
      ]
    },
    {
      "cell_type": "markdown",
      "metadata": {
        "id": "gzPHaA7F1Ho2"
      },
      "source": [
        "# Import dataset from Google drive"
      ]
    },
    {
      "cell_type": "code",
      "execution_count": null,
      "metadata": {
        "id": "Q4yZAp1z1McJ"
      },
      "outputs": [],
      "source": [
        "from google.colab import drive\n",
        "drive.mount('/content/drive')\n",
        "\n",
        "train_path = '/content/drive/MyDrive/Machine Learning/ML Reboot/CNN with dataset/dataset/training_set'\n",
        "test_path = '/content/drive/MyDrive/Machine Learning/ML Reboot/CNN with dataset/dataset/test_set'"
      ]
    },
    {
      "cell_type": "markdown",
      "metadata": {
        "id": "kusU8Diw9Axv"
      },
      "source": [
        "# Import libraries"
      ]
    },
    {
      "cell_type": "code",
      "execution_count": null,
      "metadata": {
        "id": "_VjX3boQ9C_n"
      },
      "outputs": [],
      "source": [
        "import tensorflow as tf\n",
        "from keras.preprocessing.image import ImageDataGenerator"
      ]
    },
    {
      "cell_type": "markdown",
      "metadata": {
        "id": "9QfcxQzcA13Z"
      },
      "source": [
        "# Creating augmented data generators"
      ]
    },
    {
      "cell_type": "code",
      "execution_count": null,
      "metadata": {
        "id": "nz-vHh5TA7lq"
      },
      "outputs": [],
      "source": [
        "train_datagen = ImageDataGenerator(\n",
        "    rescale=1/255.,\n",
        "    shear_range=0.2,\n",
        "    zoom_range=0.2,\n",
        "    width_shift_range=0.2,\n",
        "    height_shift_range=0.2,\n",
        "    horizontal_flip=True\n",
        ")\n",
        "\n",
        "test_datagen = ImageDataGenerator(\n",
        "    rescale=1/255\n",
        ")"
      ]
    },
    {
      "cell_type": "markdown",
      "metadata": {
        "id": "Vw6yNEpxCXwM"
      },
      "source": [
        "# Pre-processing data"
      ]
    },
    {
      "cell_type": "code",
      "execution_count": null,
      "metadata": {
        "id": "zVx-v5mpDCSi"
      },
      "outputs": [],
      "source": [
        "training_data = train_datagen.flow_from_directory(\n",
        "    train_path,\n",
        "    target_size=(64,64),\n",
        "    class_mode='binary',\n",
        "    batch_size=32\n",
        ")\n",
        "\n",
        "test_data = test_datagen.flow_from_directory(\n",
        "    test_path,\n",
        "    target_size=(64,64),\n",
        "    class_mode='binary',\n",
        "    batch_size=32\n",
        ")"
      ]
    },
    {
      "cell_type": "markdown",
      "metadata": {
        "id": "7qbAB5fCcxL_"
      },
      "source": [
        "# Model 1 (baseline model)"
      ]
    },
    {
      "cell_type": "markdown",
      "metadata": {
        "id": "G3hfJR5WWwf_"
      },
      "source": [
        "## Creating baseline model"
      ]
    },
    {
      "cell_type": "code",
      "execution_count": null,
      "metadata": {
        "id": "f33MkXTuWzLG"
      },
      "outputs": [],
      "source": [
        "# create the model \n",
        "model_1 = tf.keras.models.Sequential()\n",
        "\n",
        "model_1.add(tf.keras.layers.Conv2D(filters=10, kernel_size=3, activation=\"relu\", input_shape=(64,64,3)))\n",
        "model_1.add(tf.keras.layers.MaxPool2D(pool_size=2, strides=2))\n",
        "\n",
        "model_1.add(tf.keras.layers.Conv2D(filters=10, kernel_size=3, activation=\"relu\"))\n",
        "model_1.add(tf.keras.layers.MaxPool2D(pool_size=2, strides=2))\n",
        "\n",
        "model_1.add(tf.keras.layers.Flatten())\n",
        "\n",
        "model_1.add(tf.keras.layers.Dense(units=1, activation=\"sigmoid\"))"
      ]
    },
    {
      "cell_type": "code",
      "execution_count": null,
      "metadata": {
        "id": "nAX9dFMxX6yK"
      },
      "outputs": [],
      "source": [
        "# compile the model\n",
        "model_1.compile(loss=\"binary_crossentropy\",\n",
        "                optimizer=\"Adam\",\n",
        "                metrics=[\"accuracy\"])"
      ]
    },
    {
      "cell_type": "code",
      "execution_count": null,
      "metadata": {
        "colab": {
          "background_save": true
        },
        "id": "iFjpw7_MYKlQ"
      },
      "outputs": [],
      "source": [
        "# fit the model\n",
        "history_1 = model_1.fit(training_data,\n",
        "            epochs=5,\n",
        "            steps_per_epoch=len(training_data),\n",
        "            validation_data=test_data,\n",
        "            validation_steps=len(test_data))"
      ]
    },
    {
      "cell_type": "markdown",
      "metadata": {
        "id": "XK5yoc3d46hY"
      },
      "source": [
        "## Plot loss curves"
      ]
    },
    {
      "cell_type": "code",
      "execution_count": null,
      "metadata": {
        "colab": {
          "background_save": true
        },
        "id": "qJwaJaGe46Bs"
      },
      "outputs": [],
      "source": [
        "import pandas as pd\n",
        "import matplotlib.pyplot as plt\n",
        "\n",
        "# plot the validation and training curves seperately\n",
        "\n",
        "def plot_loss_curves(history):\n",
        "  \"\"\"\n",
        "  Returns seperate loss curves for training and validation metrics\n",
        "  \"\"\"\n",
        "\n",
        "  loss = history.history[\"loss\"]\n",
        "  val_loss = history.history[\"val_loss\"]\n",
        "\n",
        "  accuracy = history.history[\"accuracy\"]\n",
        "  val_accuracy = history.history[\"val_accuracy\"]\n",
        "\n",
        "  epochs = range(len(history.history[\"loss\"]))\n",
        "\n",
        "  # plot loss\n",
        "  plt.plot(epochs, loss, label=\"training_loss\")\n",
        "  plt.plot(epochs, val_loss, label=\"val_loss\")\n",
        "  plt.title(\"loss\")\n",
        "  plt.xlabel(\"epochs\")\n",
        "  plt.legend()\n",
        "\n",
        "  # plot accuracy\n",
        "  plt.figure()\n",
        "  plt.plot(epochs, accuracy, label=\"training_accuracy\")\n",
        "  plt.plot(epochs, val_accuracy, label=\"val_accuracy\")\n",
        "  plt.title(\"accuracy\")\n",
        "  plt.xlabel(\"epochs\")\n",
        "  plt.legend()"
      ]
    },
    {
      "cell_type": "code",
      "execution_count": null,
      "metadata": {
        "colab": {
          "background_save": true
        },
        "id": "gvjoa0RQ5dwJ"
      },
      "outputs": [],
      "source": [
        "plot_loss_curves(history_1)"
      ]
    },
    {
      "cell_type": "markdown",
      "metadata": {
        "id": "M45Sk4OS5pw7"
      },
      "source": [
        "## Evaluate baseline model"
      ]
    },
    {
      "cell_type": "code",
      "execution_count": null,
      "metadata": {
        "colab": {
          "background_save": true
        },
        "id": "cNWwug9A5sTv"
      },
      "outputs": [],
      "source": [
        "model_1.evaluate(test_data)"
      ]
    },
    {
      "cell_type": "markdown",
      "metadata": {
        "id": "_eH5fAjzc8P3"
      },
      "source": [
        "# Model 2 - improving the baseline model\n",
        "\n",
        "Adding more layers (Dense layer with 128 neurons)"
      ]
    },
    {
      "cell_type": "markdown",
      "metadata": {
        "id": "D7diDHBidhmI"
      },
      "source": [
        "## Creating the model 2"
      ]
    },
    {
      "cell_type": "code",
      "execution_count": null,
      "metadata": {
        "colab": {
          "background_save": true
        },
        "id": "XbVDZsLZdEqx"
      },
      "outputs": [],
      "source": [
        "# create the model 2\n",
        "model_2 = tf.keras.models.Sequential()\n",
        "\n",
        "model_2.add(tf.keras.layers.Conv2D(filters=10, kernel_size=3, activation=\"relu\", input_shape=(64,64,3)))\n",
        "model_2.add(tf.keras.layers.MaxPool2D(pool_size=2, strides=2))\n",
        "\n",
        "model_2.add(tf.keras.layers.Conv2D(filters=10, kernel_size=3, activation=\"relu\"))\n",
        "model_2.add(tf.keras.layers.MaxPool2D(pool_size=2, strides=2))\n",
        "\n",
        "model_2.add(tf.keras.layers.Flatten())\n",
        "\n",
        "model_2.add(tf.keras.layers.Dense(units=128, activation=\"relu\"))\n",
        "model_2.add(tf.keras.layers.Dense(units=1, activation=\"sigmoid\"))"
      ]
    },
    {
      "cell_type": "code",
      "execution_count": null,
      "metadata": {
        "colab": {
          "background_save": true
        },
        "id": "KigFNGuXevPa"
      },
      "outputs": [],
      "source": [
        "# compile the model 2\n",
        "model_2.compile(loss=\"binary_crossentropy\",\n",
        "                optimizer=\"Adam\",\n",
        "                metrics=[\"accuracy\"])"
      ]
    },
    {
      "cell_type": "code",
      "execution_count": null,
      "metadata": {
        "colab": {
          "background_save": true
        },
        "id": "QXOvkNyRe7l3"
      },
      "outputs": [],
      "source": [
        "# fit the model 2\n",
        "history_2 = model_2.fit(training_data,\n",
        "            epochs=5,\n",
        "            steps_per_epoch=len(training_data),\n",
        "            validation_data=test_data,\n",
        "            validation_steps=len(test_data))"
      ]
    },
    {
      "cell_type": "markdown",
      "metadata": {
        "id": "GboIaEoPgoow"
      },
      "source": [
        "## Plot loss curves"
      ]
    },
    {
      "cell_type": "code",
      "execution_count": null,
      "metadata": {
        "colab": {
          "background_save": true
        },
        "id": "KLTLeGI7gsYe"
      },
      "outputs": [],
      "source": [
        "plot_loss_curves(history_2)"
      ]
    },
    {
      "cell_type": "markdown",
      "metadata": {
        "id": "AHJnuhfxgyGO"
      },
      "source": [
        "## Evaluate the model 2"
      ]
    },
    {
      "cell_type": "code",
      "execution_count": null,
      "metadata": {
        "colab": {
          "background_save": true
        },
        "id": "eIUtJn4ng2Wj"
      },
      "outputs": [],
      "source": [
        "model_2.evaluate(test_data)"
      ]
    },
    {
      "cell_type": "markdown",
      "metadata": {
        "id": "NB21REABmYqV"
      },
      "source": [
        "# Model 3 - Improvement for the model 2\n",
        "Adding more filters to the Conv2D layers"
      ]
    },
    {
      "cell_type": "markdown",
      "metadata": {
        "id": "1wk_ORptmtZ-"
      },
      "source": [
        "## Creating model 3"
      ]
    },
    {
      "cell_type": "code",
      "execution_count": null,
      "metadata": {
        "colab": {
          "background_save": true
        },
        "id": "MZBS2gNumoJj"
      },
      "outputs": [],
      "source": [
        "# create the model 3\n",
        "model_3 = tf.keras.models.Sequential()\n",
        "\n",
        "model_3.add(tf.keras.layers.Conv2D(filters=16, kernel_size=3, activation=\"relu\", input_shape=(64,64,3)))\n",
        "model_3.add(tf.keras.layers.MaxPool2D(pool_size=2, strides=2))\n",
        "\n",
        "model_3.add(tf.keras.layers.Conv2D(filters=16, kernel_size=3, activation=\"relu\"))\n",
        "model_3.add(tf.keras.layers.MaxPool2D(pool_size=2, strides=2))\n",
        "\n",
        "model_3.add(tf.keras.layers.Flatten())\n",
        "\n",
        "model_3.add(tf.keras.layers.Dense(units=128, activation=\"relu\"))\n",
        "model_3.add(tf.keras.layers.Dense(units=1, activation=\"sigmoid\"))"
      ]
    },
    {
      "cell_type": "code",
      "execution_count": null,
      "metadata": {
        "colab": {
          "background_save": true
        },
        "id": "yd8-CH5om5XY"
      },
      "outputs": [],
      "source": [
        "# compile model 3\n",
        "model_3.compile(loss=\"binary_crossentropy\",\n",
        "                optimizer=\"Adam\",\n",
        "                metrics=[\"accuracy\"])"
      ]
    },
    {
      "cell_type": "code",
      "execution_count": 20,
      "metadata": {
        "id": "KheaMdu_nNwk",
        "colab": {
          "base_uri": "https://localhost:8080/"
        },
        "outputId": "e0329912-8ac0-422a-d63d-fe6c48637078"
      },
      "outputs": [
        {
          "output_type": "stream",
          "name": "stdout",
          "text": [
            "Epoch 1/5\n",
            "251/251 [==============================] - 44s 172ms/step - loss: 0.6831 - accuracy: 0.5627 - val_loss: 0.6491 - val_accuracy: 0.6205\n",
            "Epoch 2/5\n",
            "251/251 [==============================] - 43s 172ms/step - loss: 0.6531 - accuracy: 0.6222 - val_loss: 0.6568 - val_accuracy: 0.6260\n",
            "Epoch 3/5\n",
            "251/251 [==============================] - 43s 171ms/step - loss: 0.6314 - accuracy: 0.6489 - val_loss: 0.6510 - val_accuracy: 0.6285\n",
            "Epoch 4/5\n",
            "251/251 [==============================] - 43s 173ms/step - loss: 0.6093 - accuracy: 0.6704 - val_loss: 0.5692 - val_accuracy: 0.7185\n",
            "Epoch 5/5\n",
            "251/251 [==============================] - 43s 172ms/step - loss: 0.5903 - accuracy: 0.6812 - val_loss: 0.6302 - val_accuracy: 0.6705\n"
          ]
        }
      ],
      "source": [
        "# fit the model 3\n",
        "history_3 = model_3.fit(training_data,\n",
        "            epochs=5,\n",
        "            steps_per_epoch=len(training_data),\n",
        "            validation_data=test_data,\n",
        "            validation_steps=len(test_data))"
      ]
    },
    {
      "cell_type": "markdown",
      "metadata": {
        "id": "NMsRq7xznP-4"
      },
      "source": [
        "## Plot loss curves"
      ]
    },
    {
      "cell_type": "code",
      "execution_count": 21,
      "metadata": {
        "id": "_Os4F2WAnR_i",
        "colab": {
          "base_uri": "https://localhost:8080/",
          "height": 573
        },
        "outputId": "e2d53011-5f13-4288-953e-14e55e4a49a7"
      },
      "outputs": [
        {
          "output_type": "display_data",
          "data": {
            "text/plain": [
              "<Figure size 432x288 with 1 Axes>"
            ],
            "image/png": "[encoded data removed]"
          },
          "metadata": {
            "needs_background": "light"
          }
        },
        {
          "output_type": "display_data",
          "data": {
            "text/plain": [
              "<Figure size 432x288 with 1 Axes>"
            ],
            "image/png": "[encoded data removed]"
          },
          "metadata": {
            "needs_background": "light"
          }
        }
      ],
      "source": [
        "plot_loss_curves(history_3)"
      ]
    },
    {
      "cell_type": "markdown",
      "metadata": {
        "id": "X_-TwM6snVx2"
      },
      "source": [
        "## Evaluate the model 3"
      ]
    },
    {
      "cell_type": "code",
      "execution_count": 22,
      "metadata": {
        "id": "t4mwSiWTnYCh",
        "colab": {
          "base_uri": "https://localhost:8080/"
        },
        "outputId": "57da56f6-9f0c-446e-e47a-a3885923b59f"
      },
      "outputs": [
        {
          "output_type": "stream",
          "name": "stdout",
          "text": [
            "63/63 [==============================] - 7s 109ms/step - loss: 0.6302 - accuracy: 0.6705\n"
          ]
        },
        {
          "output_type": "execute_result",
          "data": {
            "text/plain": [
              "[0.6301820874214172, 0.6704999804496765]"
            ]
          },
          "metadata": {},
          "execution_count": 22
        }
      ],
      "source": [
        "model_3.evaluate(test_data)"
      ]
    },
    {
      "cell_type": "markdown",
      "metadata": {
        "id": "ZtpHMCMnpbt-"
      },
      "source": [
        "# Model 4 - adding more epochs\n",
        "model 3 seems overfitting therefore adding more epochs to the model."
      ]
    },
    {
      "cell_type": "markdown",
      "metadata": {
        "id": "F7gIenyBpyf1"
      },
      "source": [
        "## creating model 4"
      ]
    },
    {
      "cell_type": "code",
      "execution_count": 23,
      "metadata": {
        "id": "YatFxV8fpxx1"
      },
      "outputs": [],
      "source": [
        "# create the model 4\n",
        "model_4 = tf.keras.models.Sequential()\n",
        "\n",
        "model_4.add(tf.keras.layers.Conv2D(filters=16, kernel_size=3, activation=\"relu\", input_shape=(64,64,3)))\n",
        "model_4.add(tf.keras.layers.MaxPool2D(pool_size=2, strides=2))\n",
        "\n",
        "model_4.add(tf.keras.layers.Conv2D(filters=16, kernel_size=3, activation=\"relu\"))\n",
        "model_4.add(tf.keras.layers.MaxPool2D(pool_size=2, strides=2))\n",
        "\n",
        "model_4.add(tf.keras.layers.Flatten())\n",
        "\n",
        "model_4.add(tf.keras.layers.Dense(units=128, activation=\"relu\"))\n",
        "model_4.add(tf.keras.layers.Dense(units=1, activation=\"sigmoid\"))"
      ]
    },
    {
      "cell_type": "code",
      "execution_count": 24,
      "metadata": {
        "id": "_XsBcU9Qp8xE"
      },
      "outputs": [],
      "source": [
        "# compile model 4\n",
        "model_4.compile(loss=\"binary_crossentropy\",\n",
        "                optimizer=\"Adam\",\n",
        "                metrics=[\"accuracy\"])"
      ]
    },
    {
      "cell_type": "code",
      "execution_count": null,
      "metadata": {
        "id": "uvpHoTEBqC_g",
        "colab": {
          "base_uri": "https://localhost:8080/"
        },
        "outputId": "54ca96f1-258f-413a-caff-90c712e5c19d"
      },
      "outputs": [
        {
          "output_type": "stream",
          "name": "stdout",
          "text": [
            "Epoch 1/25\n",
            "251/251 [==============================] - 44s 172ms/step - loss: 0.6863 - accuracy: 0.5478 - val_loss: 0.6632 - val_accuracy: 0.6375\n",
            "Epoch 2/25\n",
            "149/251 [================>.............] - ETA: 14s - loss: 0.6657 - accuracy: 0.5993"
          ]
        }
      ],
      "source": [
        "# fit the model 4\n",
        "history_4 = model_4.fit(training_data,\n",
        "            epochs=25,\n",
        "            steps_per_epoch=len(training_data),\n",
        "            validation_data=test_data,\n",
        "            validation_steps=len(test_data))"
      ]
    },
    {
      "cell_type": "markdown",
      "metadata": {
        "id": "QlvZtSbyqKLn"
      },
      "source": [
        "## Plot loss curves"
      ]
    },
    {
      "cell_type": "code",
      "execution_count": null,
      "metadata": {
        "id": "yH3aWbydqNdV"
      },
      "outputs": [],
      "source": [
        "plot_loss_curves(history_4)"
      ]
    },
    {
      "cell_type": "markdown",
      "metadata": {
        "id": "gdfGpOwlqR60"
      },
      "source": [
        "##Evaluate model 4"
      ]
    },
    {
      "cell_type": "code",
      "execution_count": null,
      "metadata": {
        "id": "a9dQRhO0qVAN"
      },
      "outputs": [],
      "source": [
        "model_4.evaluate(test_data)"
      ]
    },
    {
      "cell_type": "markdown",
      "metadata": {
        "id": "pFlG0JHby_09"
      },
      "source": [
        "# Model 5 - Improvment for the model 4\n",
        "adding more filters to the second Conv2D layer."
      ]
    },
    {
      "cell_type": "markdown",
      "metadata": {
        "id": "uUDhPlM6zMu1"
      },
      "source": [
        "## creating model 5"
      ]
    },
    {
      "cell_type": "code",
      "execution_count": null,
      "metadata": {
        "id": "uAy4bqTKzMUI"
      },
      "outputs": [],
      "source": [
        "# create the model 5\n",
        "model_5 = tf.keras.models.Sequential()\n",
        "\n",
        "model_5.add(tf.keras.layers.Conv2D(filters=16, kernel_size=3, activation=\"relu\", input_shape=(64,64,3)))\n",
        "model_5.add(tf.keras.layers.MaxPool2D(pool_size=2, strides=2))\n",
        "\n",
        "model_5.add(tf.keras.layers.Conv2D(filters=32, kernel_size=3, activation=\"relu\"))\n",
        "model_5.add(tf.keras.layers.MaxPool2D(pool_size=2, strides=2))\n",
        "\n",
        "model_5.add(tf.keras.layers.Flatten())\n",
        "\n",
        "model_5.add(tf.keras.layers.Dense(units=128, activation=\"relu\"))\n",
        "model_5.add(tf.keras.layers.Dense(units=1, activation=\"sigmoid\"))"
      ]
    },
    {
      "cell_type": "code",
      "execution_count": null,
      "metadata": {
        "id": "eCV0K5l0zaB-"
      },
      "outputs": [],
      "source": [
        "# compile model 5\n",
        "model_5.compile(loss=\"binary_crossentropy\",\n",
        "                optimizer=\"Adam\",\n",
        "                metrics=[\"accuracy\"])"
      ]
    },
    {
      "cell_type": "code",
      "execution_count": null,
      "metadata": {
        "id": "-PCAJpYfzad6"
      },
      "outputs": [],
      "source": [
        "# fit the model 5\n",
        "history_5 = model_5.fit(training_data,\n",
        "            epochs=25,\n",
        "            steps_per_epoch=len(training_data),\n",
        "            validation_data=test_data,\n",
        "            validation_steps=len(test_data))"
      ]
    },
    {
      "cell_type": "markdown",
      "metadata": {
        "id": "q0D65Ct0zPip"
      },
      "source": [
        "## Plot loss curves"
      ]
    },
    {
      "cell_type": "code",
      "execution_count": null,
      "metadata": {
        "id": "DOWfFusgzR3u"
      },
      "outputs": [],
      "source": [
        "plot_loss_curves(history_5)"
      ]
    },
    {
      "cell_type": "markdown",
      "metadata": {
        "id": "qAwkkfKszSiv"
      },
      "source": [
        "## Evaluate model 5"
      ]
    },
    {
      "cell_type": "code",
      "execution_count": null,
      "metadata": {
        "id": "CkxDv783zxDz"
      },
      "outputs": [],
      "source": [
        "model_5.evaluate(test_data)"
      ]
    },
    {
      "cell_type": "markdown",
      "metadata": {
        "id": "bJ4r1oTIIZko"
      },
      "source": [
        "# Model 6 - Imporvment for model 5\n",
        "Adding more convolutional and maxpool layer"
      ]
    },
    {
      "cell_type": "markdown",
      "metadata": {
        "id": "7qO5fvd5IkY-"
      },
      "source": [
        "## Creating the model"
      ]
    },
    {
      "cell_type": "code",
      "execution_count": null,
      "metadata": {
        "id": "nRxA1prnImwn"
      },
      "outputs": [],
      "source": [
        "# create the model 6\n",
        "model_6 = tf.keras.models.Sequential()\n",
        "\n",
        "model_6.add(tf.keras.layers.Conv2D(filters=16, kernel_size=3, activation=\"relu\", input_shape=(64,64,3)))\n",
        "model_6.add(tf.keras.layers.MaxPool2D(pool_size=2, strides=2))\n",
        "\n",
        "model_6.add(tf.keras.layers.Conv2D(filters=32, kernel_size=3, activation=\"relu\"))\n",
        "model_6.add(tf.keras.layers.MaxPool2D(pool_size=2, strides=2))\n",
        "\n",
        "model_6.add(tf.keras.layers.Conv2D(filters=32, kernel_size=3, activation=\"relu\"))\n",
        "model_6.add(tf.keras.layers.MaxPool2D(pool_size=2, strides=2))\n",
        "\n",
        "model_6.add(tf.keras.layers.Flatten())\n",
        "\n",
        "model_6.add(tf.keras.layers.Dense(units=128, activation=\"relu\"))\n",
        "model_6.add(tf.keras.layers.Dense(units=1, activation=\"sigmoid\"))"
      ]
    },
    {
      "cell_type": "code",
      "execution_count": null,
      "metadata": {
        "id": "-RoWq3FdInP1"
      },
      "outputs": [],
      "source": [
        "# compile model 6\n",
        "model_6.compile(loss=\"binary_crossentropy\",\n",
        "                optimizer=\"Adam\",\n",
        "                metrics=[\"accuracy\"])"
      ]
    },
    {
      "cell_type": "code",
      "execution_count": null,
      "metadata": {
        "id": "bT_nZildInln"
      },
      "outputs": [],
      "source": [
        "# fit the model 6\n",
        "history_6 = model_6.fit(training_data,\n",
        "            epochs=25,\n",
        "            steps_per_epoch=len(training_data),\n",
        "            validation_data=test_data,\n",
        "            validation_steps=len(test_data))"
      ]
    },
    {
      "cell_type": "markdown",
      "metadata": {
        "id": "jcbE-SCDIpzR"
      },
      "source": [
        "## Plot loss curves"
      ]
    },
    {
      "cell_type": "code",
      "execution_count": null,
      "metadata": {
        "id": "Qj8w2vHqIpgX"
      },
      "outputs": [],
      "source": [
        "plot_loss_curves(history_6)"
      ]
    },
    {
      "cell_type": "markdown",
      "metadata": {
        "id": "lyXxWCnPIuto"
      },
      "source": [
        "## Evaluate the model 5"
      ]
    },
    {
      "cell_type": "code",
      "execution_count": null,
      "metadata": {
        "id": "WOAfTIAaIzya"
      },
      "outputs": [],
      "source": [
        "model_6.evaluate(test_data)"
      ]
    }
  ],
  "metadata": {
    "accelerator": "GPU",
    "colab": {
      "toc_visible": true,
      "provenance": [],
      "authorship_tag": "ABX9TyP+J4JwyMKmLv6DT8Kiyx/E",
      "include_colab_link": true
    },
    "gpuClass": "standard",
    "kernelspec": {
      "display_name": "Python 3",
      "name": "python3"
    },
    "language_info": {
      "name": "python"
    }
  },
  "nbformat": 4,
  "nbformat_minor": 0
}