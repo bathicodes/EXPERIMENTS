{
  "nbformat": 4,
  "nbformat_minor": 0,
  "metadata": {
    "colab": {
      "provenance": [],
      "toc_visible": true,
      "authorship_tag": "ABX9TyP7uabwX85ecSy0iRBEaufW",
      "include_colab_link": true
    },
    "kernelspec": {
      "name": "python3",
      "display_name": "Python 3"
    },
    "language_info": {
      "name": "python"
    },
    "accelerator": "GPU",
    "gpuClass": "standard"
  },
  "cells": [
    {
      "cell_type": "markdown",
      "metadata": {
        "id": "view-in-github",
        "colab_type": "text"
      },
      "source": [
        "<a href=\"https://colab.research.google.com/github/bathicodes/EXPERIMENTS/blob/main/Dogs_vs_Cats_tiny_VGG.ipynb\" target=\"_parent\"><img src=\"https://colab.research.google.com/assets/colab-badge.svg\" alt=\"Open In Colab\"/></a>"
      ]
    },
    {
      "cell_type": "markdown",
      "source": [
        "# Check GPU Status"
      ],
      "metadata": {
        "id": "5CID795G1E67"
      }
    },
    {
      "cell_type": "code",
      "execution_count": 1,
      "metadata": {
        "id": "TKyqVmWh0sOA",
        "colab": {
          "base_uri": "https://localhost:8080/"
        },
        "outputId": "e980dc8f-32cf-4e45-cfa4-f101a2cfeede"
      },
      "outputs": [
        {
          "output_type": "stream",
          "name": "stdout",
          "text": [
            "Wed Sep  7 15:00:48 2022       \n",
            "+-----------------------------------------------------------------------------+\n",
            "| NVIDIA-SMI 460.32.03    Driver Version: 460.32.03    CUDA Version: 11.2     |\n",
            "|-------------------------------+----------------------+----------------------+\n",
            "| GPU  Name        Persistence-M| Bus-Id        Disp.A | Volatile Uncorr. ECC |\n",
            "| Fan  Temp  Perf  Pwr:Usage/Cap|         Memory-Usage | GPU-Util  Compute M. |\n",
            "|                               |                      |               MIG M. |\n",
            "|===============================+======================+======================|\n",
            "|   0  Tesla T4            Off  | 00000000:00:04.0 Off |                    0 |\n",
            "| N/A   51C    P8     9W /  70W |      0MiB / 15109MiB |      0%      Default |\n",
            "|                               |                      |                  N/A |\n",
            "+-------------------------------+----------------------+----------------------+\n",
            "                                                                               \n",
            "+-----------------------------------------------------------------------------+\n",
            "| Processes:                                                                  |\n",
            "|  GPU   GI   CI        PID   Type   Process name                  GPU Memory |\n",
            "|        ID   ID                                                   Usage      |\n",
            "|=============================================================================|\n",
            "|  No running processes found                                                 |\n",
            "+-----------------------------------------------------------------------------+\n"
          ]
        }
      ],
      "source": [
        "!nvidia-smi"
      ]
    },
    {
      "cell_type": "markdown",
      "source": [
        "# Import dataset from Google drive"
      ],
      "metadata": {
        "id": "gzPHaA7F1Ho2"
      }
    },
    {
      "cell_type": "code",
      "source": [
        "from google.colab import drive\n",
        "drive.mount('/content/drive')\n",
        "\n",
        "train_path = '/content/drive/MyDrive/Machine Learning/ML Reboot/CNN with dataset/dataset/training_set'\n",
        "test_path = '/content/drive/MyDrive/Machine Learning/ML Reboot/CNN with dataset/dataset/test_set'"
      ],
      "metadata": {
        "id": "Q4yZAp1z1McJ",
        "colab": {
          "base_uri": "https://localhost:8080/"
        },
        "outputId": "e3a9b816-4f9a-48ce-c13d-8ed84d649750"
      },
      "execution_count": 2,
      "outputs": [
        {
          "output_type": "stream",
          "name": "stdout",
          "text": [
            "Mounted at /content/drive\n"
          ]
        }
      ]
    },
    {
      "cell_type": "markdown",
      "source": [
        "# Import libraries"
      ],
      "metadata": {
        "id": "kusU8Diw9Axv"
      }
    },
    {
      "cell_type": "code",
      "source": [
        "import tensorflow as tf\n",
        "from keras.preprocessing.image import ImageDataGenerator"
      ],
      "metadata": {
        "id": "_VjX3boQ9C_n"
      },
      "execution_count": 3,
      "outputs": []
    },
    {
      "cell_type": "markdown",
      "source": [
        "# Creating augmented data generators"
      ],
      "metadata": {
        "id": "9QfcxQzcA13Z"
      }
    },
    {
      "cell_type": "code",
      "source": [
        "train_datagen = ImageDataGenerator(\n",
        "    rescale=1/255.,\n",
        "    shear_range=0.2,\n",
        "    zoom_range=0.2,\n",
        "    width_shift_range=0.2,\n",
        "    height_shift_range=0.2,\n",
        "    horizontal_flip=True\n",
        ")\n",
        "\n",
        "test_datagen = ImageDataGenerator(\n",
        "    rescale=1/255\n",
        ")"
      ],
      "metadata": {
        "id": "nz-vHh5TA7lq"
      },
      "execution_count": 4,
      "outputs": []
    },
    {
      "cell_type": "markdown",
      "source": [
        "# Pre-processing data"
      ],
      "metadata": {
        "id": "Vw6yNEpxCXwM"
      }
    },
    {
      "cell_type": "code",
      "source": [
        "training_data = train_datagen.flow_from_directory(\n",
        "    train_path,\n",
        "    target_size=(64,64),\n",
        "    class_mode='binary',\n",
        "    batch_size=32\n",
        ")\n",
        "\n",
        "test_data = test_datagen.flow_from_directory(\n",
        "    test_path,\n",
        "    target_size=(64,64),\n",
        "    class_mode='binary',\n",
        "    batch_size=32\n",
        ")"
      ],
      "metadata": {
        "colab": {
          "base_uri": "https://localhost:8080/"
        },
        "id": "zVx-v5mpDCSi",
        "outputId": "901fbfbf-308e-4857-f682-79f44c3fa0c2"
      },
      "execution_count": 5,
      "outputs": [
        {
          "output_type": "stream",
          "name": "stdout",
          "text": [
            "Found 8001 images belonging to 2 classes.\n",
            "Found 2000 images belonging to 2 classes.\n"
          ]
        }
      ]
    },
    {
      "cell_type": "markdown",
      "source": [
        "# Model 1 (baseline model)"
      ],
      "metadata": {
        "id": "7qbAB5fCcxL_"
      }
    },
    {
      "cell_type": "markdown",
      "source": [
        "## Creating baseline model"
      ],
      "metadata": {
        "id": "G3hfJR5WWwf_"
      }
    },
    {
      "cell_type": "code",
      "source": [
        "# create the model \n",
        "model_1 = tf.keras.models.Sequential()\n",
        "\n",
        "model_1.add(tf.keras.layers.Conv2D(filters=10, kernel_size=3, activation=\"relu\", input_shape=(64,64,3)))\n",
        "model_1.add(tf.keras.layers.MaxPool2D(pool_size=2, strides=2))\n",
        "\n",
        "model_1.add(tf.keras.layers.Conv2D(filters=10, kernel_size=3, activation=\"relu\"))\n",
        "model_1.add(tf.keras.layers.MaxPool2D(pool_size=2, strides=2))\n",
        "\n",
        "model_1.add(tf.keras.layers.Flatten())\n",
        "\n",
        "model_1.add(tf.keras.layers.Dense(units=1, activation=\"sigmoid\"))"
      ],
      "metadata": {
        "id": "f33MkXTuWzLG"
      },
      "execution_count": 6,
      "outputs": []
    },
    {
      "cell_type": "code",
      "source": [
        "# compile the model\n",
        "model_1.compile(loss=\"binary_crossentropy\",\n",
        "                optimizer=\"Adam\",\n",
        "                metrics=[\"accuracy\"])"
      ],
      "metadata": {
        "id": "nAX9dFMxX6yK"
      },
      "execution_count": 7,
      "outputs": []
    },
    {
      "cell_type": "code",
      "source": [
        "# fit the model\n",
        "history_1 = model_1.fit(training_data,\n",
        "            epochs=5,\n",
        "            steps_per_epoch=len(training_data),\n",
        "            validation_data=test_data,\n",
        "            validation_steps=len(test_data))"
      ],
      "metadata": {
        "colab": {
          "base_uri": "https://localhost:8080/"
        },
        "id": "iFjpw7_MYKlQ",
        "outputId": "9a9e4854-b672-44a8-d5ac-d6eca7815009"
      },
      "execution_count": 8,
      "outputs": [
        {
          "output_type": "stream",
          "name": "stdout",
          "text": [
            "Epoch 1/5\n",
            "251/251 [==============================] - 1684s 7s/step - loss: 0.6917 - accuracy: 0.5498 - val_loss: 0.6690 - val_accuracy: 0.6155\n",
            "Epoch 2/5\n",
            "251/251 [==============================] - 47s 186ms/step - loss: 0.6578 - accuracy: 0.6068 - val_loss: 0.6430 - val_accuracy: 0.6140\n",
            "Epoch 3/5\n",
            "251/251 [==============================] - 46s 185ms/step - loss: 0.6300 - accuracy: 0.6459 - val_loss: 0.5974 - val_accuracy: 0.6905\n",
            "Epoch 4/5\n",
            "251/251 [==============================] - 46s 184ms/step - loss: 0.6207 - accuracy: 0.6550 - val_loss: 0.6472 - val_accuracy: 0.6220\n",
            "Epoch 5/5\n",
            "251/251 [==============================] - 46s 185ms/step - loss: 0.6103 - accuracy: 0.6609 - val_loss: 0.6001 - val_accuracy: 0.6890\n"
          ]
        }
      ]
    },
    {
      "cell_type": "markdown",
      "source": [
        "## Plot loss curves"
      ],
      "metadata": {
        "id": "XK5yoc3d46hY"
      }
    },
    {
      "cell_type": "code",
      "source": [
        "import pandas as pd\n",
        "import matplotlib.pyplot as plt\n",
        "\n",
        "# plot the validation and training curves seperately\n",
        "\n",
        "def plot_loss_curves(history):\n",
        "  \"\"\"\n",
        "  Returns seperate loss curves for training and validation metrics\n",
        "  \"\"\"\n",
        "\n",
        "  loss = history.history[\"loss\"]\n",
        "  val_loss = history.history[\"val_loss\"]\n",
        "\n",
        "  accuracy = history.history[\"accuracy\"]\n",
        "  val_accuracy = history.history[\"val_accuracy\"]\n",
        "\n",
        "  epochs = range(len(history.history[\"loss\"]))\n",
        "\n",
        "  # plot loss\n",
        "  plt.plot(epochs, loss, label=\"training_loss\")\n",
        "  plt.plot(epochs, val_loss, label=\"val_loss\")\n",
        "  plt.title(\"loss\")\n",
        "  plt.xlabel(\"epochs\")\n",
        "  plt.legend()\n",
        "\n",
        "  # plot accuracy\n",
        "  plt.figure()\n",
        "  plt.plot(epochs, accuracy, label=\"training_accuracy\")\n",
        "  plt.plot(epochs, val_accuracy, label=\"val_accuracy\")\n",
        "  plt.title(\"accuracy\")\n",
        "  plt.xlabel(\"epochs\")\n",
        "  plt.legend()"
      ],
      "metadata": {
        "id": "qJwaJaGe46Bs"
      },
      "execution_count": 9,
      "outputs": []
    },
    {
      "cell_type": "code",
      "source": [
        "plot_loss_curves(history_1)"
      ],
      "metadata": {
        "colab": {
          "base_uri": "https://localhost:8080/",
          "height": 573
        },
        "id": "gvjoa0RQ5dwJ",
        "outputId": "f17f32b6-f808-4059-b3dc-a9b8c0084d49"
      },
      "execution_count": 10,
      "outputs": [
        {
          "output_type": "display_data",
          "data": {
            "text/plain": [
              "<Figure size 432x288 with 1 Axes>"
            ],
            "image/png": "[encoded data removed]"
          },
          "metadata": {
            "needs_background": "light"
          }
        },
        {
          "output_type": "display_data",
          "data": {
            "text/plain": [
              "<Figure size 432x288 with 1 Axes>"
            ],
            "image/png": "[encoded data removed]"
          },
          "metadata": {
            "needs_background": "light"
          }
        }
      ]
    },
    {
      "cell_type": "markdown",
      "source": [
        "## Evaluate baseline model"
      ],
      "metadata": {
        "id": "M45Sk4OS5pw7"
      }
    },
    {
      "cell_type": "code",
      "source": [
        "model_1.evaluate(test_data)"
      ],
      "metadata": {
        "colab": {
          "base_uri": "https://localhost:8080/"
        },
        "id": "cNWwug9A5sTv",
        "outputId": "9f486e71-30ef-4ea2-a5f6-3ebca00a3803"
      },
      "execution_count": 11,
      "outputs": [
        {
          "output_type": "stream",
          "name": "stdout",
          "text": [
            "63/63 [==============================] - 7s 118ms/step - loss: 0.6001 - accuracy: 0.6890\n"
          ]
        },
        {
          "output_type": "execute_result",
          "data": {
            "text/plain": [
              "[0.6000819802284241, 0.6890000104904175]"
            ]
          },
          "metadata": {},
          "execution_count": 11
        }
      ]
    },
    {
      "cell_type": "markdown",
      "source": [
        "# Model 2 - improving the baseline model\n",
        "\n",
        "Adding more layers (Dense layer with 128 neurons)"
      ],
      "metadata": {
        "id": "_eH5fAjzc8P3"
      }
    },
    {
      "cell_type": "markdown",
      "source": [
        "## Creating the model 2"
      ],
      "metadata": {
        "id": "D7diDHBidhmI"
      }
    },
    {
      "cell_type": "code",
      "source": [
        "# create the model 2\n",
        "model_2 = tf.keras.models.Sequential()\n",
        "\n",
        "model_2.add(tf.keras.layers.Conv2D(filters=10, kernel_size=3, activation=\"relu\", input_shape=(64,64,3)))\n",
        "model_2.add(tf.keras.layers.MaxPool2D(pool_size=2, strides=2))\n",
        "\n",
        "model_2.add(tf.keras.layers.Conv2D(filters=10, kernel_size=3, activation=\"relu\"))\n",
        "model_2.add(tf.keras.layers.MaxPool2D(pool_size=2, strides=2))\n",
        "\n",
        "model_2.add(tf.keras.layers.Flatten())\n",
        "\n",
        "model_2.add(tf.keras.layers.Dense(units=128, activation=\"relu\"))\n",
        "model_2.add(tf.keras.layers.Dense(units=1, activation=\"sigmoid\"))"
      ],
      "metadata": {
        "id": "XbVDZsLZdEqx"
      },
      "execution_count": 17,
      "outputs": []
    },
    {
      "cell_type": "code",
      "source": [
        "# compile the model 2\n",
        "model_2.compile(loss=\"binary_crossentropy\",\n",
        "                optimizer=\"Adam\",\n",
        "                metrics=[\"accuracy\"])"
      ],
      "metadata": {
        "id": "KigFNGuXevPa"
      },
      "execution_count": 18,
      "outputs": []
    },
    {
      "cell_type": "code",
      "source": [
        "# fit the model 2\n",
        "history_2 = model_2.fit(training_data,\n",
        "            epochs=5,\n",
        "            steps_per_epoch=len(training_data),\n",
        "            validation_data=test_data,\n",
        "            validation_steps=len(test_data))"
      ],
      "metadata": {
        "id": "QXOvkNyRe7l3",
        "colab": {
          "base_uri": "https://localhost:8080/"
        },
        "outputId": "db5cb2b9-0ffc-4d1c-dfef-585556d78a64"
      },
      "execution_count": 19,
      "outputs": [
        {
          "output_type": "stream",
          "name": "stdout",
          "text": [
            "Epoch 1/5\n",
            "251/251 [==============================] - 59s 235ms/step - loss: 0.6811 - accuracy: 0.5657 - val_loss: 0.6607 - val_accuracy: 0.5980\n",
            "Epoch 2/5\n",
            "251/251 [==============================] - 52s 206ms/step - loss: 0.6617 - accuracy: 0.6128 - val_loss: 0.6394 - val_accuracy: 0.6305\n",
            "Epoch 3/5\n",
            "251/251 [==============================] - 57s 227ms/step - loss: 0.6420 - accuracy: 0.6308 - val_loss: 0.6087 - val_accuracy: 0.6725\n",
            "Epoch 4/5\n",
            "251/251 [==============================] - 47s 188ms/step - loss: 0.6278 - accuracy: 0.6395 - val_loss: 0.6238 - val_accuracy: 0.6525\n",
            "Epoch 5/5\n",
            "251/251 [==============================] - 48s 191ms/step - loss: 0.6164 - accuracy: 0.6578 - val_loss: 0.6222 - val_accuracy: 0.6455\n"
          ]
        }
      ]
    },
    {
      "cell_type": "markdown",
      "source": [
        "## Plot loss curves"
      ],
      "metadata": {
        "id": "GboIaEoPgoow"
      }
    },
    {
      "cell_type": "code",
      "source": [
        "plot_loss_curves(history_2)"
      ],
      "metadata": {
        "id": "KLTLeGI7gsYe",
        "colab": {
          "base_uri": "https://localhost:8080/",
          "height": 573
        },
        "outputId": "6df18945-5b52-4dda-9d8f-a9c1f2f11822"
      },
      "execution_count": 20,
      "outputs": [
        {
          "output_type": "display_data",
          "data": {
            "text/plain": [
              "<Figure size 432x288 with 1 Axes>"
            ],
            "image/png": "[encoded data removed]"
          },
          "metadata": {
            "needs_background": "light"
          }
        },
        {
          "output_type": "display_data",
          "data": {
            "text/plain": [
              "<Figure size 432x288 with 1 Axes>"
            ],
            "image/png": "[encoded data removed]"
          },
          "metadata": {
            "needs_background": "light"
          }
        }
      ]
    },
    {
      "cell_type": "markdown",
      "source": [
        "## Evaluate the model 2"
      ],
      "metadata": {
        "id": "AHJnuhfxgyGO"
      }
    },
    {
      "cell_type": "code",
      "source": [
        "model_2.evaluate(test_data)"
      ],
      "metadata": {
        "id": "eIUtJn4ng2Wj",
        "colab": {
          "base_uri": "https://localhost:8080/"
        },
        "outputId": "36dbe52a-d9b4-4ecf-876e-74db402dfecd"
      },
      "execution_count": 21,
      "outputs": [
        {
          "output_type": "stream",
          "name": "stdout",
          "text": [
            "63/63 [==============================] - 8s 122ms/step - loss: 0.6222 - accuracy: 0.6455\n"
          ]
        },
        {
          "output_type": "execute_result",
          "data": {
            "text/plain": [
              "[0.6221766471862793, 0.6455000042915344]"
            ]
          },
          "metadata": {},
          "execution_count": 21
        }
      ]
    },
    {
      "cell_type": "markdown",
      "source": [
        "# Model 3 - Improvement for the model 2\n",
        "Adding more filters to the Conv2D layers"
      ],
      "metadata": {
        "id": "NB21REABmYqV"
      }
    },
    {
      "cell_type": "markdown",
      "source": [
        "## Creating model 3"
      ],
      "metadata": {
        "id": "1wk_ORptmtZ-"
      }
    },
    {
      "cell_type": "code",
      "source": [
        "# create the model 2\n",
        "model_3 = tf.keras.models.Sequential()\n",
        "\n",
        "model_3.add(tf.keras.layers.Conv2D(filters=16, kernel_size=3, activation=\"relu\", input_shape=(64,64,3)))\n",
        "model_3.add(tf.keras.layers.MaxPool2D(pool_size=2, strides=2))\n",
        "\n",
        "model_3.add(tf.keras.layers.Conv2D(filters=16, kernel_size=3, activation=\"relu\"))\n",
        "model_3.add(tf.keras.layers.MaxPool2D(pool_size=2, strides=2))\n",
        "\n",
        "model_3.add(tf.keras.layers.Flatten())\n",
        "\n",
        "model_3.add(tf.keras.layers.Dense(units=128, activation=\"relu\"))\n",
        "model_3.add(tf.keras.layers.Dense(units=1, activation=\"sigmoid\"))"
      ],
      "metadata": {
        "id": "MZBS2gNumoJj"
      },
      "execution_count": 22,
      "outputs": []
    },
    {
      "cell_type": "code",
      "source": [
        "# compile model 3\n",
        "model_3.compile(loss=\"binary_crossentropy\",\n",
        "                optimizer=\"Adam\",\n",
        "                metrics=[\"accuracy\"])"
      ],
      "metadata": {
        "id": "yd8-CH5om5XY"
      },
      "execution_count": 23,
      "outputs": []
    },
    {
      "cell_type": "code",
      "source": [
        "# fit the model 2\n",
        "history_3 = model_3.fit(training_data,\n",
        "            epochs=5,\n",
        "            steps_per_epoch=len(training_data),\n",
        "            validation_data=test_data,\n",
        "            validation_steps=len(test_data))"
      ],
      "metadata": {
        "colab": {
          "base_uri": "https://localhost:8080/"
        },
        "id": "KheaMdu_nNwk",
        "outputId": "0fe08bed-c50b-49c6-9307-038fa05de390"
      },
      "execution_count": 24,
      "outputs": [
        {
          "output_type": "stream",
          "name": "stdout",
          "text": [
            "Epoch 1/5\n",
            "251/251 [==============================] - 48s 189ms/step - loss: 0.6935 - accuracy: 0.5469 - val_loss: 0.6475 - val_accuracy: 0.6060\n",
            "Epoch 2/5\n",
            "251/251 [==============================] - 47s 187ms/step - loss: 0.6433 - accuracy: 0.6269 - val_loss: 0.6737 - val_accuracy: 0.6075\n",
            "Epoch 3/5\n",
            "251/251 [==============================] - 46s 184ms/step - loss: 0.6199 - accuracy: 0.6538 - val_loss: 0.6085 - val_accuracy: 0.6790\n",
            "Epoch 4/5\n",
            "251/251 [==============================] - 46s 184ms/step - loss: 0.6053 - accuracy: 0.6693 - val_loss: 0.5736 - val_accuracy: 0.6965\n",
            "Epoch 5/5\n",
            "251/251 [==============================] - 46s 184ms/step - loss: 0.5987 - accuracy: 0.6763 - val_loss: 0.6422 - val_accuracy: 0.6470\n"
          ]
        }
      ]
    },
    {
      "cell_type": "markdown",
      "source": [
        "## Plot loss curves"
      ],
      "metadata": {
        "id": "NMsRq7xznP-4"
      }
    },
    {
      "cell_type": "code",
      "source": [
        "plot_loss_curves(history_3)"
      ],
      "metadata": {
        "colab": {
          "base_uri": "https://localhost:8080/",
          "height": 573
        },
        "id": "_Os4F2WAnR_i",
        "outputId": "7a72956a-365e-48ea-9ec0-ab02cca13d52"
      },
      "execution_count": 25,
      "outputs": [
        {
          "output_type": "display_data",
          "data": {
            "text/plain": [
              "<Figure size 432x288 with 1 Axes>"
            ],
            "image/png": "[encoded data removed]"
          },
          "metadata": {
            "needs_background": "light"
          }
        },
        {
          "output_type": "display_data",
          "data": {
            "text/plain": [
              "<Figure size 432x288 with 1 Axes>"
            ],
            "image/png": "[encoded data removed]"
          },
          "metadata": {
            "needs_background": "light"
          }
        }
      ]
    },
    {
      "cell_type": "markdown",
      "source": [
        "## Evaluate the model 3"
      ],
      "metadata": {
        "id": "X_-TwM6snVx2"
      }
    },
    {
      "cell_type": "code",
      "source": [
        "model_3.evaluate(test_data)"
      ],
      "metadata": {
        "colab": {
          "base_uri": "https://localhost:8080/"
        },
        "id": "t4mwSiWTnYCh",
        "outputId": "cd92860e-fb66-486b-9e47-73d1050a70ba"
      },
      "execution_count": 26,
      "outputs": [
        {
          "output_type": "stream",
          "name": "stdout",
          "text": [
            "63/63 [==============================] - 8s 120ms/step - loss: 0.6422 - accuracy: 0.6470\n"
          ]
        },
        {
          "output_type": "execute_result",
          "data": {
            "text/plain": [
              "[0.6421827673912048, 0.6470000147819519]"
            ]
          },
          "metadata": {},
          "execution_count": 26
        }
      ]
    }
  ]
}