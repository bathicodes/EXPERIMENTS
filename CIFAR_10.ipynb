{
  "nbformat": 4,
  "nbformat_minor": 0,
  "metadata": {
    "colab": {
      "provenance": [],
      "toc_visible": true,
      "authorship_tag": "ABX9TyMEzTdqrmaoGd/iwLn4bZcM",
      "include_colab_link": true
    },
    "kernelspec": {
      "name": "python3",
      "display_name": "Python 3"
    },
    "language_info": {
      "name": "python"
    },
    "widgets": {
      "application/vnd.jupyter.widget-state+json": {
        "4d4b08a7263647e38bb48621cce16bd4": {
          "model_module": "@jupyter-widgets/controls",
          "model_name": "HBoxModel",
          "model_module_version": "1.5.0",
          "state": {
            "_dom_classes": [],
            "_model_module": "@jupyter-widgets/controls",
            "_model_module_version": "1.5.0",
            "_model_name": "HBoxModel",
            "_view_count": null,
            "_view_module": "@jupyter-widgets/controls",
            "_view_module_version": "1.5.0",
            "_view_name": "HBoxView",
            "box_style": "",
            "children": [
              "IPY_MODEL_95864f40e4444bf3aa06a4010ff93d19",
              "IPY_MODEL_ae7c28db64de455fa9716b971b07f9aa",
              "IPY_MODEL_18b6c5f746b84c73aeac3954943e34df"
            ],
            "layout": "IPY_MODEL_33d9bb23b77c4e57b0690f5b0abb5f4e"
          }
        },
        "95864f40e4444bf3aa06a4010ff93d19": {
          "model_module": "@jupyter-widgets/controls",
          "model_name": "HTMLModel",
          "model_module_version": "1.5.0",
          "state": {
            "_dom_classes": [],
            "_model_module": "@jupyter-widgets/controls",
            "_model_module_version": "1.5.0",
            "_model_name": "HTMLModel",
            "_view_count": null,
            "_view_module": "@jupyter-widgets/controls",
            "_view_module_version": "1.5.0",
            "_view_name": "HTMLView",
            "description": "",
            "description_tooltip": null,
            "layout": "IPY_MODEL_5218bd60b258403283addd269dd9f3b4",
            "placeholder": "​",
            "style": "IPY_MODEL_7a00d2fbb1da4d47b971c3578e460c33",
            "value": "100%"
          }
        },
        "ae7c28db64de455fa9716b971b07f9aa": {
          "model_module": "@jupyter-widgets/controls",
          "model_name": "FloatProgressModel",
          "model_module_version": "1.5.0",
          "state": {
            "_dom_classes": [],
            "_model_module": "@jupyter-widgets/controls",
            "_model_module_version": "1.5.0",
            "_model_name": "FloatProgressModel",
            "_view_count": null,
            "_view_module": "@jupyter-widgets/controls",
            "_view_module_version": "1.5.0",
            "_view_name": "ProgressView",
            "bar_style": "success",
            "description": "",
            "description_tooltip": null,
            "layout": "IPY_MODEL_b4023a34c97f481dbced60433cfa2a47",
            "max": 20,
            "min": 0,
            "orientation": "horizontal",
            "style": "IPY_MODEL_dfe9a304574140caabcdc5cec0a24a60",
            "value": 20
          }
        },
        "18b6c5f746b84c73aeac3954943e34df": {
          "model_module": "@jupyter-widgets/controls",
          "model_name": "HTMLModel",
          "model_module_version": "1.5.0",
          "state": {
            "_dom_classes": [],
            "_model_module": "@jupyter-widgets/controls",
            "_model_module_version": "1.5.0",
            "_model_name": "HTMLModel",
            "_view_count": null,
            "_view_module": "@jupyter-widgets/controls",
            "_view_module_version": "1.5.0",
            "_view_name": "HTMLView",
            "description": "",
            "description_tooltip": null,
            "layout": "IPY_MODEL_1ad0a59e5be044d5a5707630b19f5196",
            "placeholder": "​",
            "style": "IPY_MODEL_009ebe20f53e461aa87b64e6a288ad03",
            "value": " 20/20 [19:32&lt;00:00, 56.78s/it]"
          }
        },
        "33d9bb23b77c4e57b0690f5b0abb5f4e": {
          "model_module": "@jupyter-widgets/base",
          "model_name": "LayoutModel",
          "model_module_version": "1.2.0",
          "state": {
            "_model_module": "@jupyter-widgets/base",
            "_model_module_version": "1.2.0",
            "_model_name": "LayoutModel",
            "_view_count": null,
            "_view_module": "@jupyter-widgets/base",
            "_view_module_version": "1.2.0",
            "_view_name": "LayoutView",
            "align_content": null,
            "align_items": null,
            "align_self": null,
            "border": null,
            "bottom": null,
            "display": null,
            "flex": null,
            "flex_flow": null,
            "grid_area": null,
            "grid_auto_columns": null,
            "grid_auto_flow": null,
            "grid_auto_rows": null,
            "grid_column": null,
            "grid_gap": null,
            "grid_row": null,
            "grid_template_areas": null,
            "grid_template_columns": null,
            "grid_template_rows": null,
            "height": null,
            "justify_content": null,
            "justify_items": null,
            "left": null,
            "margin": null,
            "max_height": null,
            "max_width": null,
            "min_height": null,
            "min_width": null,
            "object_fit": null,
            "object_position": null,
            "order": null,
            "overflow": null,
            "overflow_x": null,
            "overflow_y": null,
            "padding": null,
            "right": null,
            "top": null,
            "visibility": null,
            "width": null
          }
        },
        "5218bd60b258403283addd269dd9f3b4": {
          "model_module": "@jupyter-widgets/base",
          "model_name": "LayoutModel",
          "model_module_version": "1.2.0",
          "state": {
            "_model_module": "@jupyter-widgets/base",
            "_model_module_version": "1.2.0",
            "_model_name": "LayoutModel",
            "_view_count": null,
            "_view_module": "@jupyter-widgets/base",
            "_view_module_version": "1.2.0",
            "_view_name": "LayoutView",
            "align_content": null,
            "align_items": null,
            "align_self": null,
            "border": null,
            "bottom": null,
            "display": null,
            "flex": null,
            "flex_flow": null,
            "grid_area": null,
            "grid_auto_columns": null,
            "grid_auto_flow": null,
            "grid_auto_rows": null,
            "grid_column": null,
            "grid_gap": null,
            "grid_row": null,
            "grid_template_areas": null,
            "grid_template_columns": null,
            "grid_template_rows": null,
            "height": null,
            "justify_content": null,
            "justify_items": null,
            "left": null,
            "margin": null,
            "max_height": null,
            "max_width": null,
            "min_height": null,
            "min_width": null,
            "object_fit": null,
            "object_position": null,
            "order": null,
            "overflow": null,
            "overflow_x": null,
            "overflow_y": null,
            "padding": null,
            "right": null,
            "top": null,
            "visibility": null,
            "width": null
          }
        },
        "7a00d2fbb1da4d47b971c3578e460c33": {
          "model_module": "@jupyter-widgets/controls",
          "model_name": "DescriptionStyleModel",
          "model_module_version": "1.5.0",
          "state": {
            "_model_module": "@jupyter-widgets/controls",
            "_model_module_version": "1.5.0",
            "_model_name": "DescriptionStyleModel",
            "_view_count": null,
            "_view_module": "@jupyter-widgets/base",
            "_view_module_version": "1.2.0",
            "_view_name": "StyleView",
            "description_width": ""
          }
        },
        "b4023a34c97f481dbced60433cfa2a47": {
          "model_module": "@jupyter-widgets/base",
          "model_name": "LayoutModel",
          "model_module_version": "1.2.0",
          "state": {
            "_model_module": "@jupyter-widgets/base",
            "_model_module_version": "1.2.0",
            "_model_name": "LayoutModel",
            "_view_count": null,
            "_view_module": "@jupyter-widgets/base",
            "_view_module_version": "1.2.0",
            "_view_name": "LayoutView",
            "align_content": null,
            "align_items": null,
            "align_self": null,
            "border": null,
            "bottom": null,
            "display": null,
            "flex": null,
            "flex_flow": null,
            "grid_area": null,
            "grid_auto_columns": null,
            "grid_auto_flow": null,
            "grid_auto_rows": null,
            "grid_column": null,
            "grid_gap": null,
            "grid_row": null,
            "grid_template_areas": null,
            "grid_template_columns": null,
            "grid_template_rows": null,
            "height": null,
            "justify_content": null,
            "justify_items": null,
            "left": null,
            "margin": null,
            "max_height": null,
            "max_width": null,
            "min_height": null,
            "min_width": null,
            "object_fit": null,
            "object_position": null,
            "order": null,
            "overflow": null,
            "overflow_x": null,
            "overflow_y": null,
            "padding": null,
            "right": null,
            "top": null,
            "visibility": null,
            "width": null
          }
        },
        "dfe9a304574140caabcdc5cec0a24a60": {
          "model_module": "@jupyter-widgets/controls",
          "model_name": "ProgressStyleModel",
          "model_module_version": "1.5.0",
          "state": {
            "_model_module": "@jupyter-widgets/controls",
            "_model_module_version": "1.5.0",
            "_model_name": "ProgressStyleModel",
            "_view_count": null,
            "_view_module": "@jupyter-widgets/base",
            "_view_module_version": "1.2.0",
            "_view_name": "StyleView",
            "bar_color": null,
            "description_width": ""
          }
        },
        "1ad0a59e5be044d5a5707630b19f5196": {
          "model_module": "@jupyter-widgets/base",
          "model_name": "LayoutModel",
          "model_module_version": "1.2.0",
          "state": {
            "_model_module": "@jupyter-widgets/base",
            "_model_module_version": "1.2.0",
            "_model_name": "LayoutModel",
            "_view_count": null,
            "_view_module": "@jupyter-widgets/base",
            "_view_module_version": "1.2.0",
            "_view_name": "LayoutView",
            "align_content": null,
            "align_items": null,
            "align_self": null,
            "border": null,
            "bottom": null,
            "display": null,
            "flex": null,
            "flex_flow": null,
            "grid_area": null,
            "grid_auto_columns": null,
            "grid_auto_flow": null,
            "grid_auto_rows": null,
            "grid_column": null,
            "grid_gap": null,
            "grid_row": null,
            "grid_template_areas": null,
            "grid_template_columns": null,
            "grid_template_rows": null,
            "height": null,
            "justify_content": null,
            "justify_items": null,
            "left": null,
            "margin": null,
            "max_height": null,
            "max_width": null,
            "min_height": null,
            "min_width": null,
            "object_fit": null,
            "object_position": null,
            "order": null,
            "overflow": null,
            "overflow_x": null,
            "overflow_y": null,
            "padding": null,
            "right": null,
            "top": null,
            "visibility": null,
            "width": null
          }
        },
        "009ebe20f53e461aa87b64e6a288ad03": {
          "model_module": "@jupyter-widgets/controls",
          "model_name": "DescriptionStyleModel",
          "model_module_version": "1.5.0",
          "state": {
            "_model_module": "@jupyter-widgets/controls",
            "_model_module_version": "1.5.0",
            "_model_name": "DescriptionStyleModel",
            "_view_count": null,
            "_view_module": "@jupyter-widgets/base",
            "_view_module_version": "1.2.0",
            "_view_name": "StyleView",
            "description_width": ""
          }
        }
      }
    }
  },
  "cells": [
    {
      "cell_type": "markdown",
      "metadata": {
        "id": "view-in-github",
        "colab_type": "text"
      },
      "source": [
        "<a href=\"https://colab.research.google.com/github/bathicodes/EXPERIMENTS/blob/main/CIFAR_10.ipynb\" target=\"_parent\"><img src=\"https://colab.research.google.com/assets/colab-badge.svg\" alt=\"Open In Colab\"/></a>"
      ]
    },
    {
      "cell_type": "markdown",
      "source": [
        "# Setup"
      ],
      "metadata": {
        "id": "2B_7tJL-JVpI"
      }
    },
    {
      "cell_type": "code",
      "execution_count": 1,
      "metadata": {
        "colab": {
          "base_uri": "https://localhost:8080/"
        },
        "id": "OOcdFFjxIO9u",
        "outputId": "20eb30a6-95c7-437c-ee3a-a0062f1b12d6"
      },
      "outputs": [
        {
          "output_type": "stream",
          "name": "stdout",
          "text": [
            "1.13.1+cu116\n",
            "0.14.1+cu116\n"
          ]
        }
      ],
      "source": [
        "# import dependencies\n",
        "import torch\n",
        "from torch import nn\n",
        "\n",
        "# import torchvision\n",
        "import torchvision\n",
        "from torchvision import datasets\n",
        "from torchvision import transforms\n",
        "from torchvision.transforms import ToTensor\n",
        "\n",
        "# import matplotlib for visualization and tqdm for progress\n",
        "import matplotlib.pyplot as plt\n",
        "from tqdm.auto import tqdm\n",
        "\n",
        "# check version\n",
        "print(torch.__version__)\n",
        "print(torchvision.__version__)"
      ]
    },
    {
      "cell_type": "code",
      "source": [
        "# import helper functions from github\n",
        "import requests\n",
        "from pathlib import Path\n",
        "\n",
        "# download helper function\n",
        "if Path(\"helper_functions.py\").is_file():\n",
        "  print(\"helper_functions.py already exist\")\n",
        "else:\n",
        "  print(\"Downloading helper_functions.py\")\n",
        "  request = requests.get(\"https://raw.githubusercontent.com/mrdbourke/pytorch-deep-learning/main/helper_functions.py\")\n",
        "  with open(\"helper_functions.py\",\"wb\") as f:\n",
        "    f.write(request.content)"
      ],
      "metadata": {
        "colab": {
          "base_uri": "https://localhost:8080/"
        },
        "id": "e2Xg9RGjJT4V",
        "outputId": "341c1caf-3524-4694-c2e0-bad9d0cd6f9a"
      },
      "execution_count": 2,
      "outputs": [
        {
          "output_type": "stream",
          "name": "stdout",
          "text": [
            "helper_functions.py already exist\n"
          ]
        }
      ]
    },
    {
      "cell_type": "code",
      "source": [
        "# import accuracy metric\n",
        "from helper_functions import accuracy_fn"
      ],
      "metadata": {
        "id": "0ZicZSniMOkh"
      },
      "execution_count": 3,
      "outputs": []
    },
    {
      "cell_type": "markdown",
      "source": [
        "# DATA"
      ],
      "metadata": {
        "id": "5D-39eCyMaBL"
      }
    },
    {
      "cell_type": "markdown",
      "source": [
        "## Getting dataset"
      ],
      "metadata": {
        "id": "E0k2JtRnMcZ2"
      }
    },
    {
      "cell_type": "code",
      "source": [
        "# setup training dataset\n",
        "from torchvision import datasets\n",
        "\n",
        "train_data = datasets.CIFAR10(\n",
        "    root=\"data\",\n",
        "    train=True,\n",
        "    download=True,\n",
        "    transform=torchvision.transforms.ToTensor(),\n",
        "    target_transform=None\n",
        ")\n",
        "\n",
        "test_data = datasets.CIFAR10(\n",
        "    root=\"data\",\n",
        "    train=False,\n",
        "    download=True,\n",
        "    transform=torchvision.transforms.ToTensor(),\n",
        "    target_transform=None\n",
        ")"
      ],
      "metadata": {
        "colab": {
          "base_uri": "https://localhost:8080/"
        },
        "id": "KPbCqhCrMY0M",
        "outputId": "680b9f57-01b9-486a-dcef-a2dfb3bf69f7"
      },
      "execution_count": 4,
      "outputs": [
        {
          "output_type": "stream",
          "name": "stdout",
          "text": [
            "Files already downloaded and verified\n",
            "Files already downloaded and verified\n"
          ]
        }
      ]
    },
    {
      "cell_type": "code",
      "source": [
        "# check the class names in downloaded dataset\n",
        "class_names = train_data.classes\n",
        "class_names"
      ],
      "metadata": {
        "colab": {
          "base_uri": "https://localhost:8080/"
        },
        "id": "9kOpqo99OSJf",
        "outputId": "477b85bd-9ad1-4531-b318-39a2114b82ba"
      },
      "execution_count": 5,
      "outputs": [
        {
          "output_type": "execute_result",
          "data": {
            "text/plain": [
              "['airplane',\n",
              " 'automobile',\n",
              " 'bird',\n",
              " 'cat',\n",
              " 'deer',\n",
              " 'dog',\n",
              " 'frog',\n",
              " 'horse',\n",
              " 'ship',\n",
              " 'truck']"
            ]
          },
          "metadata": {},
          "execution_count": 5
        }
      ]
    },
    {
      "cell_type": "code",
      "source": [
        "# check length of train data and test data\n",
        "len(train_data), len(test_data)"
      ],
      "metadata": {
        "colab": {
          "base_uri": "https://localhost:8080/"
        },
        "id": "xpnoCC-LOdUs",
        "outputId": "add8857a-791c-43aa-d4f1-da97ca1a5376"
      },
      "execution_count": 6,
      "outputs": [
        {
          "output_type": "execute_result",
          "data": {
            "text/plain": [
              "(50000, 10000)"
            ]
          },
          "metadata": {},
          "execution_count": 6
        }
      ]
    },
    {
      "cell_type": "code",
      "source": [
        "# check first training sample\n",
        "image, label = train_data[0]\n",
        "image, label"
      ],
      "metadata": {
        "colab": {
          "base_uri": "https://localhost:8080/"
        },
        "id": "ObNDwE01PYTz",
        "outputId": "f09f8350-44fd-4ea3-d612-51ec0ca47e66"
      },
      "execution_count": 7,
      "outputs": [
        {
          "output_type": "execute_result",
          "data": {
            "text/plain": [
              "(tensor([[[0.2314, 0.1686, 0.1961,  ..., 0.6196, 0.5961, 0.5804],\n",
              "          [0.0627, 0.0000, 0.0706,  ..., 0.4824, 0.4667, 0.4784],\n",
              "          [0.0980, 0.0627, 0.1922,  ..., 0.4627, 0.4706, 0.4275],\n",
              "          ...,\n",
              "          [0.8157, 0.7882, 0.7765,  ..., 0.6275, 0.2196, 0.2078],\n",
              "          [0.7059, 0.6784, 0.7294,  ..., 0.7216, 0.3804, 0.3255],\n",
              "          [0.6941, 0.6588, 0.7020,  ..., 0.8471, 0.5922, 0.4824]],\n",
              " \n",
              "         [[0.2431, 0.1804, 0.1882,  ..., 0.5176, 0.4902, 0.4863],\n",
              "          [0.0784, 0.0000, 0.0314,  ..., 0.3451, 0.3255, 0.3412],\n",
              "          [0.0941, 0.0275, 0.1059,  ..., 0.3294, 0.3294, 0.2863],\n",
              "          ...,\n",
              "          [0.6667, 0.6000, 0.6314,  ..., 0.5216, 0.1216, 0.1333],\n",
              "          [0.5451, 0.4824, 0.5647,  ..., 0.5804, 0.2431, 0.2078],\n",
              "          [0.5647, 0.5059, 0.5569,  ..., 0.7216, 0.4627, 0.3608]],\n",
              " \n",
              "         [[0.2471, 0.1765, 0.1686,  ..., 0.4235, 0.4000, 0.4039],\n",
              "          [0.0784, 0.0000, 0.0000,  ..., 0.2157, 0.1961, 0.2235],\n",
              "          [0.0824, 0.0000, 0.0314,  ..., 0.1961, 0.1961, 0.1647],\n",
              "          ...,\n",
              "          [0.3765, 0.1333, 0.1020,  ..., 0.2745, 0.0275, 0.0784],\n",
              "          [0.3765, 0.1647, 0.1176,  ..., 0.3686, 0.1333, 0.1333],\n",
              "          [0.4549, 0.3686, 0.3412,  ..., 0.5490, 0.3294, 0.2824]]]), 6)"
            ]
          },
          "metadata": {},
          "execution_count": 7
        }
      ]
    },
    {
      "cell_type": "code",
      "source": [
        "# get corrosponding indexes\n",
        "class_to_idx = train_data.class_to_idx\n",
        "class_to_idx"
      ],
      "metadata": {
        "colab": {
          "base_uri": "https://localhost:8080/"
        },
        "id": "XJ4C4jBlPmpv",
        "outputId": "bd4f50b4-e4d0-4aea-dc62-adb5809d9601"
      },
      "execution_count": 8,
      "outputs": [
        {
          "output_type": "execute_result",
          "data": {
            "text/plain": [
              "{'airplane': 0,\n",
              " 'automobile': 1,\n",
              " 'bird': 2,\n",
              " 'cat': 3,\n",
              " 'deer': 4,\n",
              " 'dog': 5,\n",
              " 'frog': 6,\n",
              " 'horse': 7,\n",
              " 'ship': 8,\n",
              " 'truck': 9}"
            ]
          },
          "metadata": {},
          "execution_count": 8
        }
      ]
    },
    {
      "cell_type": "code",
      "source": [
        "# check input and output of the data\n",
        "print(f\"Image shape: {image.shape} -> [color_channels, heights, width]\")\n",
        "print(f\"Class names: {class_names[label]}\")"
      ],
      "metadata": {
        "colab": {
          "base_uri": "https://localhost:8080/"
        },
        "id": "NEv3FYz5P1Fw",
        "outputId": "909a7ced-197d-4d47-f164-620de0df527a"
      },
      "execution_count": 9,
      "outputs": [
        {
          "output_type": "stream",
          "name": "stdout",
          "text": [
            "Image shape: torch.Size([3, 32, 32]) -> [color_channels, heights, width]\n",
            "Class names: frog\n"
          ]
        }
      ]
    },
    {
      "cell_type": "markdown",
      "source": [
        "## Visualize data"
      ],
      "metadata": {
        "id": "V_9PZ69CRKD9"
      }
    },
    {
      "cell_type": "code",
      "source": [
        "# plot sample as it recivied\n",
        "\n",
        "image, label = train_data[0]\n",
        "image = torch.permute(image, (1,2,0)) # use this when plot RGB images\n",
        "print(f\"Image shape {image.shape}\")\n",
        "plt.imshow(image)\n",
        "plt.title(class_names[label])\n",
        "plt.axis(False)"
      ],
      "metadata": {
        "colab": {
          "base_uri": "https://localhost:8080/",
          "height": 298
        },
        "id": "_4CcEsm1QQU9",
        "outputId": "69809b89-17ff-4295-df33-8acd28bacdbf"
      },
      "execution_count": 10,
      "outputs": [
        {
          "output_type": "stream",
          "name": "stdout",
          "text": [
            "Image shape torch.Size([32, 32, 3])\n"
          ]
        },
        {
          "output_type": "execute_result",
          "data": {
            "text/plain": [
              "(-0.5, 31.5, 31.5, -0.5)"
            ]
          },
          "metadata": {},
          "execution_count": 10
        },
        {
          "output_type": "display_data",
          "data": {
            "text/plain": [
              "<Figure size 432x288 with 1 Axes>"
            ],
            "image/png": "[encoded data removed]"
          },
          "metadata": {
            "needs_background": "light"
          }
        }
      ]
    },
    {
      "cell_type": "code",
      "source": [
        "# plot more images\n",
        "torch.manual_seed(42)\n",
        "fig = plt.figure(figsize=(9,9))\n",
        "rows,cols = 4,4\n",
        "for i in range(1, cols*rows+1):\n",
        "  random_idx = torch.randint(1, len(train_data), size=[1]).item()\n",
        "  img, label = train_data[random_idx]\n",
        "  fig.add_subplot(rows,cols,i)\n",
        "  img = torch.permute(img, (1,2,0)) # use this to plot RGB images\n",
        "  plt.imshow(img)\n",
        "  plt.title(class_names[label])\n",
        "  plt.axis(False)"
      ],
      "metadata": {
        "colab": {
          "base_uri": "https://localhost:8080/",
          "height": 536
        },
        "id": "9MFzh41NR1q0",
        "outputId": "b5b24f93-ba32-4ee8-bfa9-63fbccef6c3e"
      },
      "execution_count": 11,
      "outputs": [
        {
          "output_type": "display_data",
          "data": {
            "text/plain": [
              "<Figure size 648x648 with 16 Axes>"
            ],
            "image/png": "[encoded data removed]"
          },
          "metadata": {
            "needs_background": "light"
          }
        }
      ]
    },
    {
      "cell_type": "markdown",
      "source": [
        "## Prepare DataLoaders"
      ],
      "metadata": {
        "id": "-XB5oiOtV96w"
      }
    },
    {
      "cell_type": "code",
      "source": [
        "from torch.utils.data import DataLoader\n",
        "\n",
        "# setup batch size\n",
        "BATCH_SIZE=32\n",
        "\n",
        "# turn dataset into python iterables\n",
        "train_dataloader = DataLoader(dataset=train_data,\n",
        "                              batch_size=BATCH_SIZE,\n",
        "                              shuffle=True)\n",
        "\n",
        "test_dataloader = DataLoader(dataset=test_data,\n",
        "                             batch_size=BATCH_SIZE,\n",
        "                             shuffle=False)\n",
        "\n",
        "train_dataloader, test_dataloader"
      ],
      "metadata": {
        "colab": {
          "base_uri": "https://localhost:8080/"
        },
        "id": "QE-siUsGVwfk",
        "outputId": "c5d92a06-082a-425d-8d86-293cbdb6d522"
      },
      "execution_count": 12,
      "outputs": [
        {
          "output_type": "execute_result",
          "data": {
            "text/plain": [
              "(<torch.utils.data.dataloader.DataLoader at 0x7f10df9fb130>,\n",
              " <torch.utils.data.dataloader.DataLoader at 0x7f118a7be3d0>)"
            ]
          },
          "metadata": {},
          "execution_count": 12
        }
      ]
    },
    {
      "cell_type": "code",
      "source": [
        "# check data loaders\n",
        "print(f\"Length of train dataloader: {len(train_dataloader)} batches of: {BATCH_SIZE} \")\n",
        "print(f\"Length of test dataloader: {len(test_dataloader)} batches of: {BATCH_SIZE}\")"
      ],
      "metadata": {
        "colab": {
          "base_uri": "https://localhost:8080/"
        },
        "id": "lSGsBeiDYgRN",
        "outputId": "d07174fb-0f9e-4c38-8078-16bff97cb35a"
      },
      "execution_count": 13,
      "outputs": [
        {
          "output_type": "stream",
          "name": "stdout",
          "text": [
            "Length of train dataloader: 1563 batches of: 32 \n",
            "Length of test dataloader: 313 batches of: 32\n"
          ]
        }
      ]
    },
    {
      "cell_type": "code",
      "source": [
        "# check inside of train dataloader\n",
        "train_featuers_batch, train_label_batch = next(iter(train_dataloader))\n",
        "train_featuers_batch.shape, train_label_batch.shape"
      ],
      "metadata": {
        "colab": {
          "base_uri": "https://localhost:8080/"
        },
        "id": "tOsevLDybAHI",
        "outputId": "cb36beb1-d983-4794-fc49-2d681b946cd1"
      },
      "execution_count": 14,
      "outputs": [
        {
          "output_type": "execute_result",
          "data": {
            "text/plain": [
              "(torch.Size([32, 3, 32, 32]), torch.Size([32]))"
            ]
          },
          "metadata": {},
          "execution_count": 14
        }
      ]
    },
    {
      "cell_type": "code",
      "source": [
        "# show a sample\n",
        "torch.manual_seed(42)\n",
        "random_idx = torch.randint(0, len(train_featuers_batch), size=[1]).item()\n",
        "img, label = train_featuers_batch[random_idx], train_label_batch[random_idx]\n",
        "img = torch.permute(img, (1,2,0))\n",
        "plt.imshow(img)\n",
        "plt.title(class_names[label])\n",
        "plt.axis(False)\n",
        "print(f\"Image size: {img.shape}\")\n",
        "print(f\"Label: {label}, Label size: {label.shape}\")"
      ],
      "metadata": {
        "colab": {
          "base_uri": "https://localhost:8080/",
          "height": 298
        },
        "id": "u3SC2x6WbyVd",
        "outputId": "2d8f44eb-121f-413b-fad4-99967c6a5284"
      },
      "execution_count": 15,
      "outputs": [
        {
          "output_type": "stream",
          "name": "stdout",
          "text": [
            "Image size: torch.Size([32, 32, 3])\n",
            "Label: 8, Label size: torch.Size([])\n"
          ]
        },
        {
          "output_type": "display_data",
          "data": {
            "text/plain": [
              "<Figure size 432x288 with 1 Axes>"
            ],
            "image/png": "[encoded data removed]"
          },
          "metadata": {
            "needs_background": "light"
          }
        }
      ]
    },
    {
      "cell_type": "markdown",
      "source": [
        "# MODEL"
      ],
      "metadata": {
        "id": "4nuI66Ci1-tT"
      }
    },
    {
      "cell_type": "code",
      "source": [
        "device = \"cuda\" if torch.cuda.is_available() else \"cpu\"\n",
        "device"
      ],
      "metadata": {
        "colab": {
          "base_uri": "https://localhost:8080/",
          "height": 35
        },
        "id": "sDdX7jYj1-fn",
        "outputId": "d9b3ee55-c1af-4af8-ff8c-649dd1b2de95"
      },
      "execution_count": 16,
      "outputs": [
        {
          "output_type": "execute_result",
          "data": {
            "text/plain": [
              "'cpu'"
            ],
            "application/vnd.google.colaboratory.intrinsic+json": {
              "type": "string"
            }
          },
          "metadata": {},
          "execution_count": 16
        }
      ]
    },
    {
      "cell_type": "code",
      "source": [
        "class CIFARModelV0(nn.Module):\n",
        "  def __init__(self, input_shape:int, hidden_units:int, output_shape:int):\n",
        "    super().__init__()\n",
        "\n",
        "    self.conv_block_1 = nn.Sequential(\n",
        "        nn.Conv2d(in_channels=input_shape, out_channels=hidden_units, kernel_size=3, stride=1, padding=1),\n",
        "        nn.ReLU(),\n",
        "        nn.Conv2d(in_channels=hidden_units, out_channels=hidden_units, kernel_size=3, stride=1, padding=1),\n",
        "        nn.ReLU(),\n",
        "        nn.MaxPool2d(kernel_size=2)\n",
        "    )\n",
        "\n",
        "    self.conv_block_2 = nn.Sequential(\n",
        "        nn.Conv2d(in_channels=hidden_units, out_channels=hidden_units, kernel_size=3, stride=1, padding=1),\n",
        "        nn.ReLU(),\n",
        "        nn.Conv2d(in_channels=hidden_units, out_channels=hidden_units, kernel_size=3, stride=1, padding=1),\n",
        "        nn.ReLU(),\n",
        "        nn.MaxPool2d(kernel_size=2)\n",
        "    )\n",
        "\n",
        "    self.classifier = nn.Sequential(\n",
        "        nn.Flatten(),\n",
        "        nn.Linear(in_features=hidden_units*8*8, out_features=output_shape)\n",
        "    )\n",
        "\n",
        "  def forward(self, x):\n",
        "    x = self.conv_block_1(x)\n",
        "    # print(x.shape)\n",
        "    x = self.conv_block_2(x)\n",
        "    # print(x.shape)\n",
        "    x = self.classifier(x)\n",
        "\n",
        "    return x"
      ],
      "metadata": {
        "id": "Kj5D1TJk2VHv"
      },
      "execution_count": 17,
      "outputs": []
    },
    {
      "cell_type": "markdown",
      "source": [
        "## Checking the contents of the model"
      ],
      "metadata": {
        "id": "GP_IrunI6EWc"
      }
    },
    {
      "cell_type": "code",
      "source": [
        "model_0 = CIFARModelV0(input_shape=3,\n",
        "                       hidden_units=10,\n",
        "                       output_shape=len(class_names)).to(device)\n",
        "\n",
        "model_0.parameters"
      ],
      "metadata": {
        "colab": {
          "base_uri": "https://localhost:8080/"
        },
        "id": "OfsGAnjX6CxD",
        "outputId": "95686609-94e5-4a05-9109-99aace636265"
      },
      "execution_count": 18,
      "outputs": [
        {
          "output_type": "execute_result",
          "data": {
            "text/plain": [
              "<bound method Module.parameters of CIFARModelV0(\n",
              "  (conv_block_1): Sequential(\n",
              "    (0): Conv2d(3, 10, kernel_size=(3, 3), stride=(1, 1), padding=(1, 1))\n",
              "    (1): ReLU()\n",
              "    (2): Conv2d(10, 10, kernel_size=(3, 3), stride=(1, 1), padding=(1, 1))\n",
              "    (3): ReLU()\n",
              "    (4): MaxPool2d(kernel_size=2, stride=2, padding=0, dilation=1, ceil_mode=False)\n",
              "  )\n",
              "  (conv_block_2): Sequential(\n",
              "    (0): Conv2d(10, 10, kernel_size=(3, 3), stride=(1, 1), padding=(1, 1))\n",
              "    (1): ReLU()\n",
              "    (2): Conv2d(10, 10, kernel_size=(3, 3), stride=(1, 1), padding=(1, 1))\n",
              "    (3): ReLU()\n",
              "    (4): MaxPool2d(kernel_size=2, stride=2, padding=0, dilation=1, ceil_mode=False)\n",
              "  )\n",
              "  (classifier): Sequential(\n",
              "    (0): Flatten(start_dim=1, end_dim=-1)\n",
              "    (1): Linear(in_features=640, out_features=10, bias=True)\n",
              "  )\n",
              ")>"
            ]
          },
          "metadata": {},
          "execution_count": 18
        }
      ]
    },
    {
      "cell_type": "code",
      "source": [
        "# rand_img = torch.randn(size=(3,32,32))\n",
        "# rand_img.shape"
      ],
      "metadata": {
        "id": "geM7jfpSNxts"
      },
      "execution_count": 19,
      "outputs": []
    },
    {
      "cell_type": "code",
      "source": [
        "# model_0(rand_img.unsqueeze(0).to(device))"
      ],
      "metadata": {
        "id": "C9kuSpl8OiZ4"
      },
      "execution_count": 20,
      "outputs": []
    },
    {
      "cell_type": "markdown",
      "source": [
        "## Train model"
      ],
      "metadata": {
        "id": "JbYGpC316vHK"
      }
    },
    {
      "cell_type": "code",
      "source": [
        "# setup loss function and optimizer\n",
        "loss_fn = nn.CrossEntropyLoss()\n",
        "optimizer = torch.optim.SGD(params=model_0.parameters(),\n",
        "                            lr=0.1)"
      ],
      "metadata": {
        "id": "CvO48YfC6bI5"
      },
      "execution_count": 21,
      "outputs": []
    },
    {
      "cell_type": "code",
      "source": [
        "# setup random seed\n",
        "torch.manual_seed(42)\n",
        "torch.cuda.manual_seed(42)\n",
        "\n",
        "# setup epochs\n",
        "epochs = 20\n",
        "\n",
        "# training and testing loop\n",
        "for epoch in tqdm(range(epochs)):\n",
        "  print(f\"Epoch: {epoch} \\n-------------------\")\n",
        "\n",
        "  ### Training\n",
        "  train_loss = 0\n",
        "\n",
        "  # add a loop to go through the data batches\n",
        "  for batch, (X_train, y_train) in enumerate(train_dataloader):\n",
        "\n",
        "\n",
        "    # pass data to the target device\n",
        "    X_train, y_train = X_train.to(device), y_train.to(device)\n",
        "\n",
        "    # preparing for training\n",
        "    model_0.train()\n",
        "\n",
        "    # 1. forward pass\n",
        "    y_pred = model_0(X_train)\n",
        "\n",
        "    # 2. calculate the loss\n",
        "    loss = loss_fn(y_pred, y_train)\n",
        "    train_loss += loss\n",
        "\n",
        "    # 3. optimizer zero grad\n",
        "    optimizer.zero_grad()\n",
        "\n",
        "    # 4. loss backward\n",
        "    loss.backward()\n",
        "\n",
        "    # 5. optimizer step\n",
        "    optimizer.step()\n",
        "\n",
        "    # print status\n",
        "    if batch % 400 == 0:\n",
        "      print(f\"Looked at {batch * len(X_train)} / {len(train_dataloader.dataset)} sample\")\n",
        "\n",
        "  # devide the total train loss by the length of the train data loader\n",
        "  train_loss /= len(train_dataloader)\n",
        "\n",
        "  ### Testing\n",
        "  test_loss, test_acc = 0, 0\n",
        "  model_0.eval()\n",
        "  with torch.inference_mode():\n",
        "\n",
        "    # add a loop through a testing data batches\n",
        "    for batch, (X_test, y_test) in enumerate(test_dataloader):\n",
        "\n",
        "      # pass the data to target device\n",
        "      X_test, y_test = X_test.to(device), y_test.to(device)\n",
        "\n",
        "      # 1. forward pass\n",
        "      test_pred = model_0(X_test)\n",
        "\n",
        "      # 2. calculate the loss and accuracy\n",
        "      test_loss += loss_fn(test_pred, y_test)\n",
        "      test_acc += accuracy_fn(y_true=y_test, y_pred=test_pred.argmax(dim=1))\n",
        "\n",
        "    # calculate the average loss for each batch\n",
        "    test_loss /= len(test_dataloader)\n",
        "\n",
        "    # calculate the average acc for each batch\n",
        "    test_acc /= len(test_dataloader)\n",
        "\n",
        "  # print status\n",
        "  print(f\"\\nTrain loss: {train_loss:.4f} | Test_loss: {test_loss:.4f} | Test acc: {test_acc:.4f}\")"
      ],
      "metadata": {
        "colab": {
          "base_uri": "https://localhost:8080/",
          "height": 1000,
          "referenced_widgets": [
            "4d4b08a7263647e38bb48621cce16bd4",
            "95864f40e4444bf3aa06a4010ff93d19",
            "ae7c28db64de455fa9716b971b07f9aa",
            "18b6c5f746b84c73aeac3954943e34df",
            "33d9bb23b77c4e57b0690f5b0abb5f4e",
            "5218bd60b258403283addd269dd9f3b4",
            "7a00d2fbb1da4d47b971c3578e460c33",
            "b4023a34c97f481dbced60433cfa2a47",
            "dfe9a304574140caabcdc5cec0a24a60",
            "1ad0a59e5be044d5a5707630b19f5196",
            "009ebe20f53e461aa87b64e6a288ad03"
          ]
        },
        "id": "jD0PlUW38w6L",
        "outputId": "54da24dd-c72e-445b-8f35-c8bfbbeffedd"
      },
      "execution_count": 22,
      "outputs": [
        {
          "data": {
            "application/vnd.jupyter.widget-view+json": {
              "model_id": "4d4b08a7263647e38bb48621cce16bd4",
              "version_major": 2,
              "version_minor": 0
            },
            "text/plain": [
              "  0%|          | 0/20 [00:00<?, ?it/s]"
            ]
          },
          "metadata": {},
          "output_type": "display_data"
        },
        {
          "output_type": "stream",
          "name": "stdout",
          "text": [
            "Epoch: 0 \n",
            "-------------------\n",
            "Looked at 0 / 50000 sample\n",
            "Looked at 12800 / 50000 sample\n",
            "Looked at 25600 / 50000 sample\n",
            "Looked at 38400 / 50000 sample\n",
            "\n",
            "Train loss: 2.0519 | Test_loss: 1.7115 | Test acc: 37.9992\n",
            "Epoch: 1 \n",
            "-------------------\n",
            "Looked at 0 / 50000 sample\n",
            "Looked at 12800 / 50000 sample\n",
            "Looked at 25600 / 50000 sample\n",
            "Looked at 38400 / 50000 sample\n",
            "\n",
            "Train loss: 1.5280 | Test_loss: 1.4930 | Test acc: 46.8750\n",
            "Epoch: 2 \n",
            "-------------------\n",
            "Looked at 0 / 50000 sample\n",
            "Looked at 12800 / 50000 sample\n",
            "Looked at 25600 / 50000 sample\n",
            "Looked at 38400 / 50000 sample\n",
            "\n",
            "Train loss: 1.3692 | Test_loss: 1.3905 | Test acc: 51.1881\n",
            "Epoch: 3 \n",
            "-------------------\n",
            "Looked at 0 / 50000 sample\n",
            "Looked at 12800 / 50000 sample\n",
            "Looked at 25600 / 50000 sample\n",
            "Looked at 38400 / 50000 sample\n",
            "\n",
            "Train loss: 1.3046 | Test_loss: 1.3329 | Test acc: 52.0767\n",
            "Epoch: 4 \n",
            "-------------------\n",
            "Looked at 0 / 50000 sample\n",
            "Looked at 12800 / 50000 sample\n",
            "Looked at 25600 / 50000 sample\n",
            "Looked at 38400 / 50000 sample\n",
            "\n",
            "Train loss: 1.2505 | Test_loss: 1.2197 | Test acc: 56.6993\n",
            "Epoch: 5 \n",
            "-------------------\n",
            "Looked at 0 / 50000 sample\n",
            "Looked at 12800 / 50000 sample\n",
            "Looked at 25600 / 50000 sample\n",
            "Looked at 38400 / 50000 sample\n",
            "\n",
            "Train loss: 1.2194 | Test_loss: 1.3387 | Test acc: 52.5160\n",
            "Epoch: 6 \n",
            "-------------------\n",
            "Looked at 0 / 50000 sample\n",
            "Looked at 12800 / 50000 sample\n",
            "Looked at 25600 / 50000 sample\n",
            "Looked at 38400 / 50000 sample\n",
            "\n",
            "Train loss: 1.1875 | Test_loss: 1.3229 | Test acc: 52.3462\n",
            "Epoch: 7 \n",
            "-------------------\n",
            "Looked at 0 / 50000 sample\n",
            "Looked at 12800 / 50000 sample\n",
            "Looked at 25600 / 50000 sample\n",
            "Looked at 38400 / 50000 sample\n",
            "\n",
            "Train loss: 1.1664 | Test_loss: 1.2772 | Test acc: 54.9621\n",
            "Epoch: 8 \n",
            "-------------------\n",
            "Looked at 0 / 50000 sample\n",
            "Looked at 12800 / 50000 sample\n",
            "Looked at 25600 / 50000 sample\n",
            "Looked at 38400 / 50000 sample\n",
            "\n",
            "Train loss: 1.1501 | Test_loss: 1.2783 | Test acc: 56.0004\n",
            "Epoch: 9 \n",
            "-------------------\n",
            "Looked at 0 / 50000 sample\n",
            "Looked at 12800 / 50000 sample\n",
            "Looked at 25600 / 50000 sample\n",
            "Looked at 38400 / 50000 sample\n",
            "\n",
            "Train loss: 1.1361 | Test_loss: 1.2450 | Test acc: 56.4397\n",
            "Epoch: 10 \n",
            "-------------------\n",
            "Looked at 0 / 50000 sample\n",
            "Looked at 12800 / 50000 sample\n",
            "Looked at 25600 / 50000 sample\n",
            "Looked at 38400 / 50000 sample\n",
            "\n",
            "Train loss: 1.1295 | Test_loss: 1.2030 | Test acc: 58.3267\n",
            "Epoch: 11 \n",
            "-------------------\n",
            "Looked at 0 / 50000 sample\n",
            "Looked at 12800 / 50000 sample\n",
            "Looked at 25600 / 50000 sample\n",
            "Looked at 38400 / 50000 sample\n",
            "\n",
            "Train loss: 1.1152 | Test_loss: 1.1637 | Test acc: 59.4848\n",
            "Epoch: 12 \n",
            "-------------------\n",
            "Looked at 0 / 50000 sample\n",
            "Looked at 12800 / 50000 sample\n",
            "Looked at 25600 / 50000 sample\n",
            "Looked at 38400 / 50000 sample\n",
            "\n",
            "Train loss: 1.1153 | Test_loss: 1.1702 | Test acc: 59.4449\n",
            "Epoch: 13 \n",
            "-------------------\n",
            "Looked at 0 / 50000 sample\n",
            "Looked at 12800 / 50000 sample\n",
            "Looked at 25600 / 50000 sample\n",
            "Looked at 38400 / 50000 sample\n",
            "\n",
            "Train loss: 1.1083 | Test_loss: 1.2937 | Test acc: 54.6326\n",
            "Epoch: 14 \n",
            "-------------------\n",
            "Looked at 0 / 50000 sample\n",
            "Looked at 12800 / 50000 sample\n",
            "Looked at 25600 / 50000 sample\n",
            "Looked at 38400 / 50000 sample\n",
            "\n",
            "Train loss: 1.1025 | Test_loss: 1.1629 | Test acc: 59.0455\n",
            "Epoch: 15 \n",
            "-------------------\n",
            "Looked at 0 / 50000 sample\n",
            "Looked at 12800 / 50000 sample\n",
            "Looked at 25600 / 50000 sample\n",
            "Looked at 38400 / 50000 sample\n",
            "\n",
            "Train loss: 1.1000 | Test_loss: 1.1612 | Test acc: 58.9257\n",
            "Epoch: 16 \n",
            "-------------------\n",
            "Looked at 0 / 50000 sample\n",
            "Looked at 12800 / 50000 sample\n",
            "Looked at 25600 / 50000 sample\n",
            "Looked at 38400 / 50000 sample\n",
            "\n",
            "Train loss: 1.0963 | Test_loss: 1.1977 | Test acc: 56.8590\n",
            "Epoch: 17 \n",
            "-------------------\n",
            "Looked at 0 / 50000 sample\n",
            "Looked at 12800 / 50000 sample\n",
            "Looked at 25600 / 50000 sample\n",
            "Looked at 38400 / 50000 sample\n",
            "\n",
            "Train loss: 1.0969 | Test_loss: 1.2872 | Test acc: 53.8638\n",
            "Epoch: 18 \n",
            "-------------------\n",
            "Looked at 0 / 50000 sample\n",
            "Looked at 12800 / 50000 sample\n",
            "Looked at 25600 / 50000 sample\n",
            "Looked at 38400 / 50000 sample\n",
            "\n",
            "Train loss: 1.0874 | Test_loss: 1.2706 | Test acc: 56.1801\n",
            "Epoch: 19 \n",
            "-------------------\n",
            "Looked at 0 / 50000 sample\n",
            "Looked at 12800 / 50000 sample\n",
            "Looked at 25600 / 50000 sample\n",
            "Looked at 38400 / 50000 sample\n",
            "\n",
            "Train loss: 1.0814 | Test_loss: 1.2967 | Test acc: 56.0204\n"
          ]
        }
      ]
    },
    {
      "cell_type": "code",
      "source": [],
      "metadata": {
        "id": "CcBtcsiDG1O_"
      },
      "execution_count": 22,
      "outputs": []
    }
  ]
}