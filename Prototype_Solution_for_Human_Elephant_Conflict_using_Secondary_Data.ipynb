{
  "nbformat": 4,
  "nbformat_minor": 0,
  "metadata": {
    "colab": {
      "name": "Prototype_Solution_for_Human_Elephant_Conflict_using_Secondary_Data.ipynb",
      "private_outputs": true,
      "provenance": [],
      "authorship_tag": "ABX9TyPpX76vxYCFD3COvlKjoliA",
      "include_colab_link": true
    },
    "kernelspec": {
      "name": "python3",
      "display_name": "Python 3"
    },
    "language_info": {
      "name": "python"
    },
    "accelerator": "TPU"
  },
  "cells": [
    {
      "cell_type": "markdown",
      "metadata": {
        "id": "view-in-github",
        "colab_type": "text"
      },
      "source": [
        "<a href=\"https://colab.research.google.com/github/bathicodes/EXPERIMENTS/blob/main/Prototype_Solution_for_Human_Elephant_Conflict_using_Secondary_Data.ipynb\" target=\"_parent\"><img src=\"https://colab.research.google.com/assets/colab-badge.svg\" alt=\"Open In Colab\"/></a>"
      ]
    },
    {
      "cell_type": "markdown",
      "metadata": {
        "id": "GaA52__jlNGB"
      },
      "source": [
        "### Import libraries"
      ]
    },
    {
      "cell_type": "code",
      "metadata": {
        "id": "x2ruYxEdjdpr"
      },
      "source": [
        "import numpy as np\n",
        "import pandas as pd\n",
        "import matplotlib.pyplot as plt\n",
        "from sklearn.model_selection import train_test_split, cross_val_score\n",
        "from xgboost import XGBClassifier\n",
        "from sklearn.linear_model import LogisticRegression\n",
        "from sklearn.preprocessing import StandardScaler\n",
        "from sklearn.metrics import accuracy_score, confusion_matrix\n",
        "from sklearn.ensemble import RandomForestClassifier"
      ],
      "execution_count": null,
      "outputs": []
    },
    {
      "cell_type": "markdown",
      "metadata": {
        "id": "9ZxgnOHNlr0S"
      },
      "source": [
        "### Import dataset"
      ]
    },
    {
      "cell_type": "code",
      "metadata": {
        "id": "5DNsjrGkltZj"
      },
      "source": [
        "dataset = pd.read_csv('elenotify_ds.csv')\n",
        "x = dataset.iloc[:, 1:3].values\n",
        "y = dataset.iloc[:, 4].values"
      ],
      "execution_count": null,
      "outputs": []
    },
    {
      "cell_type": "code",
      "metadata": {
        "id": "vStV4xaW7Z3W"
      },
      "source": [
        "print(x)"
      ],
      "execution_count": null,
      "outputs": []
    },
    {
      "cell_type": "code",
      "metadata": {
        "id": "oLJGOhsX7diV"
      },
      "source": [
        "print(y)"
      ],
      "execution_count": null,
      "outputs": []
    },
    {
      "cell_type": "markdown",
      "metadata": {
        "id": "xjmLYmOel93P"
      },
      "source": [
        "### Split dataset into training set and tesing set"
      ]
    },
    {
      "cell_type": "code",
      "metadata": {
        "id": "abLsVv_QmCZb"
      },
      "source": [
        "x_train, x_test, y_train, y_test = train_test_split(x,y,test_size=0.2,random_state=1)"
      ],
      "execution_count": null,
      "outputs": []
    },
    {
      "cell_type": "markdown",
      "metadata": {
        "id": "dKWFKV3U0XbH"
      },
      "source": [
        "### Feature scaling"
      ]
    },
    {
      "cell_type": "code",
      "metadata": {
        "id": "B4EQfmVk0Zq_"
      },
      "source": [
        "sc = StandardScaler()\n",
        "x_train = sc.fit_transform(x_train)\n",
        "x_test = sc.transform(x_test)"
      ],
      "execution_count": null,
      "outputs": []
    },
    {
      "cell_type": "markdown",
      "metadata": {
        "id": "UaPxFxJQmTSC"
      },
      "source": [
        "### Training XGBoost on the training set"
      ]
    },
    {
      "cell_type": "code",
      "metadata": {
        "id": "DlTfhdjKmXLp"
      },
      "source": [
        "classifier = XGBClassifier()\n",
        "classifier.fit(x_train, y_train)\n",
        "# classifier = LogisticRegression(random_state=0)\n",
        "# classifier.fit(x_train, y_train)\n",
        "# classifier = RandomForestClassifier(n_estimators=5, criterion='entropy',random_state=0)\n",
        "# classifier.fit(x_train, y_train)"
      ],
      "execution_count": null,
      "outputs": []
    },
    {
      "cell_type": "markdown",
      "metadata": {
        "id": "0eQ7SarEmsDA"
      },
      "source": [
        "### Making the confusion accuracy"
      ]
    },
    {
      "cell_type": "code",
      "metadata": {
        "id": "M8aLobs7mvai"
      },
      "source": [
        "y_pred = classifier.predict(x_test)\n",
        "cm = confusion_matrix(y_test, y_pred)\n",
        "print(cm)\n",
        "ac = accuracy_score(y_test, y_pred)\n",
        "print(ac)"
      ],
      "execution_count": null,
      "outputs": []
    },
    {
      "cell_type": "markdown",
      "metadata": {
        "id": "vmdDNMAymwjm"
      },
      "source": [
        "### Applying K-Fold Cross validation"
      ]
    },
    {
      "cell_type": "code",
      "metadata": {
        "id": "lE059FA-m0Se"
      },
      "source": [
        "accuracies = cross_val_score(estimator = classifier, X = x_train, y = y_train, cv = 10)\n",
        "print(\"Accuracy: {:.2f} %\".format(accuracies.mean() * 100))\n",
        "print(\"Standard Deviation: {:.2f} %\".format(accuracies.std() * 100))"
      ],
      "execution_count": null,
      "outputs": []
    }
  ]
}