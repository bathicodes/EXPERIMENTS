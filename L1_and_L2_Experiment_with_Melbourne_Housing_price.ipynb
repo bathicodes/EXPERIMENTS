{
  "nbformat": 4,
  "nbformat_minor": 0,
  "metadata": {
    "colab": {
      "name": "L1 and L2 Experiment with Melbourne Housing price.ipynb",
      "provenance": [],
      "authorship_tag": "ABX9TyO3sCjFBLpPC5Mf0OZc+E1s",
      "include_colab_link": true
    },
    "kernelspec": {
      "name": "python3",
      "display_name": "Python 3"
    },
    "language_info": {
      "name": "python"
    }
  },
  "cells": [
    {
      "cell_type": "markdown",
      "metadata": {
        "id": "view-in-github",
        "colab_type": "text"
      },
      "source": [
        "<a href=\"https://colab.research.google.com/github/bathicodes/EXPERIMENTS/blob/main/L1_and_L2_Experiment_with_Melbourne_Housing_price.ipynb\" target=\"_parent\"><img src=\"https://colab.research.google.com/assets/colab-badge.svg\" alt=\"Open In Colab\"/></a>"
      ]
    },
    {
      "cell_type": "markdown",
      "source": [
        "# Import libraries"
      ],
      "metadata": {
        "id": "bKUnNcG-idsB"
      }
    },
    {
      "cell_type": "code",
      "execution_count": 1,
      "metadata": {
        "id": "7FyMuCryiKqc"
      },
      "outputs": [],
      "source": [
        "import numpy as np\n",
        "import pandas as pd\n",
        "import matplotlib.pyplot as plt"
      ]
    },
    {
      "cell_type": "markdown",
      "source": [
        "# Import dataset"
      ],
      "metadata": {
        "id": "hOAraIYxivH_"
      }
    },
    {
      "cell_type": "code",
      "source": [
        "dataset = pd.read_csv(\"Melbourne_housing_FULL.csv\")\n",
        "dataset.head()"
      ],
      "metadata": {
        "colab": {
          "base_uri": "https://localhost:8080/",
          "height": 399
        },
        "id": "158QxNlviteW",
        "outputId": "9de3a870-d0c8-4feb-a854-6f85f30b5c4f"
      },
      "execution_count": 2,
      "outputs": [
        {
          "output_type": "execute_result",
          "data": {
            "text/plain": [
              "       Suburb             Address  Rooms Type      Price Method SellerG  \\\n",
              "0  Abbotsford       68 Studley St      2    h        NaN     SS  Jellis   \n",
              "1  Abbotsford        85 Turner St      2    h  1480000.0      S  Biggin   \n",
              "2  Abbotsford     25 Bloomburg St      2    h  1035000.0      S  Biggin   \n",
              "3  Abbotsford  18/659 Victoria St      3    u        NaN     VB  Rounds   \n",
              "4  Abbotsford        5 Charles St      3    h  1465000.0     SP  Biggin   \n",
              "\n",
              "        Date  Distance  Postcode  ...  Bathroom  Car  Landsize  BuildingArea  \\\n",
              "0  3/09/2016       2.5    3067.0  ...       1.0  1.0     126.0           NaN   \n",
              "1  3/12/2016       2.5    3067.0  ...       1.0  1.0     202.0           NaN   \n",
              "2  4/02/2016       2.5    3067.0  ...       1.0  0.0     156.0          79.0   \n",
              "3  4/02/2016       2.5    3067.0  ...       2.0  1.0       0.0           NaN   \n",
              "4  4/03/2017       2.5    3067.0  ...       2.0  0.0     134.0         150.0   \n",
              "\n",
              "   YearBuilt         CouncilArea Lattitude  Longtitude             Regionname  \\\n",
              "0        NaN  Yarra City Council  -37.8014    144.9958  Northern Metropolitan   \n",
              "1        NaN  Yarra City Council  -37.7996    144.9984  Northern Metropolitan   \n",
              "2     1900.0  Yarra City Council  -37.8079    144.9934  Northern Metropolitan   \n",
              "3        NaN  Yarra City Council  -37.8114    145.0116  Northern Metropolitan   \n",
              "4     1900.0  Yarra City Council  -37.8093    144.9944  Northern Metropolitan   \n",
              "\n",
              "  Propertycount  \n",
              "0        4019.0  \n",
              "1        4019.0  \n",
              "2        4019.0  \n",
              "3        4019.0  \n",
              "4        4019.0  \n",
              "\n",
              "[5 rows x 21 columns]"
            ],
            "text/html": [
              "\n",
              "  <div id=\"df-8791781e-46d1-4b3d-aac1-7198725f0254\">\n",
              "    <div class=\"colab-df-container\">\n",
              "      <div>\n",
              "<style scoped>\n",
              "    .dataframe tbody tr th:only-of-type {\n",
              "        vertical-align: middle;\n",
              "    }\n",
              "\n",
              "    .dataframe tbody tr th {\n",
              "        vertical-align: top;\n",
              "    }\n",
              "\n",
              "    .dataframe thead th {\n",
              "        text-align: right;\n",
              "    }\n",
              "</style>\n",
              "<table border=\"1\" class=\"dataframe\">\n",
              "  <thead>\n",
              "    <tr style=\"text-align: right;\">\n",
              "      <th></th>\n",
              "      <th>Suburb</th>\n",
              "      <th>Address</th>\n",
              "      <th>Rooms</th>\n",
              "      <th>Type</th>\n",
              "      <th>Price</th>\n",
              "      <th>Method</th>\n",
              "      <th>SellerG</th>\n",
              "      <th>Date</th>\n",
              "      <th>Distance</th>\n",
              "      <th>Postcode</th>\n",
              "      <th>...</th>\n",
              "      <th>Bathroom</th>\n",
              "      <th>Car</th>\n",
              "      <th>Landsize</th>\n",
              "      <th>BuildingArea</th>\n",
              "      <th>YearBuilt</th>\n",
              "      <th>CouncilArea</th>\n",
              "      <th>Lattitude</th>\n",
              "      <th>Longtitude</th>\n",
              "      <th>Regionname</th>\n",
              "      <th>Propertycount</th>\n",
              "    </tr>\n",
              "  </thead>\n",
              "  <tbody>\n",
              "    <tr>\n",
              "      <th>0</th>\n",
              "      <td>Abbotsford</td>\n",
              "      <td>68 Studley St</td>\n",
              "      <td>2</td>\n",
              "      <td>h</td>\n",
              "      <td>NaN</td>\n",
              "      <td>SS</td>\n",
              "      <td>Jellis</td>\n",
              "      <td>3/09/2016</td>\n",
              "      <td>2.5</td>\n",
              "      <td>3067.0</td>\n",
              "      <td>...</td>\n",
              "      <td>1.0</td>\n",
              "      <td>1.0</td>\n",
              "      <td>126.0</td>\n",
              "      <td>NaN</td>\n",
              "      <td>NaN</td>\n",
              "      <td>Yarra City Council</td>\n",
              "      <td>-37.8014</td>\n",
              "      <td>144.9958</td>\n",
              "      <td>Northern Metropolitan</td>\n",
              "      <td>4019.0</td>\n",
              "    </tr>\n",
              "    <tr>\n",
              "      <th>1</th>\n",
              "      <td>Abbotsford</td>\n",
              "      <td>85 Turner St</td>\n",
              "      <td>2</td>\n",
              "      <td>h</td>\n",
              "      <td>1480000.0</td>\n",
              "      <td>S</td>\n",
              "      <td>Biggin</td>\n",
              "      <td>3/12/2016</td>\n",
              "      <td>2.5</td>\n",
              "      <td>3067.0</td>\n",
              "      <td>...</td>\n",
              "      <td>1.0</td>\n",
              "      <td>1.0</td>\n",
              "      <td>202.0</td>\n",
              "      <td>NaN</td>\n",
              "      <td>NaN</td>\n",
              "      <td>Yarra City Council</td>\n",
              "      <td>-37.7996</td>\n",
              "      <td>144.9984</td>\n",
              "      <td>Northern Metropolitan</td>\n",
              "      <td>4019.0</td>\n",
              "    </tr>\n",
              "    <tr>\n",
              "      <th>2</th>\n",
              "      <td>Abbotsford</td>\n",
              "      <td>25 Bloomburg St</td>\n",
              "      <td>2</td>\n",
              "      <td>h</td>\n",
              "      <td>1035000.0</td>\n",
              "      <td>S</td>\n",
              "      <td>Biggin</td>\n",
              "      <td>4/02/2016</td>\n",
              "      <td>2.5</td>\n",
              "      <td>3067.0</td>\n",
              "      <td>...</td>\n",
              "      <td>1.0</td>\n",
              "      <td>0.0</td>\n",
              "      <td>156.0</td>\n",
              "      <td>79.0</td>\n",
              "      <td>1900.0</td>\n",
              "      <td>Yarra City Council</td>\n",
              "      <td>-37.8079</td>\n",
              "      <td>144.9934</td>\n",
              "      <td>Northern Metropolitan</td>\n",
              "      <td>4019.0</td>\n",
              "    </tr>\n",
              "    <tr>\n",
              "      <th>3</th>\n",
              "      <td>Abbotsford</td>\n",
              "      <td>18/659 Victoria St</td>\n",
              "      <td>3</td>\n",
              "      <td>u</td>\n",
              "      <td>NaN</td>\n",
              "      <td>VB</td>\n",
              "      <td>Rounds</td>\n",
              "      <td>4/02/2016</td>\n",
              "      <td>2.5</td>\n",
              "      <td>3067.0</td>\n",
              "      <td>...</td>\n",
              "      <td>2.0</td>\n",
              "      <td>1.0</td>\n",
              "      <td>0.0</td>\n",
              "      <td>NaN</td>\n",
              "      <td>NaN</td>\n",
              "      <td>Yarra City Council</td>\n",
              "      <td>-37.8114</td>\n",
              "      <td>145.0116</td>\n",
              "      <td>Northern Metropolitan</td>\n",
              "      <td>4019.0</td>\n",
              "    </tr>\n",
              "    <tr>\n",
              "      <th>4</th>\n",
              "      <td>Abbotsford</td>\n",
              "      <td>5 Charles St</td>\n",
              "      <td>3</td>\n",
              "      <td>h</td>\n",
              "      <td>1465000.0</td>\n",
              "      <td>SP</td>\n",
              "      <td>Biggin</td>\n",
              "      <td>4/03/2017</td>\n",
              "      <td>2.5</td>\n",
              "      <td>3067.0</td>\n",
              "      <td>...</td>\n",
              "      <td>2.0</td>\n",
              "      <td>0.0</td>\n",
              "      <td>134.0</td>\n",
              "      <td>150.0</td>\n",
              "      <td>1900.0</td>\n",
              "      <td>Yarra City Council</td>\n",
              "      <td>-37.8093</td>\n",
              "      <td>144.9944</td>\n",
              "      <td>Northern Metropolitan</td>\n",
              "      <td>4019.0</td>\n",
              "    </tr>\n",
              "  </tbody>\n",
              "</table>\n",
              "<p>5 rows × 21 columns</p>\n",
              "</div>\n",
              "      <button class=\"colab-df-convert\" onclick=\"convertToInteractive('df-8791781e-46d1-4b3d-aac1-7198725f0254')\"\n",
              "              title=\"Convert this dataframe to an interactive table.\"\n",
              "              style=\"display:none;\">\n",
              "        \n",
              "  <svg xmlns=\"http://www.w3.org/2000/svg\" height=\"24px\"viewBox=\"0 0 24 24\"\n",
              "       width=\"24px\">\n",
              "    <path d=\"M0 0h24v24H0V0z\" fill=\"none\"/>\n",
              "    <path d=\"M18.56 5.44l.94 2.06.94-2.06 2.06-.94-2.06-.94-.94-2.06-.94 2.06-2.06.94zm-11 1L8.5 8.5l.94-2.06 2.06-.94-2.06-.94L8.5 2.5l-.94 2.06-2.06.94zm10 10l.94 2.06.94-2.06 2.06-.94-2.06-.94-.94-2.06-.94 2.06-2.06.94z\"/><path d=\"M17.41 7.96l-1.37-1.37c-.4-.4-.92-.59-1.43-.59-.52 0-1.04.2-1.43.59L10.3 9.45l-7.72 7.72c-.78.78-.78 2.05 0 2.83L4 21.41c.39.39.9.59 1.41.59.51 0 1.02-.2 1.41-.59l7.78-7.78 2.81-2.81c.8-.78.8-2.07 0-2.86zM5.41 20L4 18.59l7.72-7.72 1.47 1.35L5.41 20z\"/>\n",
              "  </svg>\n",
              "      </button>\n",
              "      \n",
              "  <style>\n",
              "    .colab-df-container {\n",
              "      display:flex;\n",
              "      flex-wrap:wrap;\n",
              "      gap: 12px;\n",
              "    }\n",
              "\n",
              "    .colab-df-convert {\n",
              "      background-color: #E8F0FE;\n",
              "      border: none;\n",
              "      border-radius: 50%;\n",
              "      cursor: pointer;\n",
              "      display: none;\n",
              "      fill: #1967D2;\n",
              "      height: 32px;\n",
              "      padding: 0 0 0 0;\n",
              "      width: 32px;\n",
              "    }\n",
              "\n",
              "    .colab-df-convert:hover {\n",
              "      background-color: #E2EBFA;\n",
              "      box-shadow: 0px 1px 2px rgba(60, 64, 67, 0.3), 0px 1px 3px 1px rgba(60, 64, 67, 0.15);\n",
              "      fill: #174EA6;\n",
              "    }\n",
              "\n",
              "    [theme=dark] .colab-df-convert {\n",
              "      background-color: #3B4455;\n",
              "      fill: #D2E3FC;\n",
              "    }\n",
              "\n",
              "    [theme=dark] .colab-df-convert:hover {\n",
              "      background-color: #434B5C;\n",
              "      box-shadow: 0px 1px 3px 1px rgba(0, 0, 0, 0.15);\n",
              "      filter: drop-shadow(0px 1px 2px rgba(0, 0, 0, 0.3));\n",
              "      fill: #FFFFFF;\n",
              "    }\n",
              "  </style>\n",
              "\n",
              "      <script>\n",
              "        const buttonEl =\n",
              "          document.querySelector('#df-8791781e-46d1-4b3d-aac1-7198725f0254 button.colab-df-convert');\n",
              "        buttonEl.style.display =\n",
              "          google.colab.kernel.accessAllowed ? 'block' : 'none';\n",
              "\n",
              "        async function convertToInteractive(key) {\n",
              "          const element = document.querySelector('#df-8791781e-46d1-4b3d-aac1-7198725f0254');\n",
              "          const dataTable =\n",
              "            await google.colab.kernel.invokeFunction('convertToInteractive',\n",
              "                                                     [key], {});\n",
              "          if (!dataTable) return;\n",
              "\n",
              "          const docLinkHtml = 'Like what you see? Visit the ' +\n",
              "            '<a target=\"_blank\" href=https://colab.research.google.com/notebooks/data_table.ipynb>data table notebook</a>'\n",
              "            + ' to learn more about interactive tables.';\n",
              "          element.innerHTML = '';\n",
              "          dataTable['output_type'] = 'display_data';\n",
              "          await google.colab.output.renderOutput(dataTable, element);\n",
              "          const docLink = document.createElement('div');\n",
              "          docLink.innerHTML = docLinkHtml;\n",
              "          element.appendChild(docLink);\n",
              "        }\n",
              "      </script>\n",
              "    </div>\n",
              "  </div>\n",
              "  "
            ]
          },
          "metadata": {},
          "execution_count": 2
        }
      ]
    },
    {
      "cell_type": "markdown",
      "source": [
        "printing unique values in the dataset by using nunique() method"
      ],
      "metadata": {
        "id": "BvX8-PFOj-WD"
      }
    },
    {
      "cell_type": "code",
      "source": [
        "dataset.nunique()"
      ],
      "metadata": {
        "colab": {
          "base_uri": "https://localhost:8080/"
        },
        "id": "Er-RGEbhjoQF",
        "outputId": "4b44c40f-4e06-44a7-984d-b04851eb3bca"
      },
      "execution_count": 3,
      "outputs": [
        {
          "output_type": "execute_result",
          "data": {
            "text/plain": [
              "Suburb             351\n",
              "Address          34009\n",
              "Rooms               12\n",
              "Type                 3\n",
              "Price             2871\n",
              "Method               9\n",
              "SellerG            388\n",
              "Date                78\n",
              "Distance           215\n",
              "Postcode           211\n",
              "Bedroom2            15\n",
              "Bathroom            11\n",
              "Car                 15\n",
              "Landsize          1684\n",
              "BuildingArea       740\n",
              "YearBuilt          160\n",
              "CouncilArea         33\n",
              "Lattitude        13402\n",
              "Longtitude       14524\n",
              "Regionname           8\n",
              "Propertycount      342\n",
              "dtype: int64"
            ]
          },
          "metadata": {},
          "execution_count": 3
        }
      ]
    },
    {
      "cell_type": "code",
      "source": [
        "dataset.shape"
      ],
      "metadata": {
        "colab": {
          "base_uri": "https://localhost:8080/"
        },
        "id": "VtRtR_jpj3vx",
        "outputId": "aa8fdd16-51ae-4526-a52e-a8285f3f449a"
      },
      "execution_count": 4,
      "outputs": [
        {
          "output_type": "execute_result",
          "data": {
            "text/plain": [
              "(34857, 21)"
            ]
          },
          "metadata": {},
          "execution_count": 4
        }
      ]
    },
    {
      "cell_type": "markdown",
      "source": [
        "# Data cleaning"
      ],
      "metadata": {
        "id": "jHWtUeKTm1wE"
      }
    },
    {
      "cell_type": "code",
      "source": [
        "columns_to_use = [\"Suburb\",\"Rooms\",\"Type\",\"Method\",\"SellerG\",\"Regionname\",\"Propertycount\",\"Distance\",\"CouncilArea\",\"Bedroom2\",\"Bathroom\",\"Car\",\"Landsize\",\"BuildingArea\",\"Price\"]\n",
        "\n",
        "dataset = dataset[columns_to_use]\n",
        "dataset.head()"
      ],
      "metadata": {
        "colab": {
          "base_uri": "https://localhost:8080/",
          "height": 204
        },
        "id": "P8ktN0eFlr6t",
        "outputId": "2330c63f-3372-4287-edde-cc5bb9bb6768"
      },
      "execution_count": 5,
      "outputs": [
        {
          "output_type": "execute_result",
          "data": {
            "text/plain": [
              "       Suburb  Rooms Type Method SellerG             Regionname  \\\n",
              "0  Abbotsford      2    h     SS  Jellis  Northern Metropolitan   \n",
              "1  Abbotsford      2    h      S  Biggin  Northern Metropolitan   \n",
              "2  Abbotsford      2    h      S  Biggin  Northern Metropolitan   \n",
              "3  Abbotsford      3    u     VB  Rounds  Northern Metropolitan   \n",
              "4  Abbotsford      3    h     SP  Biggin  Northern Metropolitan   \n",
              "\n",
              "   Propertycount  Distance         CouncilArea  Bedroom2  Bathroom  Car  \\\n",
              "0         4019.0       2.5  Yarra City Council       2.0       1.0  1.0   \n",
              "1         4019.0       2.5  Yarra City Council       2.0       1.0  1.0   \n",
              "2         4019.0       2.5  Yarra City Council       2.0       1.0  0.0   \n",
              "3         4019.0       2.5  Yarra City Council       3.0       2.0  1.0   \n",
              "4         4019.0       2.5  Yarra City Council       3.0       2.0  0.0   \n",
              "\n",
              "   Landsize  BuildingArea      Price  \n",
              "0     126.0           NaN        NaN  \n",
              "1     202.0           NaN  1480000.0  \n",
              "2     156.0          79.0  1035000.0  \n",
              "3       0.0           NaN        NaN  \n",
              "4     134.0         150.0  1465000.0  "
            ],
            "text/html": [
              "\n",
              "  <div id=\"df-927b098c-0d2b-4d3f-9178-02afe25de636\">\n",
              "    <div class=\"colab-df-container\">\n",
              "      <div>\n",
              "<style scoped>\n",
              "    .dataframe tbody tr th:only-of-type {\n",
              "        vertical-align: middle;\n",
              "    }\n",
              "\n",
              "    .dataframe tbody tr th {\n",
              "        vertical-align: top;\n",
              "    }\n",
              "\n",
              "    .dataframe thead th {\n",
              "        text-align: right;\n",
              "    }\n",
              "</style>\n",
              "<table border=\"1\" class=\"dataframe\">\n",
              "  <thead>\n",
              "    <tr style=\"text-align: right;\">\n",
              "      <th></th>\n",
              "      <th>Suburb</th>\n",
              "      <th>Rooms</th>\n",
              "      <th>Type</th>\n",
              "      <th>Method</th>\n",
              "      <th>SellerG</th>\n",
              "      <th>Regionname</th>\n",
              "      <th>Propertycount</th>\n",
              "      <th>Distance</th>\n",
              "      <th>CouncilArea</th>\n",
              "      <th>Bedroom2</th>\n",
              "      <th>Bathroom</th>\n",
              "      <th>Car</th>\n",
              "      <th>Landsize</th>\n",
              "      <th>BuildingArea</th>\n",
              "      <th>Price</th>\n",
              "    </tr>\n",
              "  </thead>\n",
              "  <tbody>\n",
              "    <tr>\n",
              "      <th>0</th>\n",
              "      <td>Abbotsford</td>\n",
              "      <td>2</td>\n",
              "      <td>h</td>\n",
              "      <td>SS</td>\n",
              "      <td>Jellis</td>\n",
              "      <td>Northern Metropolitan</td>\n",
              "      <td>4019.0</td>\n",
              "      <td>2.5</td>\n",
              "      <td>Yarra City Council</td>\n",
              "      <td>2.0</td>\n",
              "      <td>1.0</td>\n",
              "      <td>1.0</td>\n",
              "      <td>126.0</td>\n",
              "      <td>NaN</td>\n",
              "      <td>NaN</td>\n",
              "    </tr>\n",
              "    <tr>\n",
              "      <th>1</th>\n",
              "      <td>Abbotsford</td>\n",
              "      <td>2</td>\n",
              "      <td>h</td>\n",
              "      <td>S</td>\n",
              "      <td>Biggin</td>\n",
              "      <td>Northern Metropolitan</td>\n",
              "      <td>4019.0</td>\n",
              "      <td>2.5</td>\n",
              "      <td>Yarra City Council</td>\n",
              "      <td>2.0</td>\n",
              "      <td>1.0</td>\n",
              "      <td>1.0</td>\n",
              "      <td>202.0</td>\n",
              "      <td>NaN</td>\n",
              "      <td>1480000.0</td>\n",
              "    </tr>\n",
              "    <tr>\n",
              "      <th>2</th>\n",
              "      <td>Abbotsford</td>\n",
              "      <td>2</td>\n",
              "      <td>h</td>\n",
              "      <td>S</td>\n",
              "      <td>Biggin</td>\n",
              "      <td>Northern Metropolitan</td>\n",
              "      <td>4019.0</td>\n",
              "      <td>2.5</td>\n",
              "      <td>Yarra City Council</td>\n",
              "      <td>2.0</td>\n",
              "      <td>1.0</td>\n",
              "      <td>0.0</td>\n",
              "      <td>156.0</td>\n",
              "      <td>79.0</td>\n",
              "      <td>1035000.0</td>\n",
              "    </tr>\n",
              "    <tr>\n",
              "      <th>3</th>\n",
              "      <td>Abbotsford</td>\n",
              "      <td>3</td>\n",
              "      <td>u</td>\n",
              "      <td>VB</td>\n",
              "      <td>Rounds</td>\n",
              "      <td>Northern Metropolitan</td>\n",
              "      <td>4019.0</td>\n",
              "      <td>2.5</td>\n",
              "      <td>Yarra City Council</td>\n",
              "      <td>3.0</td>\n",
              "      <td>2.0</td>\n",
              "      <td>1.0</td>\n",
              "      <td>0.0</td>\n",
              "      <td>NaN</td>\n",
              "      <td>NaN</td>\n",
              "    </tr>\n",
              "    <tr>\n",
              "      <th>4</th>\n",
              "      <td>Abbotsford</td>\n",
              "      <td>3</td>\n",
              "      <td>h</td>\n",
              "      <td>SP</td>\n",
              "      <td>Biggin</td>\n",
              "      <td>Northern Metropolitan</td>\n",
              "      <td>4019.0</td>\n",
              "      <td>2.5</td>\n",
              "      <td>Yarra City Council</td>\n",
              "      <td>3.0</td>\n",
              "      <td>2.0</td>\n",
              "      <td>0.0</td>\n",
              "      <td>134.0</td>\n",
              "      <td>150.0</td>\n",
              "      <td>1465000.0</td>\n",
              "    </tr>\n",
              "  </tbody>\n",
              "</table>\n",
              "</div>\n",
              "      <button class=\"colab-df-convert\" onclick=\"convertToInteractive('df-927b098c-0d2b-4d3f-9178-02afe25de636')\"\n",
              "              title=\"Convert this dataframe to an interactive table.\"\n",
              "              style=\"display:none;\">\n",
              "        \n",
              "  <svg xmlns=\"http://www.w3.org/2000/svg\" height=\"24px\"viewBox=\"0 0 24 24\"\n",
              "       width=\"24px\">\n",
              "    <path d=\"M0 0h24v24H0V0z\" fill=\"none\"/>\n",
              "    <path d=\"M18.56 5.44l.94 2.06.94-2.06 2.06-.94-2.06-.94-.94-2.06-.94 2.06-2.06.94zm-11 1L8.5 8.5l.94-2.06 2.06-.94-2.06-.94L8.5 2.5l-.94 2.06-2.06.94zm10 10l.94 2.06.94-2.06 2.06-.94-2.06-.94-.94-2.06-.94 2.06-2.06.94z\"/><path d=\"M17.41 7.96l-1.37-1.37c-.4-.4-.92-.59-1.43-.59-.52 0-1.04.2-1.43.59L10.3 9.45l-7.72 7.72c-.78.78-.78 2.05 0 2.83L4 21.41c.39.39.9.59 1.41.59.51 0 1.02-.2 1.41-.59l7.78-7.78 2.81-2.81c.8-.78.8-2.07 0-2.86zM5.41 20L4 18.59l7.72-7.72 1.47 1.35L5.41 20z\"/>\n",
              "  </svg>\n",
              "      </button>\n",
              "      \n",
              "  <style>\n",
              "    .colab-df-container {\n",
              "      display:flex;\n",
              "      flex-wrap:wrap;\n",
              "      gap: 12px;\n",
              "    }\n",
              "\n",
              "    .colab-df-convert {\n",
              "      background-color: #E8F0FE;\n",
              "      border: none;\n",
              "      border-radius: 50%;\n",
              "      cursor: pointer;\n",
              "      display: none;\n",
              "      fill: #1967D2;\n",
              "      height: 32px;\n",
              "      padding: 0 0 0 0;\n",
              "      width: 32px;\n",
              "    }\n",
              "\n",
              "    .colab-df-convert:hover {\n",
              "      background-color: #E2EBFA;\n",
              "      box-shadow: 0px 1px 2px rgba(60, 64, 67, 0.3), 0px 1px 3px 1px rgba(60, 64, 67, 0.15);\n",
              "      fill: #174EA6;\n",
              "    }\n",
              "\n",
              "    [theme=dark] .colab-df-convert {\n",
              "      background-color: #3B4455;\n",
              "      fill: #D2E3FC;\n",
              "    }\n",
              "\n",
              "    [theme=dark] .colab-df-convert:hover {\n",
              "      background-color: #434B5C;\n",
              "      box-shadow: 0px 1px 3px 1px rgba(0, 0, 0, 0.15);\n",
              "      filter: drop-shadow(0px 1px 2px rgba(0, 0, 0, 0.3));\n",
              "      fill: #FFFFFF;\n",
              "    }\n",
              "  </style>\n",
              "\n",
              "      <script>\n",
              "        const buttonEl =\n",
              "          document.querySelector('#df-927b098c-0d2b-4d3f-9178-02afe25de636 button.colab-df-convert');\n",
              "        buttonEl.style.display =\n",
              "          google.colab.kernel.accessAllowed ? 'block' : 'none';\n",
              "\n",
              "        async function convertToInteractive(key) {\n",
              "          const element = document.querySelector('#df-927b098c-0d2b-4d3f-9178-02afe25de636');\n",
              "          const dataTable =\n",
              "            await google.colab.kernel.invokeFunction('convertToInteractive',\n",
              "                                                     [key], {});\n",
              "          if (!dataTable) return;\n",
              "\n",
              "          const docLinkHtml = 'Like what you see? Visit the ' +\n",
              "            '<a target=\"_blank\" href=https://colab.research.google.com/notebooks/data_table.ipynb>data table notebook</a>'\n",
              "            + ' to learn more about interactive tables.';\n",
              "          element.innerHTML = '';\n",
              "          dataTable['output_type'] = 'display_data';\n",
              "          await google.colab.output.renderOutput(dataTable, element);\n",
              "          const docLink = document.createElement('div');\n",
              "          docLink.innerHTML = docLinkHtml;\n",
              "          element.appendChild(docLink);\n",
              "        }\n",
              "      </script>\n",
              "    </div>\n",
              "  </div>\n",
              "  "
            ]
          },
          "metadata": {},
          "execution_count": 5
        }
      ]
    },
    {
      "cell_type": "code",
      "source": [
        "dataset.shape"
      ],
      "metadata": {
        "colab": {
          "base_uri": "https://localhost:8080/"
        },
        "id": "1DrBMgNNmt89",
        "outputId": "9174c17d-8514-44d0-929c-43ce5672d14f"
      },
      "execution_count": 6,
      "outputs": [
        {
          "output_type": "execute_result",
          "data": {
            "text/plain": [
              "(34857, 15)"
            ]
          },
          "metadata": {},
          "execution_count": 6
        }
      ]
    },
    {
      "cell_type": "code",
      "source": [
        "dataset.isna().sum()"
      ],
      "metadata": {
        "colab": {
          "base_uri": "https://localhost:8080/"
        },
        "id": "LW--B7sImxZ3",
        "outputId": "0a8e6b47-1f7b-48e5-af73-1db59720611e"
      },
      "execution_count": 7,
      "outputs": [
        {
          "output_type": "execute_result",
          "data": {
            "text/plain": [
              "Suburb               0\n",
              "Rooms                0\n",
              "Type                 0\n",
              "Method               0\n",
              "SellerG              0\n",
              "Regionname           3\n",
              "Propertycount        3\n",
              "Distance             1\n",
              "CouncilArea          3\n",
              "Bedroom2          8217\n",
              "Bathroom          8226\n",
              "Car               8728\n",
              "Landsize         11810\n",
              "BuildingArea     21115\n",
              "Price             7610\n",
              "dtype: int64"
            ]
          },
          "metadata": {},
          "execution_count": 7
        }
      ]
    },
    {
      "cell_type": "markdown",
      "source": [
        "Filling any column which conatins value N/A or NaN with zero"
      ],
      "metadata": {
        "id": "dRDSMVHardw7"
      }
    },
    {
      "cell_type": "code",
      "source": [
        "columns_to_fill_zero = [\"Propertycount\",\"Distance\",\"Bedroom2\",\"Bathroom\",\"Car\"]\n",
        "dataset[columns_to_fill_zero] = dataset[columns_to_fill_zero].fillna(0)\n",
        "dataset.isna().sum()"
      ],
      "metadata": {
        "colab": {
          "base_uri": "https://localhost:8080/"
        },
        "id": "L7FiQFf7m-9D",
        "outputId": "770c156a-2d59-4b83-e3fe-749f655ba50d"
      },
      "execution_count": 8,
      "outputs": [
        {
          "output_type": "stream",
          "name": "stderr",
          "text": [
            "/usr/local/lib/python3.7/dist-packages/pandas/core/frame.py:3641: SettingWithCopyWarning: \n",
            "A value is trying to be set on a copy of a slice from a DataFrame.\n",
            "Try using .loc[row_indexer,col_indexer] = value instead\n",
            "\n",
            "See the caveats in the documentation: https://pandas.pydata.org/pandas-docs/stable/user_guide/indexing.html#returning-a-view-versus-a-copy\n",
            "  self[k1] = value[k2]\n"
          ]
        },
        {
          "output_type": "execute_result",
          "data": {
            "text/plain": [
              "Suburb               0\n",
              "Rooms                0\n",
              "Type                 0\n",
              "Method               0\n",
              "SellerG              0\n",
              "Regionname           3\n",
              "Propertycount        0\n",
              "Distance             0\n",
              "CouncilArea          3\n",
              "Bedroom2             0\n",
              "Bathroom             0\n",
              "Car                  0\n",
              "Landsize         11810\n",
              "BuildingArea     21115\n",
              "Price             7610\n",
              "dtype: int64"
            ]
          },
          "metadata": {},
          "execution_count": 8
        }
      ]
    },
    {
      "cell_type": "markdown",
      "source": [
        "Land size and Building Area cannot fill with 0 because it should has a measurable value"
      ],
      "metadata": {
        "id": "kFV9WAkUtB70"
      }
    },
    {
      "cell_type": "code",
      "source": [
        "dataset[\"Landsize\"] = dataset[\"Landsize\"].fillna(dataset.Landsize.mean())\n",
        "dataset[\"BuildingArea\"] = dataset[\"BuildingArea\"].fillna(dataset.BuildingArea.mean())\n",
        "dataset.isna().sum()"
      ],
      "metadata": {
        "colab": {
          "base_uri": "https://localhost:8080/"
        },
        "id": "gkl2QA9qsOrQ",
        "outputId": "cd2353ff-a33d-45b7-e883-f28d6383d9bd"
      },
      "execution_count": 9,
      "outputs": [
        {
          "output_type": "stream",
          "name": "stderr",
          "text": [
            "/usr/local/lib/python3.7/dist-packages/ipykernel_launcher.py:1: SettingWithCopyWarning: \n",
            "A value is trying to be set on a copy of a slice from a DataFrame.\n",
            "Try using .loc[row_indexer,col_indexer] = value instead\n",
            "\n",
            "See the caveats in the documentation: https://pandas.pydata.org/pandas-docs/stable/user_guide/indexing.html#returning-a-view-versus-a-copy\n",
            "  \"\"\"Entry point for launching an IPython kernel.\n",
            "/usr/local/lib/python3.7/dist-packages/ipykernel_launcher.py:2: SettingWithCopyWarning: \n",
            "A value is trying to be set on a copy of a slice from a DataFrame.\n",
            "Try using .loc[row_indexer,col_indexer] = value instead\n",
            "\n",
            "See the caveats in the documentation: https://pandas.pydata.org/pandas-docs/stable/user_guide/indexing.html#returning-a-view-versus-a-copy\n",
            "  \n"
          ]
        },
        {
          "output_type": "execute_result",
          "data": {
            "text/plain": [
              "Suburb              0\n",
              "Rooms               0\n",
              "Type                0\n",
              "Method              0\n",
              "SellerG             0\n",
              "Regionname          3\n",
              "Propertycount       0\n",
              "Distance            0\n",
              "CouncilArea         3\n",
              "Bedroom2            0\n",
              "Bathroom            0\n",
              "Car                 0\n",
              "Landsize            0\n",
              "BuildingArea        0\n",
              "Price            7610\n",
              "dtype: int64"
            ]
          },
          "metadata": {},
          "execution_count": 9
        }
      ]
    },
    {
      "cell_type": "code",
      "source": [
        "dataset.dropna(inplace=True)\n",
        "dataset.isna().sum()"
      ],
      "metadata": {
        "colab": {
          "base_uri": "https://localhost:8080/"
        },
        "id": "Dxom4zEQurwm",
        "outputId": "3111c624-4399-4932-ee3a-1efccdc08216"
      },
      "execution_count": 10,
      "outputs": [
        {
          "output_type": "execute_result",
          "data": {
            "text/plain": [
              "Suburb           0\n",
              "Rooms            0\n",
              "Type             0\n",
              "Method           0\n",
              "SellerG          0\n",
              "Regionname       0\n",
              "Propertycount    0\n",
              "Distance         0\n",
              "CouncilArea      0\n",
              "Bedroom2         0\n",
              "Bathroom         0\n",
              "Car              0\n",
              "Landsize         0\n",
              "BuildingArea     0\n",
              "Price            0\n",
              "dtype: int64"
            ]
          },
          "metadata": {},
          "execution_count": 10
        }
      ]
    },
    {
      "cell_type": "markdown",
      "source": [
        "# Encode categorical data\n",
        "here we use get_dummies and we will drop first encoded column to avoid the dummy variable trap"
      ],
      "metadata": {
        "id": "SIr3RNNWxSXi"
      }
    },
    {
      "cell_type": "code",
      "source": [
        "dataset = pd.get_dummies(dataset, drop_first=True)\n",
        "dataset.head()"
      ],
      "metadata": {
        "colab": {
          "base_uri": "https://localhost:8080/",
          "height": 331
        },
        "id": "gYEhb9O4wBtA",
        "outputId": "112c2e0d-87d3-4ab0-a3f7-de4e9a0b748e"
      },
      "execution_count": 11,
      "outputs": [
        {
          "output_type": "execute_result",
          "data": {
            "text/plain": [
              "   Rooms  Propertycount  Distance  Bedroom2  Bathroom  Car  Landsize  \\\n",
              "1      2         4019.0       2.5       2.0       1.0  1.0     202.0   \n",
              "2      2         4019.0       2.5       2.0       1.0  0.0     156.0   \n",
              "4      3         4019.0       2.5       3.0       2.0  0.0     134.0   \n",
              "5      3         4019.0       2.5       3.0       2.0  1.0      94.0   \n",
              "6      4         4019.0       2.5       3.0       1.0  2.0     120.0   \n",
              "\n",
              "   BuildingArea      Price  Suburb_Aberfeldie  ...  \\\n",
              "1      160.2564  1480000.0                  0  ...   \n",
              "2       79.0000  1035000.0                  0  ...   \n",
              "4      150.0000  1465000.0                  0  ...   \n",
              "5      160.2564   850000.0                  0  ...   \n",
              "6      142.0000  1600000.0                  0  ...   \n",
              "\n",
              "   CouncilArea_Moorabool Shire Council  CouncilArea_Moreland City Council  \\\n",
              "1                                    0                                  0   \n",
              "2                                    0                                  0   \n",
              "4                                    0                                  0   \n",
              "5                                    0                                  0   \n",
              "6                                    0                                  0   \n",
              "\n",
              "   CouncilArea_Nillumbik Shire Council  CouncilArea_Port Phillip City Council  \\\n",
              "1                                    0                                      0   \n",
              "2                                    0                                      0   \n",
              "4                                    0                                      0   \n",
              "5                                    0                                      0   \n",
              "6                                    0                                      0   \n",
              "\n",
              "   CouncilArea_Stonnington City Council  CouncilArea_Whitehorse City Council  \\\n",
              "1                                     0                                    0   \n",
              "2                                     0                                    0   \n",
              "4                                     0                                    0   \n",
              "5                                     0                                    0   \n",
              "6                                     0                                    0   \n",
              "\n",
              "   CouncilArea_Whittlesea City Council  CouncilArea_Wyndham City Council  \\\n",
              "1                                    0                                 0   \n",
              "2                                    0                                 0   \n",
              "4                                    0                                 0   \n",
              "5                                    0                                 0   \n",
              "6                                    0                                 0   \n",
              "\n",
              "   CouncilArea_Yarra City Council  CouncilArea_Yarra Ranges Shire Council  \n",
              "1                               1                                       0  \n",
              "2                               1                                       0  \n",
              "4                               1                                       0  \n",
              "5                               1                                       0  \n",
              "6                               1                                       0  \n",
              "\n",
              "[5 rows x 745 columns]"
            ],
            "text/html": [
              "\n",
              "  <div id=\"df-85555e03-9cf7-4a1e-abcf-a1dd7fabf8aa\">\n",
              "    <div class=\"colab-df-container\">\n",
              "      <div>\n",
              "<style scoped>\n",
              "    .dataframe tbody tr th:only-of-type {\n",
              "        vertical-align: middle;\n",
              "    }\n",
              "\n",
              "    .dataframe tbody tr th {\n",
              "        vertical-align: top;\n",
              "    }\n",
              "\n",
              "    .dataframe thead th {\n",
              "        text-align: right;\n",
              "    }\n",
              "</style>\n",
              "<table border=\"1\" class=\"dataframe\">\n",
              "  <thead>\n",
              "    <tr style=\"text-align: right;\">\n",
              "      <th></th>\n",
              "      <th>Rooms</th>\n",
              "      <th>Propertycount</th>\n",
              "      <th>Distance</th>\n",
              "      <th>Bedroom2</th>\n",
              "      <th>Bathroom</th>\n",
              "      <th>Car</th>\n",
              "      <th>Landsize</th>\n",
              "      <th>BuildingArea</th>\n",
              "      <th>Price</th>\n",
              "      <th>Suburb_Aberfeldie</th>\n",
              "      <th>...</th>\n",
              "      <th>CouncilArea_Moorabool Shire Council</th>\n",
              "      <th>CouncilArea_Moreland City Council</th>\n",
              "      <th>CouncilArea_Nillumbik Shire Council</th>\n",
              "      <th>CouncilArea_Port Phillip City Council</th>\n",
              "      <th>CouncilArea_Stonnington City Council</th>\n",
              "      <th>CouncilArea_Whitehorse City Council</th>\n",
              "      <th>CouncilArea_Whittlesea City Council</th>\n",
              "      <th>CouncilArea_Wyndham City Council</th>\n",
              "      <th>CouncilArea_Yarra City Council</th>\n",
              "      <th>CouncilArea_Yarra Ranges Shire Council</th>\n",
              "    </tr>\n",
              "  </thead>\n",
              "  <tbody>\n",
              "    <tr>\n",
              "      <th>1</th>\n",
              "      <td>2</td>\n",
              "      <td>4019.0</td>\n",
              "      <td>2.5</td>\n",
              "      <td>2.0</td>\n",
              "      <td>1.0</td>\n",
              "      <td>1.0</td>\n",
              "      <td>202.0</td>\n",
              "      <td>160.2564</td>\n",
              "      <td>1480000.0</td>\n",
              "      <td>0</td>\n",
              "      <td>...</td>\n",
              "      <td>0</td>\n",
              "      <td>0</td>\n",
              "      <td>0</td>\n",
              "      <td>0</td>\n",
              "      <td>0</td>\n",
              "      <td>0</td>\n",
              "      <td>0</td>\n",
              "      <td>0</td>\n",
              "      <td>1</td>\n",
              "      <td>0</td>\n",
              "    </tr>\n",
              "    <tr>\n",
              "      <th>2</th>\n",
              "      <td>2</td>\n",
              "      <td>4019.0</td>\n",
              "      <td>2.5</td>\n",
              "      <td>2.0</td>\n",
              "      <td>1.0</td>\n",
              "      <td>0.0</td>\n",
              "      <td>156.0</td>\n",
              "      <td>79.0000</td>\n",
              "      <td>1035000.0</td>\n",
              "      <td>0</td>\n",
              "      <td>...</td>\n",
              "      <td>0</td>\n",
              "      <td>0</td>\n",
              "      <td>0</td>\n",
              "      <td>0</td>\n",
              "      <td>0</td>\n",
              "      <td>0</td>\n",
              "      <td>0</td>\n",
              "      <td>0</td>\n",
              "      <td>1</td>\n",
              "      <td>0</td>\n",
              "    </tr>\n",
              "    <tr>\n",
              "      <th>4</th>\n",
              "      <td>3</td>\n",
              "      <td>4019.0</td>\n",
              "      <td>2.5</td>\n",
              "      <td>3.0</td>\n",
              "      <td>2.0</td>\n",
              "      <td>0.0</td>\n",
              "      <td>134.0</td>\n",
              "      <td>150.0000</td>\n",
              "      <td>1465000.0</td>\n",
              "      <td>0</td>\n",
              "      <td>...</td>\n",
              "      <td>0</td>\n",
              "      <td>0</td>\n",
              "      <td>0</td>\n",
              "      <td>0</td>\n",
              "      <td>0</td>\n",
              "      <td>0</td>\n",
              "      <td>0</td>\n",
              "      <td>0</td>\n",
              "      <td>1</td>\n",
              "      <td>0</td>\n",
              "    </tr>\n",
              "    <tr>\n",
              "      <th>5</th>\n",
              "      <td>3</td>\n",
              "      <td>4019.0</td>\n",
              "      <td>2.5</td>\n",
              "      <td>3.0</td>\n",
              "      <td>2.0</td>\n",
              "      <td>1.0</td>\n",
              "      <td>94.0</td>\n",
              "      <td>160.2564</td>\n",
              "      <td>850000.0</td>\n",
              "      <td>0</td>\n",
              "      <td>...</td>\n",
              "      <td>0</td>\n",
              "      <td>0</td>\n",
              "      <td>0</td>\n",
              "      <td>0</td>\n",
              "      <td>0</td>\n",
              "      <td>0</td>\n",
              "      <td>0</td>\n",
              "      <td>0</td>\n",
              "      <td>1</td>\n",
              "      <td>0</td>\n",
              "    </tr>\n",
              "    <tr>\n",
              "      <th>6</th>\n",
              "      <td>4</td>\n",
              "      <td>4019.0</td>\n",
              "      <td>2.5</td>\n",
              "      <td>3.0</td>\n",
              "      <td>1.0</td>\n",
              "      <td>2.0</td>\n",
              "      <td>120.0</td>\n",
              "      <td>142.0000</td>\n",
              "      <td>1600000.0</td>\n",
              "      <td>0</td>\n",
              "      <td>...</td>\n",
              "      <td>0</td>\n",
              "      <td>0</td>\n",
              "      <td>0</td>\n",
              "      <td>0</td>\n",
              "      <td>0</td>\n",
              "      <td>0</td>\n",
              "      <td>0</td>\n",
              "      <td>0</td>\n",
              "      <td>1</td>\n",
              "      <td>0</td>\n",
              "    </tr>\n",
              "  </tbody>\n",
              "</table>\n",
              "<p>5 rows × 745 columns</p>\n",
              "</div>\n",
              "      <button class=\"colab-df-convert\" onclick=\"convertToInteractive('df-85555e03-9cf7-4a1e-abcf-a1dd7fabf8aa')\"\n",
              "              title=\"Convert this dataframe to an interactive table.\"\n",
              "              style=\"display:none;\">\n",
              "        \n",
              "  <svg xmlns=\"http://www.w3.org/2000/svg\" height=\"24px\"viewBox=\"0 0 24 24\"\n",
              "       width=\"24px\">\n",
              "    <path d=\"M0 0h24v24H0V0z\" fill=\"none\"/>\n",
              "    <path d=\"M18.56 5.44l.94 2.06.94-2.06 2.06-.94-2.06-.94-.94-2.06-.94 2.06-2.06.94zm-11 1L8.5 8.5l.94-2.06 2.06-.94-2.06-.94L8.5 2.5l-.94 2.06-2.06.94zm10 10l.94 2.06.94-2.06 2.06-.94-2.06-.94-.94-2.06-.94 2.06-2.06.94z\"/><path d=\"M17.41 7.96l-1.37-1.37c-.4-.4-.92-.59-1.43-.59-.52 0-1.04.2-1.43.59L10.3 9.45l-7.72 7.72c-.78.78-.78 2.05 0 2.83L4 21.41c.39.39.9.59 1.41.59.51 0 1.02-.2 1.41-.59l7.78-7.78 2.81-2.81c.8-.78.8-2.07 0-2.86zM5.41 20L4 18.59l7.72-7.72 1.47 1.35L5.41 20z\"/>\n",
              "  </svg>\n",
              "      </button>\n",
              "      \n",
              "  <style>\n",
              "    .colab-df-container {\n",
              "      display:flex;\n",
              "      flex-wrap:wrap;\n",
              "      gap: 12px;\n",
              "    }\n",
              "\n",
              "    .colab-df-convert {\n",
              "      background-color: #E8F0FE;\n",
              "      border: none;\n",
              "      border-radius: 50%;\n",
              "      cursor: pointer;\n",
              "      display: none;\n",
              "      fill: #1967D2;\n",
              "      height: 32px;\n",
              "      padding: 0 0 0 0;\n",
              "      width: 32px;\n",
              "    }\n",
              "\n",
              "    .colab-df-convert:hover {\n",
              "      background-color: #E2EBFA;\n",
              "      box-shadow: 0px 1px 2px rgba(60, 64, 67, 0.3), 0px 1px 3px 1px rgba(60, 64, 67, 0.15);\n",
              "      fill: #174EA6;\n",
              "    }\n",
              "\n",
              "    [theme=dark] .colab-df-convert {\n",
              "      background-color: #3B4455;\n",
              "      fill: #D2E3FC;\n",
              "    }\n",
              "\n",
              "    [theme=dark] .colab-df-convert:hover {\n",
              "      background-color: #434B5C;\n",
              "      box-shadow: 0px 1px 3px 1px rgba(0, 0, 0, 0.15);\n",
              "      filter: drop-shadow(0px 1px 2px rgba(0, 0, 0, 0.3));\n",
              "      fill: #FFFFFF;\n",
              "    }\n",
              "  </style>\n",
              "\n",
              "      <script>\n",
              "        const buttonEl =\n",
              "          document.querySelector('#df-85555e03-9cf7-4a1e-abcf-a1dd7fabf8aa button.colab-df-convert');\n",
              "        buttonEl.style.display =\n",
              "          google.colab.kernel.accessAllowed ? 'block' : 'none';\n",
              "\n",
              "        async function convertToInteractive(key) {\n",
              "          const element = document.querySelector('#df-85555e03-9cf7-4a1e-abcf-a1dd7fabf8aa');\n",
              "          const dataTable =\n",
              "            await google.colab.kernel.invokeFunction('convertToInteractive',\n",
              "                                                     [key], {});\n",
              "          if (!dataTable) return;\n",
              "\n",
              "          const docLinkHtml = 'Like what you see? Visit the ' +\n",
              "            '<a target=\"_blank\" href=https://colab.research.google.com/notebooks/data_table.ipynb>data table notebook</a>'\n",
              "            + ' to learn more about interactive tables.';\n",
              "          element.innerHTML = '';\n",
              "          dataTable['output_type'] = 'display_data';\n",
              "          await google.colab.output.renderOutput(dataTable, element);\n",
              "          const docLink = document.createElement('div');\n",
              "          docLink.innerHTML = docLinkHtml;\n",
              "          element.appendChild(docLink);\n",
              "        }\n",
              "      </script>\n",
              "    </div>\n",
              "  </div>\n",
              "  "
            ]
          },
          "metadata": {},
          "execution_count": 11
        }
      ]
    },
    {
      "cell_type": "markdown",
      "source": [
        "# Creating X and Y"
      ],
      "metadata": {
        "id": "iOkc62YYx87s"
      }
    },
    {
      "cell_type": "code",
      "source": [
        "X = dataset.drop(\"Price\", axis=1)\n",
        "y = dataset[\"Price\"]"
      ],
      "metadata": {
        "id": "e0lPVhSTxxdl"
      },
      "execution_count": 12,
      "outputs": []
    },
    {
      "cell_type": "markdown",
      "source": [
        "# Split dataset into training and test set"
      ],
      "metadata": {
        "id": "4gDg0rzWySGz"
      }
    },
    {
      "cell_type": "code",
      "source": [
        "from sklearn.model_selection import train_test_split\n",
        "X_train, X_test, y_train, y_test = train_test_split(X,y,test_size=0.3,random_state=2)"
      ],
      "metadata": {
        "id": "UqQ9YP63yo9T"
      },
      "execution_count": 13,
      "outputs": []
    },
    {
      "cell_type": "markdown",
      "source": [
        "# Linear regression"
      ],
      "metadata": {
        "id": "qu4iD2tSed3_"
      }
    },
    {
      "cell_type": "code",
      "source": [
        "from sklearn.linear_model import LinearRegression\n",
        "\n",
        "reg = LinearRegression().fit(X_train, y_train)"
      ],
      "metadata": {
        "id": "jWfsRm6JzYEl"
      },
      "execution_count": 14,
      "outputs": []
    },
    {
      "cell_type": "markdown",
      "source": [
        "### Check the score of training and testing dataset\n",
        "`here the model is overfitted`"
      ],
      "metadata": {
        "id": "LrKcTRIGe3gt"
      }
    },
    {
      "cell_type": "code",
      "source": [
        "print(f\"Training set score {reg.score(X_train, y_train)}\")\n",
        "print(f\"Test set score: {reg.score(X_test, y_test)}\")"
      ],
      "metadata": {
        "colab": {
          "base_uri": "https://localhost:8080/"
        },
        "id": "VVyztmtIewL2",
        "outputId": "a394a141-19c7-4268-b5be-b87408960904"
      },
      "execution_count": 15,
      "outputs": [
        {
          "output_type": "stream",
          "name": "stdout",
          "text": [
            "Training set score 0.6827792395792723\n",
            "Test set score: 0.13853683161569574\n"
          ]
        }
      ]
    },
    {
      "cell_type": "markdown",
      "source": [
        "# Lasso regression"
      ],
      "metadata": {
        "id": "ArLsjn9Gfjk5"
      }
    },
    {
      "cell_type": "code",
      "source": [
        "from sklearn.linear_model import Lasso\n",
        "\n",
        "lasso_reg = Lasso(alpha=50, max_iter=100, tol=0.1)\n",
        "lasso_reg.fit(X_train, y_train)"
      ],
      "metadata": {
        "colab": {
          "base_uri": "https://localhost:8080/"
        },
        "id": "cTb7OfAafN47",
        "outputId": "47eab4a5-2d2d-44c4-9d50-8de277b06ad8"
      },
      "execution_count": 17,
      "outputs": [
        {
          "output_type": "stream",
          "name": "stderr",
          "text": [
            "/usr/local/lib/python3.7/dist-packages/sklearn/linear_model/_coordinate_descent.py:648: ConvergenceWarning: Objective did not converge. You might want to increase the number of iterations, check the scale of the features or consider increasing regularisation. Duality gap: 1.327e+15, tolerance: 7.963e+14\n",
            "  coef_, l1_reg, l2_reg, X, y, max_iter, tol, rng, random, positive\n"
          ]
        },
        {
          "output_type": "execute_result",
          "data": {
            "text/plain": [
              "Lasso(alpha=50, max_iter=100, tol=0.1)"
            ]
          },
          "metadata": {},
          "execution_count": 17
        }
      ]
    },
    {
      "cell_type": "markdown",
      "source": [
        "###Check the score of training and testing dataset"
      ],
      "metadata": {
        "id": "GvpGqeblgWAY"
      }
    },
    {
      "cell_type": "code",
      "source": [
        "print(f\"Training set score {lasso_reg.score(X_train, y_train)}\")\n",
        "print(f\"Test set score: {lasso_reg.score(X_test, y_test)}\")"
      ],
      "metadata": {
        "colab": {
          "base_uri": "https://localhost:8080/"
        },
        "id": "4cBCBlP2gXbq",
        "outputId": "85cf232d-241a-4a72-b09d-372d11b07802"
      },
      "execution_count": 18,
      "outputs": [
        {
          "output_type": "stream",
          "name": "stdout",
          "text": [
            "Training set score 0.6766985624766824\n",
            "Test set score: 0.6636111369404489\n"
          ]
        }
      ]
    },
    {
      "cell_type": "markdown",
      "source": [
        "# Ridge regression"
      ],
      "metadata": {
        "id": "aTQF9o1ThRR3"
      }
    },
    {
      "cell_type": "code",
      "source": [
        "from sklearn.linear_model import Ridge\n",
        "\n",
        "ridge_regression = Ridge(alpha=50, max_iter=100, tol=0.1)\n",
        "ridge_regression.fit(X_train, y_train)"
      ],
      "metadata": {
        "colab": {
          "base_uri": "https://localhost:8080/"
        },
        "id": "_IIFtNlFhVBX",
        "outputId": "ed011617-219e-49f2-ee62-8e02ba83f2a2"
      },
      "execution_count": 19,
      "outputs": [
        {
          "output_type": "execute_result",
          "data": {
            "text/plain": [
              "Ridge(alpha=50, max_iter=100, tol=0.1)"
            ]
          },
          "metadata": {},
          "execution_count": 19
        }
      ]
    },
    {
      "cell_type": "markdown",
      "source": [
        "### Check the score of training and testing dataset"
      ],
      "metadata": {
        "id": "BKwaT3IJhrCN"
      }
    },
    {
      "cell_type": "code",
      "source": [
        "print(f\"Training set score {ridge_regression.score(X_train, y_train)}\")\n",
        "print(f\"Test set score: {ridge_regression.score(X_test, y_test)}\")"
      ],
      "metadata": {
        "colab": {
          "base_uri": "https://localhost:8080/"
        },
        "id": "AFt5yanihsPy",
        "outputId": "0c427e71-b17c-408b-f0cd-8a4e9f3cf729"
      },
      "execution_count": 20,
      "outputs": [
        {
          "output_type": "stream",
          "name": "stdout",
          "text": [
            "Training set score 0.6622376739684328\n",
            "Test set score: 0.6670848945194958\n"
          ]
        }
      ]
    }
  ]
}