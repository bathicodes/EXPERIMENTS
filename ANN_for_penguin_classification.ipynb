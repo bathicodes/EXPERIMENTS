{
  "nbformat": 4,
  "nbformat_minor": 0,
  "metadata": {
    "colab": {
      "name": "ANN for penguin classification.ipynb",
      "provenance": [],
      "authorship_tag": "ABX9TyOXc8HFTP5WrNDSmr5NuIap",
      "include_colab_link": true
    },
    "kernelspec": {
      "name": "python3",
      "display_name": "Python 3"
    },
    "language_info": {
      "name": "python"
    }
  },
  "cells": [
    {
      "cell_type": "markdown",
      "metadata": {
        "id": "view-in-github",
        "colab_type": "text"
      },
      "source": [
        "<a href=\"https://colab.research.google.com/github/bathicodes/EXPERIMENTS/blob/main/ANN_for_penguin_classification.ipynb\" target=\"_parent\"><img src=\"https://colab.research.google.com/assets/colab-badge.svg\" alt=\"Open In Colab\"/></a>"
      ]
    },
    {
      "cell_type": "markdown",
      "source": [
        "This notebook contains all the necessary steps to build a ANN based penguin classification model. Dataset can be found on data professor's GitHub page. Visit this [link](https://raw.githubusercontent.com/dataprofessor/data/master/penguins_cleaned.csv) for grab the raw dataset. EDA for this dataset can find [here](https://github.com/bathicodes/EXPERIMENTS/blob/main/EDA_Penguins.ipynb)\n",
        "\n",
        "---\n",
        "\n"
      ],
      "metadata": {
        "id": "YUoVfLBOaQbr"
      }
    },
    {
      "cell_type": "markdown",
      "source": [
        "## Import libraries"
      ],
      "metadata": {
        "id": "8ksZqmrtem-1"
      }
    },
    {
      "cell_type": "code",
      "execution_count": 326,
      "metadata": {
        "id": "TEezB3LNaEGo"
      },
      "outputs": [],
      "source": [
        "import numpy as np\n",
        "import pandas as pd\n",
        "import tensorflow as tf"
      ]
    },
    {
      "cell_type": "markdown",
      "source": [
        "## Import dataset"
      ],
      "metadata": {
        "id": "n9eCKEA9gs0v"
      }
    },
    {
      "cell_type": "code",
      "source": [
        "dataset = pd.read_csv('https://raw.githubusercontent.com/dataprofessor/data/master/penguins_cleaned.csv')\n",
        "x = dataset.drop('species', axis=1)\n",
        "y = dataset['species']"
      ],
      "metadata": {
        "id": "5vrAbsmOguwh"
      },
      "execution_count": 327,
      "outputs": []
    },
    {
      "cell_type": "code",
      "source": [
        "x = np.array(x)\n",
        "x"
      ],
      "metadata": {
        "colab": {
          "base_uri": "https://localhost:8080/"
        },
        "id": "AJAWALfIhGuK",
        "outputId": "ae365845-0cd3-461e-b258-20545c593f2e"
      },
      "execution_count": 328,
      "outputs": [
        {
          "output_type": "execute_result",
          "data": {
            "text/plain": [
              "array([['Torgersen', 39.1, 18.7, 181, 3750, 'male'],\n",
              "       ['Torgersen', 39.5, 17.4, 186, 3800, 'female'],\n",
              "       ['Torgersen', 40.3, 18.0, 195, 3250, 'female'],\n",
              "       ...,\n",
              "       ['Dream', 49.6, 18.2, 193, 3775, 'male'],\n",
              "       ['Dream', 50.8, 19.0, 210, 4100, 'male'],\n",
              "       ['Dream', 50.2, 18.7, 198, 3775, 'female']], dtype=object)"
            ]
          },
          "metadata": {},
          "execution_count": 328
        }
      ]
    },
    {
      "cell_type": "code",
      "source": [
        "y = np.array(y)\n",
        "y"
      ],
      "metadata": {
        "colab": {
          "base_uri": "https://localhost:8080/"
        },
        "id": "d-rq2RNehJJA",
        "outputId": "17c69010-f0ac-4053-89e3-1a716c2415b6"
      },
      "execution_count": 329,
      "outputs": [
        {
          "output_type": "execute_result",
          "data": {
            "text/plain": [
              "array(['Adelie', 'Adelie', 'Adelie', 'Adelie', 'Adelie', 'Adelie',\n",
              "       'Adelie', 'Adelie', 'Adelie', 'Adelie', 'Adelie', 'Adelie',\n",
              "       'Adelie', 'Adelie', 'Adelie', 'Adelie', 'Adelie', 'Adelie',\n",
              "       'Adelie', 'Adelie', 'Adelie', 'Adelie', 'Adelie', 'Adelie',\n",
              "       'Adelie', 'Adelie', 'Adelie', 'Adelie', 'Adelie', 'Adelie',\n",
              "       'Adelie', 'Adelie', 'Adelie', 'Adelie', 'Adelie', 'Adelie',\n",
              "       'Adelie', 'Adelie', 'Adelie', 'Adelie', 'Adelie', 'Adelie',\n",
              "       'Adelie', 'Adelie', 'Adelie', 'Adelie', 'Adelie', 'Adelie',\n",
              "       'Adelie', 'Adelie', 'Adelie', 'Adelie', 'Adelie', 'Adelie',\n",
              "       'Adelie', 'Adelie', 'Adelie', 'Adelie', 'Adelie', 'Adelie',\n",
              "       'Adelie', 'Adelie', 'Adelie', 'Adelie', 'Adelie', 'Adelie',\n",
              "       'Adelie', 'Adelie', 'Adelie', 'Adelie', 'Adelie', 'Adelie',\n",
              "       'Adelie', 'Adelie', 'Adelie', 'Adelie', 'Adelie', 'Adelie',\n",
              "       'Adelie', 'Adelie', 'Adelie', 'Adelie', 'Adelie', 'Adelie',\n",
              "       'Adelie', 'Adelie', 'Adelie', 'Adelie', 'Adelie', 'Adelie',\n",
              "       'Adelie', 'Adelie', 'Adelie', 'Adelie', 'Adelie', 'Adelie',\n",
              "       'Adelie', 'Adelie', 'Adelie', 'Adelie', 'Adelie', 'Adelie',\n",
              "       'Adelie', 'Adelie', 'Adelie', 'Adelie', 'Adelie', 'Adelie',\n",
              "       'Adelie', 'Adelie', 'Adelie', 'Adelie', 'Adelie', 'Adelie',\n",
              "       'Adelie', 'Adelie', 'Adelie', 'Adelie', 'Adelie', 'Adelie',\n",
              "       'Adelie', 'Adelie', 'Adelie', 'Adelie', 'Adelie', 'Adelie',\n",
              "       'Adelie', 'Adelie', 'Adelie', 'Adelie', 'Adelie', 'Adelie',\n",
              "       'Adelie', 'Adelie', 'Adelie', 'Adelie', 'Adelie', 'Adelie',\n",
              "       'Adelie', 'Adelie', 'Adelie', 'Adelie', 'Adelie', 'Adelie',\n",
              "       'Adelie', 'Adelie', 'Gentoo', 'Gentoo', 'Gentoo', 'Gentoo',\n",
              "       'Gentoo', 'Gentoo', 'Gentoo', 'Gentoo', 'Gentoo', 'Gentoo',\n",
              "       'Gentoo', 'Gentoo', 'Gentoo', 'Gentoo', 'Gentoo', 'Gentoo',\n",
              "       'Gentoo', 'Gentoo', 'Gentoo', 'Gentoo', 'Gentoo', 'Gentoo',\n",
              "       'Gentoo', 'Gentoo', 'Gentoo', 'Gentoo', 'Gentoo', 'Gentoo',\n",
              "       'Gentoo', 'Gentoo', 'Gentoo', 'Gentoo', 'Gentoo', 'Gentoo',\n",
              "       'Gentoo', 'Gentoo', 'Gentoo', 'Gentoo', 'Gentoo', 'Gentoo',\n",
              "       'Gentoo', 'Gentoo', 'Gentoo', 'Gentoo', 'Gentoo', 'Gentoo',\n",
              "       'Gentoo', 'Gentoo', 'Gentoo', 'Gentoo', 'Gentoo', 'Gentoo',\n",
              "       'Gentoo', 'Gentoo', 'Gentoo', 'Gentoo', 'Gentoo', 'Gentoo',\n",
              "       'Gentoo', 'Gentoo', 'Gentoo', 'Gentoo', 'Gentoo', 'Gentoo',\n",
              "       'Gentoo', 'Gentoo', 'Gentoo', 'Gentoo', 'Gentoo', 'Gentoo',\n",
              "       'Gentoo', 'Gentoo', 'Gentoo', 'Gentoo', 'Gentoo', 'Gentoo',\n",
              "       'Gentoo', 'Gentoo', 'Gentoo', 'Gentoo', 'Gentoo', 'Gentoo',\n",
              "       'Gentoo', 'Gentoo', 'Gentoo', 'Gentoo', 'Gentoo', 'Gentoo',\n",
              "       'Gentoo', 'Gentoo', 'Gentoo', 'Gentoo', 'Gentoo', 'Gentoo',\n",
              "       'Gentoo', 'Gentoo', 'Gentoo', 'Gentoo', 'Gentoo', 'Gentoo',\n",
              "       'Gentoo', 'Gentoo', 'Gentoo', 'Gentoo', 'Gentoo', 'Gentoo',\n",
              "       'Gentoo', 'Gentoo', 'Gentoo', 'Gentoo', 'Gentoo', 'Gentoo',\n",
              "       'Gentoo', 'Gentoo', 'Gentoo', 'Gentoo', 'Gentoo', 'Gentoo',\n",
              "       'Gentoo', 'Chinstrap', 'Chinstrap', 'Chinstrap', 'Chinstrap',\n",
              "       'Chinstrap', 'Chinstrap', 'Chinstrap', 'Chinstrap', 'Chinstrap',\n",
              "       'Chinstrap', 'Chinstrap', 'Chinstrap', 'Chinstrap', 'Chinstrap',\n",
              "       'Chinstrap', 'Chinstrap', 'Chinstrap', 'Chinstrap', 'Chinstrap',\n",
              "       'Chinstrap', 'Chinstrap', 'Chinstrap', 'Chinstrap', 'Chinstrap',\n",
              "       'Chinstrap', 'Chinstrap', 'Chinstrap', 'Chinstrap', 'Chinstrap',\n",
              "       'Chinstrap', 'Chinstrap', 'Chinstrap', 'Chinstrap', 'Chinstrap',\n",
              "       'Chinstrap', 'Chinstrap', 'Chinstrap', 'Chinstrap', 'Chinstrap',\n",
              "       'Chinstrap', 'Chinstrap', 'Chinstrap', 'Chinstrap', 'Chinstrap',\n",
              "       'Chinstrap', 'Chinstrap', 'Chinstrap', 'Chinstrap', 'Chinstrap',\n",
              "       'Chinstrap', 'Chinstrap', 'Chinstrap', 'Chinstrap', 'Chinstrap',\n",
              "       'Chinstrap', 'Chinstrap', 'Chinstrap', 'Chinstrap', 'Chinstrap',\n",
              "       'Chinstrap', 'Chinstrap', 'Chinstrap', 'Chinstrap', 'Chinstrap',\n",
              "       'Chinstrap', 'Chinstrap', 'Chinstrap', 'Chinstrap'], dtype=object)"
            ]
          },
          "metadata": {},
          "execution_count": 329
        }
      ]
    },
    {
      "cell_type": "markdown",
      "source": [
        "## Data pre-processing"
      ],
      "metadata": {
        "id": "_eMtdUPTi13Z"
      }
    },
    {
      "cell_type": "markdown",
      "source": [
        "### Encoding categorical data columns using OneHotEncoder"
      ],
      "metadata": {
        "id": "l5vrgl-vi4FD"
      }
    },
    {
      "cell_type": "code",
      "source": [
        "from sklearn.compose import ColumnTransformer\n",
        "from sklearn.preprocessing import OneHotEncoder\n",
        "\n",
        "ct = ColumnTransformer(transformers=[('encoder',OneHotEncoder(),[0])], remainder='passthrough')\n",
        "x = np.array(ct.fit_transform(x))"
      ],
      "metadata": {
        "id": "eFirqeF4i-PD"
      },
      "execution_count": 330,
      "outputs": []
    },
    {
      "cell_type": "code",
      "source": [
        "print(x)"
      ],
      "metadata": {
        "colab": {
          "base_uri": "https://localhost:8080/"
        },
        "id": "zNuaApZbjfDL",
        "outputId": "c2825f0b-4903-448f-dd23-5d8b8919ef41"
      },
      "execution_count": 331,
      "outputs": [
        {
          "output_type": "stream",
          "name": "stdout",
          "text": [
            "[[0.0 0.0 1.0 ... 181 3750 'male']\n",
            " [0.0 0.0 1.0 ... 186 3800 'female']\n",
            " [0.0 0.0 1.0 ... 195 3250 'female']\n",
            " ...\n",
            " [0.0 1.0 0.0 ... 193 3775 'male']\n",
            " [0.0 1.0 0.0 ... 210 4100 'male']\n",
            " [0.0 1.0 0.0 ... 198 3775 'female']]\n"
          ]
        }
      ]
    },
    {
      "cell_type": "markdown",
      "source": [
        "### Label encoding for Gender using LabelEncoder"
      ],
      "metadata": {
        "id": "Ey8J0D0kyajW"
      }
    },
    {
      "cell_type": "code",
      "source": [
        "from sklearn.preprocessing import LabelEncoder\n",
        "\n",
        "le = LabelEncoder()\n",
        "x[:,7] = le.fit_transform(x[:,7])"
      ],
      "metadata": {
        "id": "jlkZ-Eucyg27"
      },
      "execution_count": 332,
      "outputs": []
    },
    {
      "cell_type": "code",
      "source": [
        "print(x)"
      ],
      "metadata": {
        "colab": {
          "base_uri": "https://localhost:8080/"
        },
        "id": "d3vG-L-B0E_H",
        "outputId": "8a0c259b-caf0-4421-a74e-a7159d2725e2"
      },
      "execution_count": 333,
      "outputs": [
        {
          "output_type": "stream",
          "name": "stdout",
          "text": [
            "[[0.0 0.0 1.0 ... 181 3750 1]\n",
            " [0.0 0.0 1.0 ... 186 3800 0]\n",
            " [0.0 0.0 1.0 ... 195 3250 0]\n",
            " ...\n",
            " [0.0 1.0 0.0 ... 193 3775 1]\n",
            " [0.0 1.0 0.0 ... 210 4100 1]\n",
            " [0.0 1.0 0.0 ... 198 3775 0]]\n"
          ]
        }
      ]
    },
    {
      "cell_type": "markdown",
      "source": [
        "### Encoding Y with LabelEncoder"
      ],
      "metadata": {
        "id": "b5wNK301DIcm"
      }
    },
    {
      "cell_type": "code",
      "source": [
        "y = le.fit_transform(y)"
      ],
      "metadata": {
        "id": "zd8XcTN2DOpN"
      },
      "execution_count": 334,
      "outputs": []
    },
    {
      "cell_type": "markdown",
      "source": [
        "## Splitting dataset as training and testing set"
      ],
      "metadata": {
        "id": "zWdOpZwp1-wN"
      }
    },
    {
      "cell_type": "code",
      "source": [
        "from sklearn.model_selection import train_test_split\n",
        "\n",
        "x_train, x_test, y_train, y_test = train_test_split(x,y,test_size=0.2,random_state=0)\n",
        "x_train, X_val, y_train, y_val = train_test_split(x_train, y_train, test_size=0.2, random_state=1)"
      ],
      "metadata": {
        "id": "Uig7CCRR2EUa"
      },
      "execution_count": 335,
      "outputs": []
    },
    {
      "cell_type": "markdown",
      "source": [
        "## Feature scaling"
      ],
      "metadata": {
        "id": "vRrx4ZXy2UAj"
      }
    },
    {
      "cell_type": "code",
      "source": [
        "from sklearn.preprocessing import StandardScaler\n",
        "\n",
        "sc = StandardScaler()\n",
        "x_train = sc.fit_transform(x_train)\n",
        "x_test = sc.transform(x_test)"
      ],
      "metadata": {
        "id": "wrsCR49v2WGH"
      },
      "execution_count": 336,
      "outputs": []
    },
    {
      "cell_type": "markdown",
      "source": [
        "## Creating artificial Neural Network model architecture"
      ],
      "metadata": {
        "id": "K0U7SB2eADfh"
      }
    },
    {
      "cell_type": "markdown",
      "source": [
        "### Creating a sequential method"
      ],
      "metadata": {
        "id": "fD42QQvdAQ_k"
      }
    },
    {
      "cell_type": "code",
      "source": [
        "ann = tf.keras.models.Sequential()"
      ],
      "metadata": {
        "id": "fzGnpFyOALiJ"
      },
      "execution_count": 337,
      "outputs": []
    },
    {
      "cell_type": "markdown",
      "source": [
        "### Adding first hidden layer"
      ],
      "metadata": {
        "id": "XcjhlWtNAUzZ"
      }
    },
    {
      "cell_type": "code",
      "source": [
        "ann.add(tf.keras.layers.Dense(units=6, activation='relu'))"
      ],
      "metadata": {
        "id": "LSwwpDhIAZ0_"
      },
      "execution_count": 338,
      "outputs": []
    },
    {
      "cell_type": "markdown",
      "source": [
        "### Adding second hidden layer"
      ],
      "metadata": {
        "id": "Eod6af_WAmkd"
      }
    },
    {
      "cell_type": "code",
      "source": [
        "ann.add(tf.keras.layers.Dense(units=6, activation='relu'))"
      ],
      "metadata": {
        "id": "CfXIGrakApk9"
      },
      "execution_count": 339,
      "outputs": []
    },
    {
      "cell_type": "markdown",
      "source": [
        "### Adding output layer"
      ],
      "metadata": {
        "id": "DkQe3KlrAtlA"
      }
    },
    {
      "cell_type": "code",
      "source": [
        "ann.add(tf.keras.layers.Dense(units=3, activation='softmax'))"
      ],
      "metadata": {
        "id": "BOrj1VQmAyK1"
      },
      "execution_count": 340,
      "outputs": []
    },
    {
      "cell_type": "markdown",
      "source": [
        "### Compiling model"
      ],
      "metadata": {
        "id": "fefrCNfRA6g5"
      }
    },
    {
      "cell_type": "code",
      "source": [
        "ann.compile(optimizer='adam', loss='sparse_categorical_crossentropy', metrics=['accuracy'])"
      ],
      "metadata": {
        "id": "HZBkEMaRA9or"
      },
      "execution_count": 341,
      "outputs": []
    },
    {
      "cell_type": "markdown",
      "source": [
        "### Training model on training data"
      ],
      "metadata": {
        "id": "yNW_HbM_BHo7"
      }
    },
    {
      "cell_type": "code",
      "source": [
        "from tensorflow import keras\n",
        "from keras.callbacks import ModelCheckpoint\n",
        "\n",
        "checkpoint = ModelCheckpoint('penguin.h5', monitor='loss', verbose=1, save_best_only=True)\n",
        "\n",
        "history = ann.fit(x_train, y_train, batch_size=32, epochs=100, callbacks=[checkpoint])"
      ],
      "metadata": {
        "colab": {
          "base_uri": "https://localhost:8080/"
        },
        "id": "uaYm71INBL4Z",
        "outputId": "94851c60-2a81-472a-a831-710320b262fe"
      },
      "execution_count": 347,
      "outputs": [
        {
          "output_type": "stream",
          "name": "stdout",
          "text": [
            "Epoch 1/100\n",
            "1/7 [===>..........................] - ETA: 0s - loss: 0.0189 - accuracy: 1.0000\n",
            "Epoch 1: loss improved from inf to 0.02625, saving model to penguin.h5\n",
            "7/7 [==============================] - 0s 6ms/step - loss: 0.0262 - accuracy: 1.0000\n",
            "Epoch 2/100\n",
            "1/7 [===>..........................] - ETA: 0s - loss: 0.0315 - accuracy: 1.0000\n",
            "Epoch 2: loss improved from 0.02625 to 0.02568, saving model to penguin.h5\n",
            "7/7 [==============================] - 0s 7ms/step - loss: 0.0257 - accuracy: 1.0000\n",
            "Epoch 3/100\n",
            "1/7 [===>..........................] - ETA: 0s - loss: 0.0269 - accuracy: 1.0000\n",
            "Epoch 3: loss improved from 0.02568 to 0.02505, saving model to penguin.h5\n",
            "7/7 [==============================] - 0s 7ms/step - loss: 0.0251 - accuracy: 1.0000\n",
            "Epoch 4/100\n",
            "1/7 [===>..........................] - ETA: 0s - loss: 0.0275 - accuracy: 1.0000\n",
            "Epoch 4: loss improved from 0.02505 to 0.02446, saving model to penguin.h5\n",
            "7/7 [==============================] - 0s 7ms/step - loss: 0.0245 - accuracy: 1.0000\n",
            "Epoch 5/100\n",
            "1/7 [===>..........................] - ETA: 0s - loss: 0.0098 - accuracy: 1.0000\n",
            "Epoch 5: loss improved from 0.02446 to 0.02392, saving model to penguin.h5\n",
            "7/7 [==============================] - 0s 7ms/step - loss: 0.0239 - accuracy: 1.0000\n",
            "Epoch 6/100\n",
            "1/7 [===>..........................] - ETA: 0s - loss: 0.0164 - accuracy: 1.0000\n",
            "Epoch 6: loss improved from 0.02392 to 0.02345, saving model to penguin.h5\n",
            "7/7 [==============================] - 0s 7ms/step - loss: 0.0234 - accuracy: 1.0000\n",
            "Epoch 7/100\n",
            "1/7 [===>..........................] - ETA: 0s - loss: 0.0126 - accuracy: 1.0000\n",
            "Epoch 7: loss improved from 0.02345 to 0.02296, saving model to penguin.h5\n",
            "7/7 [==============================] - 0s 6ms/step - loss: 0.0230 - accuracy: 1.0000\n",
            "Epoch 8/100\n",
            "1/7 [===>..........................] - ETA: 0s - loss: 0.0385 - accuracy: 1.0000\n",
            "Epoch 8: loss improved from 0.02296 to 0.02246, saving model to penguin.h5\n",
            "7/7 [==============================] - 0s 6ms/step - loss: 0.0225 - accuracy: 1.0000\n",
            "Epoch 9/100\n",
            "1/7 [===>..........................] - ETA: 0s - loss: 0.0517 - accuracy: 1.0000\n",
            "Epoch 9: loss improved from 0.02246 to 0.02193, saving model to penguin.h5\n",
            "7/7 [==============================] - 0s 7ms/step - loss: 0.0219 - accuracy: 1.0000\n",
            "Epoch 10/100\n",
            "1/7 [===>..........................] - ETA: 0s - loss: 0.0172 - accuracy: 1.0000\n",
            "Epoch 10: loss improved from 0.02193 to 0.02152, saving model to penguin.h5\n",
            "7/7 [==============================] - 0s 6ms/step - loss: 0.0215 - accuracy: 1.0000\n",
            "Epoch 11/100\n",
            "1/7 [===>..........................] - ETA: 0s - loss: 0.0127 - accuracy: 1.0000\n",
            "Epoch 11: loss improved from 0.02152 to 0.02101, saving model to penguin.h5\n",
            "7/7 [==============================] - 0s 6ms/step - loss: 0.0210 - accuracy: 1.0000\n",
            "Epoch 12/100\n",
            "1/7 [===>..........................] - ETA: 0s - loss: 0.0418 - accuracy: 1.0000\n",
            "Epoch 12: loss improved from 0.02101 to 0.02064, saving model to penguin.h5\n",
            "7/7 [==============================] - 0s 6ms/step - loss: 0.0206 - accuracy: 1.0000\n",
            "Epoch 13/100\n",
            "1/7 [===>..........................] - ETA: 0s - loss: 0.0228 - accuracy: 1.0000\n",
            "Epoch 13: loss improved from 0.02064 to 0.02018, saving model to penguin.h5\n",
            "7/7 [==============================] - 0s 6ms/step - loss: 0.0202 - accuracy: 1.0000\n",
            "Epoch 14/100\n",
            "1/7 [===>..........................] - ETA: 0s - loss: 0.0117 - accuracy: 1.0000\n",
            "Epoch 14: loss improved from 0.02018 to 0.01979, saving model to penguin.h5\n",
            "7/7 [==============================] - 0s 6ms/step - loss: 0.0198 - accuracy: 1.0000\n",
            "Epoch 15/100\n",
            "1/7 [===>..........................] - ETA: 0s - loss: 0.0327 - accuracy: 1.0000\n",
            "Epoch 15: loss improved from 0.01979 to 0.01941, saving model to penguin.h5\n",
            "7/7 [==============================] - 0s 6ms/step - loss: 0.0194 - accuracy: 1.0000\n",
            "Epoch 16/100\n",
            "1/7 [===>..........................] - ETA: 0s - loss: 0.0347 - accuracy: 1.0000\n",
            "Epoch 16: loss improved from 0.01941 to 0.01909, saving model to penguin.h5\n",
            "7/7 [==============================] - 0s 8ms/step - loss: 0.0191 - accuracy: 1.0000\n",
            "Epoch 17/100\n",
            "1/7 [===>..........................] - ETA: 0s - loss: 0.0386 - accuracy: 1.0000\n",
            "Epoch 17: loss improved from 0.01909 to 0.01872, saving model to penguin.h5\n",
            "7/7 [==============================] - 0s 7ms/step - loss: 0.0187 - accuracy: 1.0000\n",
            "Epoch 18/100\n",
            "1/7 [===>..........................] - ETA: 0s - loss: 0.0130 - accuracy: 1.0000\n",
            "Epoch 18: loss improved from 0.01872 to 0.01833, saving model to penguin.h5\n",
            "7/7 [==============================] - 0s 6ms/step - loss: 0.0183 - accuracy: 1.0000\n",
            "Epoch 19/100\n",
            "1/7 [===>..........................] - ETA: 0s - loss: 0.0306 - accuracy: 1.0000\n",
            "Epoch 19: loss improved from 0.01833 to 0.01800, saving model to penguin.h5\n",
            "7/7 [==============================] - 0s 6ms/step - loss: 0.0180 - accuracy: 1.0000\n",
            "Epoch 20/100\n",
            "1/7 [===>..........................] - ETA: 0s - loss: 0.0184 - accuracy: 1.0000\n",
            "Epoch 20: loss improved from 0.01800 to 0.01765, saving model to penguin.h5\n",
            "7/7 [==============================] - 0s 6ms/step - loss: 0.0177 - accuracy: 1.0000\n",
            "Epoch 21/100\n",
            "1/7 [===>..........................] - ETA: 0s - loss: 0.0191 - accuracy: 1.0000\n",
            "Epoch 21: loss improved from 0.01765 to 0.01733, saving model to penguin.h5\n",
            "7/7 [==============================] - 0s 7ms/step - loss: 0.0173 - accuracy: 1.0000\n",
            "Epoch 22/100\n",
            "1/7 [===>..........................] - ETA: 0s - loss: 0.0054 - accuracy: 1.0000\n",
            "Epoch 22: loss improved from 0.01733 to 0.01707, saving model to penguin.h5\n",
            "7/7 [==============================] - 0s 7ms/step - loss: 0.0171 - accuracy: 1.0000\n",
            "Epoch 23/100\n",
            "1/7 [===>..........................] - ETA: 0s - loss: 0.0160 - accuracy: 1.0000\n",
            "Epoch 23: loss improved from 0.01707 to 0.01676, saving model to penguin.h5\n",
            "7/7 [==============================] - 0s 6ms/step - loss: 0.0168 - accuracy: 1.0000\n",
            "Epoch 24/100\n",
            "1/7 [===>..........................] - ETA: 0s - loss: 0.0162 - accuracy: 1.0000\n",
            "Epoch 24: loss improved from 0.01676 to 0.01645, saving model to penguin.h5\n",
            "7/7 [==============================] - 0s 7ms/step - loss: 0.0164 - accuracy: 1.0000\n",
            "Epoch 25/100\n",
            "1/7 [===>..........................] - ETA: 0s - loss: 0.0181 - accuracy: 1.0000\n",
            "Epoch 25: loss improved from 0.01645 to 0.01612, saving model to penguin.h5\n",
            "7/7 [==============================] - 0s 6ms/step - loss: 0.0161 - accuracy: 1.0000\n",
            "Epoch 26/100\n",
            "1/7 [===>..........................] - ETA: 0s - loss: 0.0271 - accuracy: 1.0000\n",
            "Epoch 26: loss improved from 0.01612 to 0.01589, saving model to penguin.h5\n",
            "7/7 [==============================] - 0s 6ms/step - loss: 0.0159 - accuracy: 1.0000\n",
            "Epoch 27/100\n",
            "1/7 [===>..........................] - ETA: 0s - loss: 0.0245 - accuracy: 1.0000\n",
            "Epoch 27: loss improved from 0.01589 to 0.01561, saving model to penguin.h5\n",
            "7/7 [==============================] - 0s 7ms/step - loss: 0.0156 - accuracy: 1.0000\n",
            "Epoch 28/100\n",
            "1/7 [===>..........................] - ETA: 0s - loss: 0.0150 - accuracy: 1.0000\n",
            "Epoch 28: loss improved from 0.01561 to 0.01538, saving model to penguin.h5\n",
            "7/7 [==============================] - 0s 7ms/step - loss: 0.0154 - accuracy: 1.0000\n",
            "Epoch 29/100\n",
            "1/7 [===>..........................] - ETA: 0s - loss: 0.0277 - accuracy: 1.0000\n",
            "Epoch 29: loss improved from 0.01538 to 0.01502, saving model to penguin.h5\n",
            "7/7 [==============================] - 0s 6ms/step - loss: 0.0150 - accuracy: 1.0000\n",
            "Epoch 30/100\n",
            "1/7 [===>..........................] - ETA: 0s - loss: 0.0131 - accuracy: 1.0000\n",
            "Epoch 30: loss improved from 0.01502 to 0.01480, saving model to penguin.h5\n",
            "7/7 [==============================] - 0s 6ms/step - loss: 0.0148 - accuracy: 1.0000\n",
            "Epoch 31/100\n",
            "1/7 [===>..........................] - ETA: 0s - loss: 0.0071 - accuracy: 1.0000\n",
            "Epoch 31: loss improved from 0.01480 to 0.01455, saving model to penguin.h5\n",
            "7/7 [==============================] - 0s 6ms/step - loss: 0.0145 - accuracy: 1.0000\n",
            "Epoch 32/100\n",
            "1/7 [===>..........................] - ETA: 0s - loss: 0.0196 - accuracy: 1.0000\n",
            "Epoch 32: loss improved from 0.01455 to 0.01443, saving model to penguin.h5\n",
            "7/7 [==============================] - 0s 8ms/step - loss: 0.0144 - accuracy: 1.0000\n",
            "Epoch 33/100\n",
            "1/7 [===>..........................] - ETA: 0s - loss: 0.0097 - accuracy: 1.0000\n",
            "Epoch 33: loss improved from 0.01443 to 0.01409, saving model to penguin.h5\n",
            "7/7 [==============================] - 0s 7ms/step - loss: 0.0141 - accuracy: 1.0000\n",
            "Epoch 34/100\n",
            "1/7 [===>..........................] - ETA: 0s - loss: 0.0044 - accuracy: 1.0000\n",
            "Epoch 34: loss improved from 0.01409 to 0.01389, saving model to penguin.h5\n",
            "7/7 [==============================] - 0s 7ms/step - loss: 0.0139 - accuracy: 1.0000\n",
            "Epoch 35/100\n",
            "1/7 [===>..........................] - ETA: 0s - loss: 0.0214 - accuracy: 1.0000\n",
            "Epoch 35: loss improved from 0.01389 to 0.01370, saving model to penguin.h5\n",
            "7/7 [==============================] - 0s 6ms/step - loss: 0.0137 - accuracy: 1.0000\n",
            "Epoch 36/100\n",
            "1/7 [===>..........................] - ETA: 0s - loss: 0.0237 - accuracy: 1.0000\n",
            "Epoch 36: loss improved from 0.01370 to 0.01348, saving model to penguin.h5\n",
            "7/7 [==============================] - 0s 7ms/step - loss: 0.0135 - accuracy: 1.0000\n",
            "Epoch 37/100\n",
            "1/7 [===>..........................] - ETA: 0s - loss: 0.0212 - accuracy: 1.0000\n",
            "Epoch 37: loss improved from 0.01348 to 0.01320, saving model to penguin.h5\n",
            "7/7 [==============================] - 0s 6ms/step - loss: 0.0132 - accuracy: 1.0000\n",
            "Epoch 38/100\n",
            "1/7 [===>..........................] - ETA: 0s - loss: 0.0182 - accuracy: 1.0000\n",
            "Epoch 38: loss improved from 0.01320 to 0.01300, saving model to penguin.h5\n",
            "7/7 [==============================] - 0s 6ms/step - loss: 0.0130 - accuracy: 1.0000\n",
            "Epoch 39/100\n",
            "1/7 [===>..........................] - ETA: 0s - loss: 0.0049 - accuracy: 1.0000\n",
            "Epoch 39: loss improved from 0.01300 to 0.01283, saving model to penguin.h5\n",
            "7/7 [==============================] - 0s 6ms/step - loss: 0.0128 - accuracy: 1.0000\n",
            "Epoch 40/100\n",
            "1/7 [===>..........................] - ETA: 0s - loss: 0.0174 - accuracy: 1.0000\n",
            "Epoch 40: loss improved from 0.01283 to 0.01272, saving model to penguin.h5\n",
            "7/7 [==============================] - 0s 7ms/step - loss: 0.0127 - accuracy: 1.0000\n",
            "Epoch 41/100\n",
            "1/7 [===>..........................] - ETA: 0s - loss: 0.0097 - accuracy: 1.0000\n",
            "Epoch 41: loss improved from 0.01272 to 0.01250, saving model to penguin.h5\n",
            "7/7 [==============================] - 0s 6ms/step - loss: 0.0125 - accuracy: 1.0000\n",
            "Epoch 42/100\n",
            "1/7 [===>..........................] - ETA: 0s - loss: 0.0089 - accuracy: 1.0000\n",
            "Epoch 42: loss improved from 0.01250 to 0.01229, saving model to penguin.h5\n",
            "7/7 [==============================] - 0s 7ms/step - loss: 0.0123 - accuracy: 1.0000\n",
            "Epoch 43/100\n",
            "1/7 [===>..........................] - ETA: 0s - loss: 0.0109 - accuracy: 1.0000\n",
            "Epoch 43: loss improved from 0.01229 to 0.01206, saving model to penguin.h5\n",
            "7/7 [==============================] - 0s 6ms/step - loss: 0.0121 - accuracy: 1.0000\n",
            "Epoch 44/100\n",
            "1/7 [===>..........................] - ETA: 0s - loss: 0.0101 - accuracy: 1.0000\n",
            "Epoch 44: loss improved from 0.01206 to 0.01194, saving model to penguin.h5\n",
            "7/7 [==============================] - 0s 6ms/step - loss: 0.0119 - accuracy: 1.0000\n",
            "Epoch 45/100\n",
            "1/7 [===>..........................] - ETA: 0s - loss: 0.0054 - accuracy: 1.0000\n",
            "Epoch 45: loss improved from 0.01194 to 0.01176, saving model to penguin.h5\n",
            "7/7 [==============================] - 0s 6ms/step - loss: 0.0118 - accuracy: 1.0000\n",
            "Epoch 46/100\n",
            "1/7 [===>..........................] - ETA: 0s - loss: 0.0091 - accuracy: 1.0000\n",
            "Epoch 46: loss improved from 0.01176 to 0.01160, saving model to penguin.h5\n",
            "7/7 [==============================] - 0s 7ms/step - loss: 0.0116 - accuracy: 1.0000\n",
            "Epoch 47/100\n",
            "1/7 [===>..........................] - ETA: 0s - loss: 0.0082 - accuracy: 1.0000\n",
            "Epoch 47: loss improved from 0.01160 to 0.01141, saving model to penguin.h5\n",
            "7/7 [==============================] - 0s 7ms/step - loss: 0.0114 - accuracy: 1.0000\n",
            "Epoch 48/100\n",
            "1/7 [===>..........................] - ETA: 0s - loss: 0.0271 - accuracy: 1.0000\n",
            "Epoch 48: loss improved from 0.01141 to 0.01136, saving model to penguin.h5\n",
            "7/7 [==============================] - 0s 6ms/step - loss: 0.0114 - accuracy: 1.0000\n",
            "Epoch 49/100\n",
            "1/7 [===>..........................] - ETA: 0s - loss: 0.0209 - accuracy: 1.0000\n",
            "Epoch 49: loss improved from 0.01136 to 0.01116, saving model to penguin.h5\n",
            "7/7 [==============================] - 0s 7ms/step - loss: 0.0112 - accuracy: 1.0000\n",
            "Epoch 50/100\n",
            "1/7 [===>..........................] - ETA: 0s - loss: 0.0068 - accuracy: 1.0000\n",
            "Epoch 50: loss improved from 0.01116 to 0.01093, saving model to penguin.h5\n",
            "7/7 [==============================] - 0s 6ms/step - loss: 0.0109 - accuracy: 1.0000\n",
            "Epoch 51/100\n",
            "1/7 [===>..........................] - ETA: 0s - loss: 0.0100 - accuracy: 1.0000\n",
            "Epoch 51: loss improved from 0.01093 to 0.01078, saving model to penguin.h5\n",
            "7/7 [==============================] - 0s 7ms/step - loss: 0.0108 - accuracy: 1.0000\n",
            "Epoch 52/100\n",
            "1/7 [===>..........................] - ETA: 0s - loss: 0.0110 - accuracy: 1.0000\n",
            "Epoch 52: loss improved from 0.01078 to 0.01070, saving model to penguin.h5\n",
            "7/7 [==============================] - 0s 6ms/step - loss: 0.0107 - accuracy: 1.0000\n",
            "Epoch 53/100\n",
            "1/7 [===>..........................] - ETA: 0s - loss: 0.0092 - accuracy: 1.0000\n",
            "Epoch 53: loss improved from 0.01070 to 0.01053, saving model to penguin.h5\n",
            "7/7 [==============================] - 0s 7ms/step - loss: 0.0105 - accuracy: 1.0000\n",
            "Epoch 54/100\n",
            "1/7 [===>..........................] - ETA: 0s - loss: 0.0066 - accuracy: 1.0000\n",
            "Epoch 54: loss improved from 0.01053 to 0.01034, saving model to penguin.h5\n",
            "7/7 [==============================] - 0s 7ms/step - loss: 0.0103 - accuracy: 1.0000\n",
            "Epoch 55/100\n",
            "1/7 [===>..........................] - ETA: 0s - loss: 0.0081 - accuracy: 1.0000\n",
            "Epoch 55: loss improved from 0.01034 to 0.01022, saving model to penguin.h5\n",
            "7/7 [==============================] - 0s 7ms/step - loss: 0.0102 - accuracy: 1.0000\n",
            "Epoch 56/100\n",
            "1/7 [===>..........................] - ETA: 0s - loss: 0.0080 - accuracy: 1.0000\n",
            "Epoch 56: loss improved from 0.01022 to 0.01010, saving model to penguin.h5\n",
            "7/7 [==============================] - 0s 7ms/step - loss: 0.0101 - accuracy: 1.0000\n",
            "Epoch 57/100\n",
            "1/7 [===>..........................] - ETA: 0s - loss: 0.0045 - accuracy: 1.0000\n",
            "Epoch 57: loss improved from 0.01010 to 0.00996, saving model to penguin.h5\n",
            "7/7 [==============================] - 0s 8ms/step - loss: 0.0100 - accuracy: 1.0000\n",
            "Epoch 58/100\n",
            "1/7 [===>..........................] - ETA: 0s - loss: 0.0091 - accuracy: 1.0000\n",
            "Epoch 58: loss improved from 0.00996 to 0.00982, saving model to penguin.h5\n",
            "7/7 [==============================] - 0s 6ms/step - loss: 0.0098 - accuracy: 1.0000\n",
            "Epoch 59/100\n",
            "1/7 [===>..........................] - ETA: 0s - loss: 0.0076 - accuracy: 1.0000\n",
            "Epoch 59: loss improved from 0.00982 to 0.00968, saving model to penguin.h5\n",
            "7/7 [==============================] - 0s 6ms/step - loss: 0.0097 - accuracy: 1.0000\n",
            "Epoch 60/100\n",
            "1/7 [===>..........................] - ETA: 0s - loss: 0.0067 - accuracy: 1.0000\n",
            "Epoch 60: loss improved from 0.00968 to 0.00958, saving model to penguin.h5\n",
            "7/7 [==============================] - 0s 7ms/step - loss: 0.0096 - accuracy: 1.0000\n",
            "Epoch 61/100\n",
            "1/7 [===>..........................] - ETA: 0s - loss: 0.0049 - accuracy: 1.0000\n",
            "Epoch 61: loss improved from 0.00958 to 0.00944, saving model to penguin.h5\n",
            "7/7 [==============================] - 0s 7ms/step - loss: 0.0094 - accuracy: 1.0000\n",
            "Epoch 62/100\n",
            "1/7 [===>..........................] - ETA: 0s - loss: 0.0144 - accuracy: 1.0000\n",
            "Epoch 62: loss improved from 0.00944 to 0.00936, saving model to penguin.h5\n",
            "7/7 [==============================] - 0s 6ms/step - loss: 0.0094 - accuracy: 1.0000\n",
            "Epoch 63/100\n",
            "1/7 [===>..........................] - ETA: 0s - loss: 0.0063 - accuracy: 1.0000\n",
            "Epoch 63: loss improved from 0.00936 to 0.00921, saving model to penguin.h5\n",
            "7/7 [==============================] - 0s 6ms/step - loss: 0.0092 - accuracy: 1.0000\n",
            "Epoch 64/100\n",
            "1/7 [===>..........................] - ETA: 0s - loss: 0.0060 - accuracy: 1.0000\n",
            "Epoch 64: loss improved from 0.00921 to 0.00910, saving model to penguin.h5\n",
            "7/7 [==============================] - 0s 6ms/step - loss: 0.0091 - accuracy: 1.0000\n",
            "Epoch 65/100\n",
            "1/7 [===>..........................] - ETA: 0s - loss: 0.0046 - accuracy: 1.0000\n",
            "Epoch 65: loss improved from 0.00910 to 0.00898, saving model to penguin.h5\n",
            "7/7 [==============================] - 0s 7ms/step - loss: 0.0090 - accuracy: 1.0000\n",
            "Epoch 66/100\n",
            "1/7 [===>..........................] - ETA: 0s - loss: 0.0110 - accuracy: 1.0000\n",
            "Epoch 66: loss improved from 0.00898 to 0.00888, saving model to penguin.h5\n",
            "7/7 [==============================] - 0s 7ms/step - loss: 0.0089 - accuracy: 1.0000\n",
            "Epoch 67/100\n",
            "1/7 [===>..........................] - ETA: 0s - loss: 0.0022 - accuracy: 1.0000\n",
            "Epoch 67: loss improved from 0.00888 to 0.00875, saving model to penguin.h5\n",
            "7/7 [==============================] - 0s 7ms/step - loss: 0.0087 - accuracy: 1.0000\n",
            "Epoch 68/100\n",
            "1/7 [===>..........................] - ETA: 0s - loss: 0.0069 - accuracy: 1.0000\n",
            "Epoch 68: loss improved from 0.00875 to 0.00871, saving model to penguin.h5\n",
            "7/7 [==============================] - 0s 6ms/step - loss: 0.0087 - accuracy: 1.0000\n",
            "Epoch 69/100\n",
            "1/7 [===>..........................] - ETA: 0s - loss: 0.0128 - accuracy: 1.0000\n",
            "Epoch 69: loss improved from 0.00871 to 0.00855, saving model to penguin.h5\n",
            "7/7 [==============================] - 0s 6ms/step - loss: 0.0085 - accuracy: 1.0000\n",
            "Epoch 70/100\n",
            "1/7 [===>..........................] - ETA: 0s - loss: 0.0126 - accuracy: 1.0000\n",
            "Epoch 70: loss improved from 0.00855 to 0.00845, saving model to penguin.h5\n",
            "7/7 [==============================] - 0s 7ms/step - loss: 0.0085 - accuracy: 1.0000\n",
            "Epoch 71/100\n",
            "1/7 [===>..........................] - ETA: 0s - loss: 0.0145 - accuracy: 1.0000\n",
            "Epoch 71: loss improved from 0.00845 to 0.00838, saving model to penguin.h5\n",
            "7/7 [==============================] - 0s 7ms/step - loss: 0.0084 - accuracy: 1.0000\n",
            "Epoch 72/100\n",
            "1/7 [===>..........................] - ETA: 0s - loss: 0.0081 - accuracy: 1.0000\n",
            "Epoch 72: loss improved from 0.00838 to 0.00824, saving model to penguin.h5\n",
            "7/7 [==============================] - 0s 8ms/step - loss: 0.0082 - accuracy: 1.0000\n",
            "Epoch 73/100\n",
            "1/7 [===>..........................] - ETA: 0s - loss: 0.0039 - accuracy: 1.0000\n",
            "Epoch 73: loss improved from 0.00824 to 0.00815, saving model to penguin.h5\n",
            "7/7 [==============================] - 0s 6ms/step - loss: 0.0082 - accuracy: 1.0000\n",
            "Epoch 74/100\n",
            "1/7 [===>..........................] - ETA: 0s - loss: 0.0023 - accuracy: 1.0000\n",
            "Epoch 74: loss improved from 0.00815 to 0.00805, saving model to penguin.h5\n",
            "7/7 [==============================] - 0s 7ms/step - loss: 0.0080 - accuracy: 1.0000\n",
            "Epoch 75/100\n",
            "1/7 [===>..........................] - ETA: 0s - loss: 0.0040 - accuracy: 1.0000\n",
            "Epoch 75: loss improved from 0.00805 to 0.00795, saving model to penguin.h5\n",
            "7/7 [==============================] - 0s 7ms/step - loss: 0.0080 - accuracy: 1.0000\n",
            "Epoch 76/100\n",
            "1/7 [===>..........................] - ETA: 0s - loss: 0.0169 - accuracy: 1.0000\n",
            "Epoch 76: loss improved from 0.00795 to 0.00788, saving model to penguin.h5\n",
            "7/7 [==============================] - 0s 6ms/step - loss: 0.0079 - accuracy: 1.0000\n",
            "Epoch 77/100\n",
            "1/7 [===>..........................] - ETA: 0s - loss: 0.0030 - accuracy: 1.0000\n",
            "Epoch 77: loss improved from 0.00788 to 0.00776, saving model to penguin.h5\n",
            "7/7 [==============================] - 0s 7ms/step - loss: 0.0078 - accuracy: 1.0000\n",
            "Epoch 78/100\n",
            "1/7 [===>..........................] - ETA: 0s - loss: 0.0073 - accuracy: 1.0000\n",
            "Epoch 78: loss improved from 0.00776 to 0.00771, saving model to penguin.h5\n",
            "7/7 [==============================] - 0s 7ms/step - loss: 0.0077 - accuracy: 1.0000\n",
            "Epoch 79/100\n",
            "1/7 [===>..........................] - ETA: 0s - loss: 0.0077 - accuracy: 1.0000\n",
            "Epoch 79: loss improved from 0.00771 to 0.00760, saving model to penguin.h5\n",
            "7/7 [==============================] - 0s 8ms/step - loss: 0.0076 - accuracy: 1.0000\n",
            "Epoch 80/100\n",
            "1/7 [===>..........................] - ETA: 0s - loss: 0.0111 - accuracy: 1.0000\n",
            "Epoch 80: loss improved from 0.00760 to 0.00752, saving model to penguin.h5\n",
            "7/7 [==============================] - 0s 7ms/step - loss: 0.0075 - accuracy: 1.0000\n",
            "Epoch 81/100\n",
            "1/7 [===>..........................] - ETA: 0s - loss: 0.0071 - accuracy: 1.0000\n",
            "Epoch 81: loss improved from 0.00752 to 0.00741, saving model to penguin.h5\n",
            "7/7 [==============================] - 0s 6ms/step - loss: 0.0074 - accuracy: 1.0000\n",
            "Epoch 82/100\n",
            "1/7 [===>..........................] - ETA: 0s - loss: 0.0047 - accuracy: 1.0000\n",
            "Epoch 82: loss improved from 0.00741 to 0.00734, saving model to penguin.h5\n",
            "7/7 [==============================] - 0s 7ms/step - loss: 0.0073 - accuracy: 1.0000\n",
            "Epoch 83/100\n",
            "1/7 [===>..........................] - ETA: 0s - loss: 0.0135 - accuracy: 1.0000\n",
            "Epoch 83: loss improved from 0.00734 to 0.00729, saving model to penguin.h5\n",
            "7/7 [==============================] - 0s 7ms/step - loss: 0.0073 - accuracy: 1.0000\n",
            "Epoch 84/100\n",
            "1/7 [===>..........................] - ETA: 0s - loss: 0.0118 - accuracy: 1.0000\n",
            "Epoch 84: loss improved from 0.00729 to 0.00726, saving model to penguin.h5\n",
            "7/7 [==============================] - 0s 7ms/step - loss: 0.0073 - accuracy: 1.0000\n",
            "Epoch 85/100\n",
            "1/7 [===>..........................] - ETA: 0s - loss: 0.0115 - accuracy: 1.0000\n",
            "Epoch 85: loss improved from 0.00726 to 0.00711, saving model to penguin.h5\n",
            "7/7 [==============================] - 0s 7ms/step - loss: 0.0071 - accuracy: 1.0000\n",
            "Epoch 86/100\n",
            "1/7 [===>..........................] - ETA: 0s - loss: 0.0117 - accuracy: 1.0000\n",
            "Epoch 86: loss improved from 0.00711 to 0.00704, saving model to penguin.h5\n",
            "7/7 [==============================] - 0s 6ms/step - loss: 0.0070 - accuracy: 1.0000\n",
            "Epoch 87/100\n",
            "1/7 [===>..........................] - ETA: 0s - loss: 0.0074 - accuracy: 1.0000\n",
            "Epoch 87: loss improved from 0.00704 to 0.00694, saving model to penguin.h5\n",
            "7/7 [==============================] - 0s 6ms/step - loss: 0.0069 - accuracy: 1.0000\n",
            "Epoch 88/100\n",
            "1/7 [===>..........................] - ETA: 0s - loss: 0.0096 - accuracy: 1.0000\n",
            "Epoch 88: loss improved from 0.00694 to 0.00690, saving model to penguin.h5\n",
            "7/7 [==============================] - 0s 6ms/step - loss: 0.0069 - accuracy: 1.0000\n",
            "Epoch 89/100\n",
            "1/7 [===>..........................] - ETA: 0s - loss: 0.0039 - accuracy: 1.0000\n",
            "Epoch 89: loss improved from 0.00690 to 0.00679, saving model to penguin.h5\n",
            "7/7 [==============================] - 0s 6ms/step - loss: 0.0068 - accuracy: 1.0000\n",
            "Epoch 90/100\n",
            "1/7 [===>..........................] - ETA: 0s - loss: 0.0037 - accuracy: 1.0000\n",
            "Epoch 90: loss improved from 0.00679 to 0.00673, saving model to penguin.h5\n",
            "7/7 [==============================] - 0s 6ms/step - loss: 0.0067 - accuracy: 1.0000\n",
            "Epoch 91/100\n",
            "1/7 [===>..........................] - ETA: 0s - loss: 0.0123 - accuracy: 1.0000\n",
            "Epoch 91: loss improved from 0.00673 to 0.00667, saving model to penguin.h5\n",
            "7/7 [==============================] - 0s 8ms/step - loss: 0.0067 - accuracy: 1.0000\n",
            "Epoch 92/100\n",
            "1/7 [===>..........................] - ETA: 0s - loss: 0.0137 - accuracy: 1.0000\n",
            "Epoch 92: loss improved from 0.00667 to 0.00659, saving model to penguin.h5\n",
            "7/7 [==============================] - 0s 8ms/step - loss: 0.0066 - accuracy: 1.0000\n",
            "Epoch 93/100\n",
            "1/7 [===>..........................] - ETA: 0s - loss: 0.0033 - accuracy: 1.0000\n",
            "Epoch 93: loss improved from 0.00659 to 0.00653, saving model to penguin.h5\n",
            "7/7 [==============================] - 0s 7ms/step - loss: 0.0065 - accuracy: 1.0000\n",
            "Epoch 94/100\n",
            "1/7 [===>..........................] - ETA: 0s - loss: 0.0100 - accuracy: 1.0000\n",
            "Epoch 94: loss improved from 0.00653 to 0.00646, saving model to penguin.h5\n",
            "7/7 [==============================] - 0s 6ms/step - loss: 0.0065 - accuracy: 1.0000\n",
            "Epoch 95/100\n",
            "1/7 [===>..........................] - ETA: 0s - loss: 0.0019 - accuracy: 1.0000\n",
            "Epoch 95: loss improved from 0.00646 to 0.00638, saving model to penguin.h5\n",
            "7/7 [==============================] - 0s 6ms/step - loss: 0.0064 - accuracy: 1.0000\n",
            "Epoch 96/100\n",
            "1/7 [===>..........................] - ETA: 0s - loss: 0.0067 - accuracy: 1.0000\n",
            "Epoch 96: loss improved from 0.00638 to 0.00629, saving model to penguin.h5\n",
            "7/7 [==============================] - 0s 7ms/step - loss: 0.0063 - accuracy: 1.0000\n",
            "Epoch 97/100\n",
            "1/7 [===>..........................] - ETA: 0s - loss: 0.0140 - accuracy: 1.0000\n",
            "Epoch 97: loss improved from 0.00629 to 0.00628, saving model to penguin.h5\n",
            "7/7 [==============================] - 0s 6ms/step - loss: 0.0063 - accuracy: 1.0000\n",
            "Epoch 98/100\n",
            "1/7 [===>..........................] - ETA: 0s - loss: 0.0017 - accuracy: 1.0000\n",
            "Epoch 98: loss improved from 0.00628 to 0.00616, saving model to penguin.h5\n",
            "7/7 [==============================] - 0s 7ms/step - loss: 0.0062 - accuracy: 1.0000\n",
            "Epoch 99/100\n",
            "1/7 [===>..........................] - ETA: 0s - loss: 0.0070 - accuracy: 1.0000\n",
            "Epoch 99: loss improved from 0.00616 to 0.00611, saving model to penguin.h5\n",
            "7/7 [==============================] - 0s 6ms/step - loss: 0.0061 - accuracy: 1.0000\n",
            "Epoch 100/100\n",
            "1/7 [===>..........................] - ETA: 0s - loss: 0.0157 - accuracy: 1.0000\n",
            "Epoch 100: loss improved from 0.00611 to 0.00604, saving model to penguin.h5\n",
            "7/7 [==============================] - 0s 7ms/step - loss: 0.0060 - accuracy: 1.0000\n"
          ]
        }
      ]
    },
    {
      "cell_type": "markdown",
      "source": [
        "## Histograms"
      ],
      "metadata": {
        "id": "-e3HgNsbGGOI"
      }
    },
    {
      "cell_type": "code",
      "source": [
        "print(ann.history.history.keys())"
      ],
      "metadata": {
        "colab": {
          "base_uri": "https://localhost:8080/"
        },
        "id": "itNya0ImKZGm",
        "outputId": "2021319e-937b-45a4-b7d8-a68096344979"
      },
      "execution_count": 343,
      "outputs": [
        {
          "output_type": "stream",
          "name": "stdout",
          "text": [
            "dict_keys(['loss', 'accuracy'])\n"
          ]
        }
      ]
    },
    {
      "cell_type": "code",
      "source": [
        "import matplotlib.pyplot as plt\n",
        "\n",
        "loss_train = history.history['loss']\n",
        "accuracy = history.history['accuracy']\n",
        "plt.plot(loss_train, 'g', label='Training loss')\n",
        "plt.plot(accuracy, 'b', label='validation loss')\n",
        "plt.legend()\n",
        "plt.show()"
      ],
      "metadata": {
        "colab": {
          "base_uri": "https://localhost:8080/",
          "height": 265
        },
        "id": "hzh1hvF5GIzp",
        "outputId": "791be167-a895-411b-f8da-0a0a4b2bd617"
      },
      "execution_count": 344,
      "outputs": [
        {
          "output_type": "display_data",
          "data": {
            "text/plain": [
              "<Figure size 432x288 with 1 Axes>"
            ],
            "image/png": "[encoded data removed]"
          },
          "metadata": {
            "needs_background": "light"
          }
        }
      ]
    },
    {
      "cell_type": "markdown",
      "source": [
        "## Validation test set"
      ],
      "metadata": {
        "id": "fIrR2gKhDXMs"
      }
    },
    {
      "cell_type": "code",
      "source": [
        "y_pred = ann.predict(x_test)\n",
        "new_y = []\n",
        "for i in y_pred:\n",
        "  new_y_pred = np.argmax(i)\n",
        "  new_y.append(new_y_pred)\n",
        "\n",
        "y_pred_value = np.array(new_y)\n",
        "\n",
        "print(np.concatenate((y_test.reshape(len(y_test),1),y_pred_value.reshape(len(y_pred_value),1)),1))"
      ],
      "metadata": {
        "colab": {
          "base_uri": "https://localhost:8080/"
        },
        "id": "kUPY09fBDebj",
        "outputId": "c13772ed-a2c7-4eed-ece3-257f9a7ffa2e"
      },
      "execution_count": 345,
      "outputs": [
        {
          "output_type": "stream",
          "name": "stdout",
          "text": [
            "[[0 0]\n",
            " [0 0]\n",
            " [1 1]\n",
            " [0 0]\n",
            " [0 0]\n",
            " [0 0]\n",
            " [2 2]\n",
            " [1 1]\n",
            " [2 2]\n",
            " [2 2]\n",
            " [1 1]\n",
            " [0 0]\n",
            " [0 0]\n",
            " [2 2]\n",
            " [0 0]\n",
            " [0 0]\n",
            " [2 2]\n",
            " [0 0]\n",
            " [2 2]\n",
            " [0 0]\n",
            " [0 0]\n",
            " [0 0]\n",
            " [1 1]\n",
            " [2 2]\n",
            " [1 1]\n",
            " [2 2]\n",
            " [0 0]\n",
            " [0 0]\n",
            " [0 0]\n",
            " [0 0]\n",
            " [0 0]\n",
            " [2 2]\n",
            " [0 0]\n",
            " [2 2]\n",
            " [0 0]\n",
            " [1 1]\n",
            " [2 2]\n",
            " [0 0]\n",
            " [2 2]\n",
            " [0 0]\n",
            " [1 1]\n",
            " [2 2]\n",
            " [0 0]\n",
            " [0 0]\n",
            " [0 0]\n",
            " [0 0]\n",
            " [0 0]\n",
            " [0 0]\n",
            " [2 2]\n",
            " [0 0]\n",
            " [2 2]\n",
            " [0 0]\n",
            " [2 2]\n",
            " [1 1]\n",
            " [0 0]\n",
            " [0 0]\n",
            " [0 0]\n",
            " [0 0]\n",
            " [0 0]\n",
            " [1 1]\n",
            " [0 0]\n",
            " [2 2]\n",
            " [0 0]\n",
            " [1 1]\n",
            " [0 0]\n",
            " [0 0]\n",
            " [2 2]]\n"
          ]
        }
      ]
    },
    {
      "cell_type": "markdown",
      "source": [
        "## Making confusion matrix and accuracy score"
      ],
      "metadata": {
        "id": "xRnFJdz1FecX"
      }
    },
    {
      "cell_type": "code",
      "source": [
        "from sklearn.metrics import confusion_matrix, accuracy_score\n",
        "\n",
        "cm = confusion_matrix(y_test, y_pred_value)\n",
        "print(cm)\n",
        "ac = accuracy_score(y_test, y_pred_value)\n",
        "print(ac)"
      ],
      "metadata": {
        "colab": {
          "base_uri": "https://localhost:8080/"
        },
        "id": "cw8nGdB9FkMl",
        "outputId": "36850c98-8e63-4c36-e67f-d3dba455deed"
      },
      "execution_count": 346,
      "outputs": [
        {
          "output_type": "stream",
          "name": "stdout",
          "text": [
            "[[39  0  0]\n",
            " [ 0 10  0]\n",
            " [ 0  0 18]]\n",
            "1.0\n"
          ]
        }
      ]
    }
  ]
}