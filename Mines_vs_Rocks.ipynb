{
  "nbformat": 4,
  "nbformat_minor": 0,
  "metadata": {
    "colab": {
      "name": "Mines vs Rocks.ipynb",
      "provenance": [],
      "authorship_tag": "ABX9TyO+dKAVY4m7I+ksa1c3J6Sn",
      "include_colab_link": true
    },
    "kernelspec": {
      "name": "python3",
      "display_name": "Python 3"
    },
    "language_info": {
      "name": "python"
    }
  },
  "cells": [
    {
      "cell_type": "markdown",
      "metadata": {
        "id": "view-in-github",
        "colab_type": "text"
      },
      "source": [
        "<a href=\"https://colab.research.google.com/github/bathicodes/EXPERIMENTS/blob/main/Mines_vs_Rocks.ipynb\" target=\"_parent\"><img src=\"https://colab.research.google.com/assets/colab-badge.svg\" alt=\"Open In Colab\"/></a>"
      ]
    },
    {
      "cell_type": "markdown",
      "source": [
        "### Import libraries"
      ],
      "metadata": {
        "id": "nkWV_txM9L7b"
      }
    },
    {
      "cell_type": "code",
      "source": [
        "import numpy as np\n",
        "import pandas as pd\n",
        "import matplotlib.pyplot as plt"
      ],
      "metadata": {
        "id": "A1uS1ari9OwP"
      },
      "execution_count": 58,
      "outputs": []
    },
    {
      "cell_type": "markdown",
      "source": [
        "### Import dataset"
      ],
      "metadata": {
        "id": "P7BhNL7Q9PBg"
      }
    },
    {
      "cell_type": "code",
      "source": [
        "dataset = pd.read_csv('sonar data.csv')"
      ],
      "metadata": {
        "id": "F5XujQju9ZHU"
      },
      "execution_count": 59,
      "outputs": []
    },
    {
      "cell_type": "markdown",
      "source": [
        "### Get information about dataset"
      ],
      "metadata": {
        "id": "hv5vut_P_JWY"
      }
    },
    {
      "cell_type": "code",
      "source": [
        "dataset.isnull().sum()\n",
        "dataset.describe()\n",
        "dataset.info()\n",
        "dataset['R'].value_counts()"
      ],
      "metadata": {
        "colab": {
          "base_uri": "https://localhost:8080/"
        },
        "id": "I5xAq-c6_M42",
        "outputId": "35b42ae3-cd36-4b74-a710-2038b66dabff"
      },
      "execution_count": 72,
      "outputs": [
        {
          "output_type": "stream",
          "name": "stdout",
          "text": [
            "<class 'pandas.core.frame.DataFrame'>\n",
            "RangeIndex: 207 entries, 0 to 206\n",
            "Data columns (total 61 columns):\n",
            " #   Column  Non-Null Count  Dtype  \n",
            "---  ------  --------------  -----  \n",
            " 0   0.0200  207 non-null    float64\n",
            " 1   0.0371  207 non-null    float64\n",
            " 2   0.0428  207 non-null    float64\n",
            " 3   0.0207  207 non-null    float64\n",
            " 4   0.0954  207 non-null    float64\n",
            " 5   0.0986  207 non-null    float64\n",
            " 6   0.1539  207 non-null    float64\n",
            " 7   0.1601  207 non-null    float64\n",
            " 8   0.3109  207 non-null    float64\n",
            " 9   0.2111  207 non-null    float64\n",
            " 10  0.1609  207 non-null    float64\n",
            " 11  0.1582  207 non-null    float64\n",
            " 12  0.2238  207 non-null    float64\n",
            " 13  0.0645  207 non-null    float64\n",
            " 14  0.0660  207 non-null    float64\n",
            " 15  0.2273  207 non-null    float64\n",
            " 16  0.3100  207 non-null    float64\n",
            " 17  0.2999  207 non-null    float64\n",
            " 18  0.5078  207 non-null    float64\n",
            " 19  0.4797  207 non-null    float64\n",
            " 20  0.5783  207 non-null    float64\n",
            " 21  0.5071  207 non-null    float64\n",
            " 22  0.4328  207 non-null    float64\n",
            " 23  0.5550  207 non-null    float64\n",
            " 24  0.6711  207 non-null    float64\n",
            " 25  0.6415  207 non-null    float64\n",
            " 26  0.7104  207 non-null    float64\n",
            " 27  0.8080  207 non-null    float64\n",
            " 28  0.6791  207 non-null    float64\n",
            " 29  0.3857  207 non-null    float64\n",
            " 30  0.1307  207 non-null    float64\n",
            " 31  0.2604  207 non-null    float64\n",
            " 32  0.5121  207 non-null    float64\n",
            " 33  0.7547  207 non-null    float64\n",
            " 34  0.8537  207 non-null    float64\n",
            " 35  0.8507  207 non-null    float64\n",
            " 36  0.6692  207 non-null    float64\n",
            " 37  0.6097  207 non-null    float64\n",
            " 38  0.4943  207 non-null    float64\n",
            " 39  0.2744  207 non-null    float64\n",
            " 40  0.0510  207 non-null    float64\n",
            " 41  0.2834  207 non-null    float64\n",
            " 42  0.2825  207 non-null    float64\n",
            " 43  0.4256  207 non-null    float64\n",
            " 44  0.2641  207 non-null    float64\n",
            " 45  0.1386  207 non-null    float64\n",
            " 46  0.1051  207 non-null    float64\n",
            " 47  0.1343  207 non-null    float64\n",
            " 48  0.0383  207 non-null    float64\n",
            " 49  0.0324  207 non-null    float64\n",
            " 50  0.0232  207 non-null    float64\n",
            " 51  0.0027  207 non-null    float64\n",
            " 52  0.0065  207 non-null    float64\n",
            " 53  0.0159  207 non-null    float64\n",
            " 54  0.0072  207 non-null    float64\n",
            " 55  0.0167  207 non-null    float64\n",
            " 56  0.0180  207 non-null    float64\n",
            " 57  0.0084  207 non-null    float64\n",
            " 58  0.0090  207 non-null    float64\n",
            " 59  0.0032  207 non-null    float64\n",
            " 60  R       207 non-null    object \n",
            "dtypes: float64(60), object(1)\n",
            "memory usage: 98.8+ KB\n"
          ]
        },
        {
          "output_type": "execute_result",
          "data": {
            "text/plain": [
              "M    111\n",
              "R     96\n",
              "Name: R, dtype: int64"
            ]
          },
          "metadata": {},
          "execution_count": 72
        }
      ]
    },
    {
      "cell_type": "code",
      "source": [
        "x = dataset.iloc[:,:-1].values\n",
        "y = dataset.iloc[:,-1].values"
      ],
      "metadata": {
        "id": "hN-QoMDV_P1x"
      },
      "execution_count": 61,
      "outputs": []
    },
    {
      "cell_type": "markdown",
      "source": [
        "### Encode label"
      ],
      "metadata": {
        "id": "C41wjDz6Bgjc"
      }
    },
    {
      "cell_type": "code",
      "source": [
        "from sklearn.preprocessing import LabelEncoder\n",
        "\n",
        "le = LabelEncoder()\n",
        "y = le.fit_transform(y)"
      ],
      "metadata": {
        "id": "6E5Sk4x2BiNf"
      },
      "execution_count": 62,
      "outputs": []
    },
    {
      "cell_type": "markdown",
      "source": [
        "### Split dataset into training and test set"
      ],
      "metadata": {
        "id": "h_4vEbpJ_qoj"
      }
    },
    {
      "cell_type": "code",
      "source": [
        "from sklearn.model_selection import train_test_split\n",
        "\n",
        "x_train, x_test, y_train, y_test = train_test_split(x,y,test_size=0.1,random_state=1)"
      ],
      "metadata": {
        "id": "r1uIWlHr_uop"
      },
      "execution_count": 63,
      "outputs": []
    },
    {
      "cell_type": "markdown",
      "source": [
        "### Feature scaling"
      ],
      "metadata": {
        "id": "42ecKQftCEqq"
      }
    },
    {
      "cell_type": "code",
      "source": [
        "from sklearn.preprocessing import StandardScaler\n",
        "\n",
        "sc = StandardScaler()\n",
        "x_train = sc.fit_transform(x_train)\n",
        "x_test = sc.transform(x_test)"
      ],
      "metadata": {
        "id": "KYslGXT9CGvv"
      },
      "execution_count": 64,
      "outputs": []
    },
    {
      "cell_type": "markdown",
      "source": [
        "### Training logistic regression on training data"
      ],
      "metadata": {
        "id": "GKqLA0cJ_90s"
      }
    },
    {
      "cell_type": "code",
      "source": [
        "from sklearn.linear_model import LogisticRegression\n",
        "from sklearn.metrics import confusion_matrix, accuracy_score\n",
        "from sklearn.model_selection import cross_val_score\n",
        "\n",
        "classifier = LogisticRegression()\n",
        "classifier.fit(x_train, y_train)\n",
        "\n",
        "y_pred = classifier.predict(x_test)\n",
        "\n",
        "cm = confusion_matrix(y_test, y_pred)\n",
        "print(cm)\n",
        "\n",
        "ac = accuracy_score(y_test, y_pred)\n",
        "print(ac)\n",
        "\n",
        "accuracies = cross_val_score(estimator=classifier, X = x_train, y = y_train, cv = 10)\n",
        "print('K Fold Cross validation: {:.2f} %'.format(accuracies.mean() * 100))\n",
        "print('Standard diviation: {:.2f} %'.format(accuracies.std() * 100))"
      ],
      "metadata": {
        "colab": {
          "base_uri": "https://localhost:8080/"
        },
        "id": "SVkILfqKAO29",
        "outputId": "53f56855-ee01-4bcf-ba19-09e6bd0d4fb1"
      },
      "execution_count": 74,
      "outputs": [
        {
          "output_type": "stream",
          "name": "stdout",
          "text": [
            "[[11  1]\n",
            " [ 3  6]]\n",
            "0.8095238095238095\n",
            "K Fold Cross validation: 80.58 %\n",
            "Standard diviation: 5.69 %\n"
          ]
        }
      ]
    },
    {
      "cell_type": "markdown",
      "source": [
        "### Training k nearest neighbour on training data"
      ],
      "metadata": {
        "id": "KJRWfboeCnl6"
      }
    },
    {
      "cell_type": "code",
      "source": [
        "from sklearn.neighbors import KNeighborsClassifier\n",
        "\n",
        "classifier = KNeighborsClassifier(n_neighbors=5,metric='minkowski',p=2)\n",
        "classifier.fit(x_train, y_train)\n",
        "\n",
        "y_pred = classifier.predict(x_test)\n",
        "\n",
        "cm = confusion_matrix(y_test, y_pred)\n",
        "print(cm)\n",
        "\n",
        "ac = accuracy_score(y_test, y_pred)\n",
        "print(ac)\n",
        "\n",
        "accuracies = cross_val_score(estimator=classifier, X = x_train, y = y_train, cv = 10)\n",
        "print('K Fold Cross validation: {:.2f} %'.format(accuracies.mean() * 100))\n",
        "print('Standard diviation: {:.2f} %'.format(accuracies.std() * 100))"
      ],
      "metadata": {
        "colab": {
          "base_uri": "https://localhost:8080/"
        },
        "id": "hbSnFDT6CuY9",
        "outputId": "6957c6c3-0bb7-4a3d-f5e2-42365c56dd45"
      },
      "execution_count": 75,
      "outputs": [
        {
          "output_type": "stream",
          "name": "stdout",
          "text": [
            "[[12  0]\n",
            " [ 2  7]]\n",
            "0.9047619047619048\n",
            "K Fold Cross validation: 83.89 %\n",
            "Standard diviation: 7.82 %\n"
          ]
        }
      ]
    },
    {
      "cell_type": "markdown",
      "source": [
        "### Training svm on training data"
      ],
      "metadata": {
        "id": "Rtoes4Y2DELa"
      }
    },
    {
      "cell_type": "code",
      "source": [
        "from sklearn.svm import SVC\n",
        "\n",
        "classifier = SVC(kernel='linear',random_state=0)\n",
        "classifier.fit(x_train, y_train)\n",
        "\n",
        "y_pred = classifier.predict(x_test)\n",
        "\n",
        "cm = confusion_matrix(y_test, y_pred)\n",
        "print(cm)\n",
        "\n",
        "ac = accuracy_score(y_test, y_pred)\n",
        "print(ac)\n",
        "\n",
        "accuracies = cross_val_score(estimator=classifier, X = x_train, y = y_train, cv = 10)\n",
        "print('K Fold Cross validation: {:.2f} %'.format(accuracies.mean() * 100))\n",
        "print('Standard diviation: {:.2f} %'.format(accuracies.std() * 100))"
      ],
      "metadata": {
        "colab": {
          "base_uri": "https://localhost:8080/"
        },
        "id": "4bwG-wqiDJ1X",
        "outputId": "4d3322c0-3e24-49b7-9edf-7d65c6f19670"
      },
      "execution_count": 76,
      "outputs": [
        {
          "output_type": "stream",
          "name": "stdout",
          "text": [
            "[[11  1]\n",
            " [ 4  5]]\n",
            "0.7619047619047619\n",
            "K Fold Cross validation: 78.95 %\n",
            "Standard diviation: 5.96 %\n"
          ]
        }
      ]
    },
    {
      "cell_type": "markdown",
      "source": [
        "### Training kernel svm on training data"
      ],
      "metadata": {
        "id": "y6AYQKVKDm_Y"
      }
    },
    {
      "cell_type": "code",
      "source": [
        "classifier = SVC(kernel='rbf',random_state=0)\n",
        "classifier.fit(x_train, y_train)\n",
        "\n",
        "y_pred = classifier.predict(x_test)\n",
        "\n",
        "cm = confusion_matrix(y_test, y_pred)\n",
        "print(cm)\n",
        "\n",
        "ac = accuracy_score(y_test, y_pred)\n",
        "print(ac)\n",
        "\n",
        "accuracies = cross_val_score(estimator=classifier, X = x_train, y = y_train, cv = 10)\n",
        "print('K Fold Cross validation: {:.2f} %'.format(accuracies.mean() * 100))\n",
        "print('Standard diviation: {:.2f} %'.format(accuracies.std() * 100))"
      ],
      "metadata": {
        "colab": {
          "base_uri": "https://localhost:8080/"
        },
        "id": "Ht2CGt9-DpKP",
        "outputId": "72fb583b-7a06-4c5c-ab82-b4c6a0afe053"
      },
      "execution_count": 77,
      "outputs": [
        {
          "output_type": "stream",
          "name": "stdout",
          "text": [
            "[[12  0]\n",
            " [ 2  7]]\n",
            "0.9047619047619048\n",
            "K Fold Cross validation: 83.89 %\n",
            "Standard diviation: 7.82 %\n"
          ]
        }
      ]
    },
    {
      "cell_type": "markdown",
      "source": [
        "### Training naive bayes on training data"
      ],
      "metadata": {
        "id": "68z6k5d0DyXQ"
      }
    },
    {
      "cell_type": "code",
      "source": [
        "from sklearn.naive_bayes import GaussianNB\n",
        "\n",
        "classifier = GaussianNB()\n",
        "classifier.fit(x_train, y_train)\n",
        "\n",
        "y_pred = classifier.predict(x_test)\n",
        "\n",
        "cm = confusion_matrix(y_test, y_pred)\n",
        "print(cm)\n",
        "\n",
        "ac = accuracy_score(y_test, y_pred)\n",
        "print(ac)\n",
        "\n",
        "accuracies = cross_val_score(estimator=classifier, X = x_train, y = y_train, cv = 10)\n",
        "print('K Fold Cross validation: {:.2f} %'.format(accuracies.mean() * 100))\n",
        "print('Standard diviation: {:.2f} %'.format(accuracies.std() * 100))"
      ],
      "metadata": {
        "colab": {
          "base_uri": "https://localhost:8080/"
        },
        "id": "engQRv86D06n",
        "outputId": "1493e935-b32e-4ba7-e514-31761172cf1c"
      },
      "execution_count": 78,
      "outputs": [
        {
          "output_type": "stream",
          "name": "stdout",
          "text": [
            "[[5 7]\n",
            " [2 7]]\n",
            "0.5714285714285714\n",
            "K Fold Cross validation: 65.76 %\n",
            "Standard diviation: 11.14 %\n"
          ]
        }
      ]
    },
    {
      "cell_type": "markdown",
      "source": [
        "### Training decision tree classification on training data"
      ],
      "metadata": {
        "id": "Y5typWabECY0"
      }
    },
    {
      "cell_type": "code",
      "source": [
        "from sklearn.tree import DecisionTreeClassifier\n",
        "\n",
        "classifier = DecisionTreeClassifier(random_state=0)\n",
        "classifier.fit(x_train, y_train)\n",
        "\n",
        "y_pred = classifier.predict(x_test)\n",
        "\n",
        "cm = confusion_matrix(y_test, y_pred)\n",
        "print(cm)\n",
        "\n",
        "ac = accuracy_score(y_test, y_pred)\n",
        "print(ac)\n",
        "\n",
        "accuracies = cross_val_score(estimator=classifier, X = x_train, y = y_train, cv = 10)\n",
        "print('K Fold Cross validation: {:.2f} %'.format(accuracies.mean() * 100))\n",
        "print('Standard diviation: {:.2f} %'.format(accuracies.std() * 100))"
      ],
      "metadata": {
        "colab": {
          "base_uri": "https://localhost:8080/"
        },
        "id": "4HhNb8TuEHeK",
        "outputId": "1fe8c795-4d67-406f-f4bd-44cde098994f"
      },
      "execution_count": 79,
      "outputs": [
        {
          "output_type": "stream",
          "name": "stdout",
          "text": [
            "[[10  2]\n",
            " [ 2  7]]\n",
            "0.8095238095238095\n",
            "K Fold Cross validation: 72.46 %\n",
            "Standard diviation: 9.38 %\n"
          ]
        }
      ]
    },
    {
      "cell_type": "markdown",
      "source": [
        "### Training random forest classification on training data"
      ],
      "metadata": {
        "id": "mblxF1_dEQmH"
      }
    },
    {
      "cell_type": "code",
      "source": [
        "from sklearn.ensemble import RandomForestClassifier\n",
        "\n",
        "classifier = RandomForestClassifier(n_estimators=10,random_state=0)\n",
        "classifier.fit(x_train, y_train)\n",
        "\n",
        "y_pred = classifier.predict(x_test)\n",
        "\n",
        "cm = confusion_matrix(y_test, y_pred)\n",
        "print(cm)\n",
        "\n",
        "ac = accuracy_score(y_test, y_pred)\n",
        "print(ac)\n",
        "\n",
        "accuracies = cross_val_score(estimator=classifier, X = x_train, y = y_train, cv = 10)\n",
        "print('K Fold Cross validation: {:.2f} %'.format(accuracies.mean() * 100))\n",
        "print('Standard diviation: {:.2f} %'.format(accuracies.std() * 100))"
      ],
      "metadata": {
        "colab": {
          "base_uri": "https://localhost:8080/"
        },
        "id": "B4EQpyc5ETM1",
        "outputId": "88ed34ad-9248-43fa-9961-4da0d291815f"
      },
      "execution_count": 80,
      "outputs": [
        {
          "output_type": "stream",
          "name": "stdout",
          "text": [
            "[[10  2]\n",
            " [ 3  6]]\n",
            "0.7619047619047619\n",
            "K Fold Cross validation: 77.95 %\n",
            "Standard diviation: 6.17 %\n"
          ]
        }
      ]
    }
  ]
}